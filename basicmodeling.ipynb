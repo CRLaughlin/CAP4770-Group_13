{
 "cells": [
  {
   "cell_type": "code",
   "execution_count": 1,
   "metadata": {},
   "outputs": [],
   "source": [
    "import numpy as np\n",
    "import pandas as pd\n",
    "from sklearn.ensemble import RandomForestRegressor\n",
    "from sklearn.model_selection import RandomizedSearchCV\n",
    "from sklearn.tree import export_graphviz\n",
    "from sklearn.metrics import mean_absolute_error\n",
    "from sklearn.metrics import explained_variance_score\n",
    "from sklearn.metrics import mean_squared_error\n",
    "from sklearn.metrics import mean_squared_log_error\n",
    "from sklearn.metrics import median_absolute_error\n",
    "from sklearn.metrics import r2_score\n",
    "from sklearn import linear_model"
   ]
  },
  {
   "cell_type": "code",
   "execution_count": 47,
   "metadata": {},
   "outputs": [],
   "source": [
    "train = pd.read_csv('trainPrepDone.csv')\n",
    "test = pd.read_csv('testPrepDone.csv')\n",
    "testResults = pd.read_csv('trueResults.csv')"
   ]
  },
  {
   "cell_type": "code",
   "execution_count": 51,
   "metadata": {},
   "outputs": [
    {
     "name": "stderr",
     "output_type": "stream",
     "text": [
      "/Users/hyunchoi/anaconda3/lib/python3.7/site-packages/ipykernel_launcher.py:1: RuntimeWarning: divide by zero encountered in log\n",
      "  \"\"\"Entry point for launching an IPython kernel.\n"
     ]
    }
   ],
   "source": [
    "testy = np.log(testResults['revenue'])"
   ]
  },
  {
   "cell_type": "code",
   "execution_count": 5,
   "metadata": {},
   "outputs": [
    {
     "data": {
      "text/plain": [
       "Index(['Unnamed: 0', 'id', 'budget', 'popularity', 'runtime', 'revenue',\n",
       "       'has_collection', 'log_revenue', 'release_year', 'director_success',\n",
       "       'producer_success', 'actor1_success', 'actor2_success', 'log_budget',\n",
       "       'Drama', 'Adventure', 'Fantasy', 'Western', 'Thriller', 'Animation',\n",
       "       'Action', 'Mystery', 'Foreign', 'Science Fiction', 'Documentary',\n",
       "       'Family', 'adjusted_budget'],\n",
       "      dtype='object')"
      ]
     },
     "execution_count": 5,
     "metadata": {},
     "output_type": "execute_result"
    }
   ],
   "source": [
    "train.columns"
   ]
  },
  {
   "cell_type": "code",
   "execution_count": 17,
   "metadata": {},
   "outputs": [],
   "source": [
    "cols = ['log_budget','popularity', 'has_collection','Drama','Adventure','Fantasy','Western','Thriller','Animation','Action','Mystery','Foreign','Science Fiction','Documentary','Family','director_success','producer_success','actor1_success','actor2_success']\n",
    "trainx = train[cols]\n",
    "testx = test[cols]\n",
    "trainy = train['log_revenue']"
   ]
  },
  {
   "cell_type": "code",
   "execution_count": 18,
   "metadata": {},
   "outputs": [],
   "source": [
    "lm_by = linear_model.LinearRegression()\n",
    "lin_model_by = lm_by.fit(trainx, trainy)\n",
    "lin_predictions_by = lm_by.predict(testx)"
   ]
  },
  {
   "cell_type": "code",
   "execution_count": 37,
   "metadata": {},
   "outputs": [],
   "source": [
    "lin_predictions_by = lin_predictions_by[testy != -np.inf]\n",
    "testy2 = testy[testy != -np.inf]"
   ]
  },
  {
   "cell_type": "code",
   "execution_count": 62,
   "metadata": {},
   "outputs": [
    {
     "name": "stdout",
     "output_type": "stream",
     "text": [
      "5.589965328427171\n",
      "0.3796118741245501\n"
     ]
    }
   ],
   "source": [
    "print(mean_squared_error(testy2, lin_predictions_by))\n",
    "print(r2_score(testy2, lin_predictions_by))"
   ]
  },
  {
   "cell_type": "code",
   "execution_count": 83,
   "metadata": {},
   "outputs": [
    {
     "name": "stderr",
     "output_type": "stream",
     "text": [
      "/Users/hyunchoi/anaconda3/lib/python3.7/site-packages/sklearn/ensemble/forest.py:246: FutureWarning: The default value of n_estimators will change from 10 in version 0.20 to 100 in 0.22.\n",
      "  \"10 in version 0.20 to 100 in 0.22.\", FutureWarning)\n"
     ]
    }
   ],
   "source": [
    "rf = RandomForestRegressor(max_depth=8)\n",
    "rf.fit(trainx, trainy)\n",
    "preds = rf.predict(testx)"
   ]
  },
  {
   "cell_type": "code",
   "execution_count": 84,
   "metadata": {},
   "outputs": [],
   "source": [
    "preds = preds[testy != -np.inf]\n",
    "#testy2 = testy[testy != -np.inf]"
   ]
  },
  {
   "cell_type": "code",
   "execution_count": 85,
   "metadata": {},
   "outputs": [
    {
     "name": "stdout",
     "output_type": "stream",
     "text": [
      "4.927930063760908\n",
      "0.45308617905826665\n"
     ]
    }
   ],
   "source": [
    "print(mean_squared_error(testy2, preds))\n",
    "print(r2_score(testy2, preds))"
   ]
  },
  {
   "cell_type": "code",
   "execution_count": 89,
   "metadata": {},
   "outputs": [
    {
     "name": "stdout",
     "output_type": "stream",
     "text": [
      "Collecting setuptools\n",
      "\u001b[?25l  Downloading https://files.pythonhosted.org/packages/61/a2/82b506a6cdb42cc79a65d5a9e790112cf6b98ee7aba4a53a2b9c9c8047d0/setuptools-42.0.0-py2.py3-none-any.whl (582kB)\n",
      "\u001b[K     |████████████████████████████████| 583kB 891kB/s eta 0:00:01\n",
      "\u001b[?25hCollecting wheel\n",
      "  Downloading https://files.pythonhosted.org/packages/00/83/b4a77d044e78ad1a45610eb88f745be2fd2c6d658f9798a15e384b7d57c9/wheel-0.33.6-py2.py3-none-any.whl\n",
      "Collecting numpy\n",
      "\u001b[?25l  Downloading https://files.pythonhosted.org/packages/60/9a/a6b3168f2194fb468dcc4cf54c8344d1f514935006c3347ede198e968cb0/numpy-1.17.4-cp37-cp37m-macosx_10_9_x86_64.whl (15.1MB)\n",
      "\u001b[K     |████████████████████████████████| 15.1MB 13.5MB/s eta 0:00:01   |█████▌                          | 2.6MB 6.0MB/s eta 0:00:03     |█████████                       | 4.2MB 6.0MB/s eta 0:00:02     |████████████████▍               | 7.7MB 6.0MB/s eta 0:00:02\n",
      "\u001b[?25hCollecting scipy\n",
      "\u001b[?25l  Downloading https://files.pythonhosted.org/packages/43/df/3f85a3a762e5dd8d593614288c1f86a5dfbb8b20071192e850d1a9934e7d/scipy-1.3.3-cp37-cp37m-macosx_10_6_intel.whl (27.7MB)\n",
      "\u001b[K     |████████████████████████████████| 27.7MB 1.1MB/s  eta 0:00:01    |████████▏                       | 7.1MB 13.5MB/s eta 0:00:02     |███████████▏                    | 9.7MB 6.1MB/s eta 0:00:03     |██████████████████████          | 19.1MB 11.0MB/s eta 0:00:01     |███████████████████████████▎    | 23.6MB 11.0MB/s eta 0:00:01\n",
      "\u001b[?25hCollecting scikit-learn\n",
      "\u001b[?25l  Downloading https://files.pythonhosted.org/packages/e9/57/8a9889d49d0d77905af5a7524fb2b468d2ef5fc723684f51f5ca63efed0d/scikit_learn-0.21.3-cp37-cp37m-macosx_10_6_intel.macosx_10_9_intel.macosx_10_9_x86_64.macosx_10_10_intel.macosx_10_10_x86_64.whl (10.5MB)\n",
      "\u001b[K     |████████████████████████████████| 10.5MB 6.7MB/s eta 0:00:01\n",
      "\u001b[?25hCollecting joblib>=0.11\n",
      "\u001b[?25l  Downloading https://files.pythonhosted.org/packages/8f/42/155696f85f344c066e17af287359c9786b436b1bf86029bb3411283274f3/joblib-0.14.0-py2.py3-none-any.whl (294kB)\n",
      "\u001b[K     |████████████████████████████████| 296kB 8.0MB/s eta 0:00:01\n",
      "\u001b[?25hInstalling collected packages: setuptools, wheel, numpy, scipy, joblib, scikit-learn\n",
      "  Found existing installation: setuptools 40.6.3\n",
      "    Uninstalling setuptools-40.6.3:\n",
      "      Successfully uninstalled setuptools-40.6.3\n",
      "  Found existing installation: wheel 0.32.3\n",
      "    Uninstalling wheel-0.32.3:\n",
      "      Successfully uninstalled wheel-0.32.3\n",
      "  Found existing installation: numpy 1.15.4\n",
      "    Uninstalling numpy-1.15.4:\n",
      "      Successfully uninstalled numpy-1.15.4\n",
      "  Found existing installation: scipy 1.1.0\n",
      "    Uninstalling scipy-1.1.0:\n",
      "      Successfully uninstalled scipy-1.1.0\n",
      "  Found existing installation: scikit-learn 0.20.1\n",
      "    Uninstalling scikit-learn-0.20.1:\n",
      "      Successfully uninstalled scikit-learn-0.20.1\n",
      "Successfully installed joblib-0.14.0 numpy-1.17.4 scikit-learn-0.21.3 scipy-1.3.3 setuptools-42.0.0 wheel-0.33.6\n"
     ]
    }
   ],
   "source": [
    "import lightgbm as lgb"
   ]
  }
 ],
 "metadata": {
  "kernelspec": {
   "display_name": "Python 3",
   "language": "python",
   "name": "python3"
  },
  "language_info": {
   "codemirror_mode": {
    "name": "ipython",
    "version": 3
   },
   "file_extension": ".py",
   "mimetype": "text/x-python",
   "name": "python",
   "nbconvert_exporter": "python",
   "pygments_lexer": "ipython3",
   "version": "3.7.1"
  }
 },
 "nbformat": 4,
 "nbformat_minor": 2
}
