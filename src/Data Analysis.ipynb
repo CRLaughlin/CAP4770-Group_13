{
 "cells": [
  {
   "cell_type": "code",
   "execution_count": 1,
   "metadata": {},
   "outputs": [],
   "source": [
    "import pandas as pd\n",
    "import matplotlib.pyplot as plt\n",
    "import numpy as np"
   ]
  },
  {
   "cell_type": "code",
   "execution_count": 3,
   "metadata": {},
   "outputs": [],
   "source": [
    "data = pd.read_csv('train.csv')"
   ]
  },
  {
   "cell_type": "code",
   "execution_count": 5,
   "metadata": {},
   "outputs": [],
   "source": [
    "na_revenue = data.loc[data['belongs_to_collection'].isna(), 'revenue']\n",
    "col_revenue = data.loc[data['belongs_to_collection'].notnull(),'revenue']"
   ]
  },
  {
   "cell_type": "code",
   "execution_count": 6,
   "metadata": {},
   "outputs": [
    {
     "name": "stdout",
     "output_type": "stream",
     "text": [
      "Number of movies not in collection: 2396\n",
      "Number of movies in collection: 604\n"
     ]
    }
   ],
   "source": [
    "print('Number of movies not in collection:',len(na_revenue))\n",
    "print('Number of movies in collection:', len(col_revenue))"
   ]
  },
  {
   "cell_type": "code",
   "execution_count": 12,
   "metadata": {},
   "outputs": [],
   "source": [
    "revs = [na_revenue, col_revenue]"
   ]
  },
  {
   "cell_type": "code",
   "execution_count": 8,
   "metadata": {},
   "outputs": [
    {
     "data": {
      "image/png": "[encoded data removed]",
      "text/plain": [
       "<Figure size 648x432 with 1 Axes>"
      ]
     },
     "metadata": {
      "needs_background": "light"
     },
     "output_type": "display_data"
    }
   ],
   "source": [
    "fig = plt.figure(1, figsize=(9, 6))\n",
    "ax = fig.add_subplot(111)\n",
    "bp = ax.boxplot(revs)\n",
    "ax.set_xticklabels(['Not Collection', 'Collection'])\n",
    "ax.set_ylabel('revenue')\n",
    "fig.savefig('diffcollection.png', bbox_inches='tight')"
   ]
  },
  {
   "cell_type": "code",
   "execution_count": 13,
   "metadata": {},
   "outputs": [
    {
     "name": "stdout",
     "output_type": "stream",
     "text": [
      "Interquartile range for solo\n",
      "25%: 1500000.0\t50%: 11407586.5\t75%: 48037395.5\n",
      "Interquartile range for collection\n",
      "25%: 17244570.0\t50%: 67417776.0\t75%: 189376384.75\n",
      "Difference\n",
      "25%: -15744570.0\t50%: -56010189.5\t75%: -141338989.25\n"
     ]
    }
   ],
   "source": [
    "q75n, q50n, q25n = np.percentile(revs[0], [75,50,25])\n",
    "q75c, q50c, q25c = np.percentile(revs[1],[75,50,25])\n",
    "\n",
    "print('Interquartile range for solo\\n25%: {}\\t50%: {}\\t75%: {}'.format(q25n, q50n, q75n))\n",
    "print('Interquartile range for collection\\n25%: {}\\t50%: {}\\t75%: {}'.format(q25c, q50c, q75c))\n",
    "print('Difference\\n25%: {}\\t50%: {}\\t75%: {}'.format(q25n-q25c, q50n-q50c, q75n-q75c))"
   ]
  },
  {
   "cell_type": "code",
   "execution_count": 9,
   "metadata": {},
   "outputs": [],
   "source": [
    "revs = [np.log(na_revenue), np.log(col_revenue)]"
   ]
  },
  {
   "cell_type": "code",
   "execution_count": 10,
   "metadata": {},
   "outputs": [
    {
     "data": {
      "image/png": "[encoded data removed]",
      "text/plain": [
       "<Figure size 648x432 with 1 Axes>"
      ]
     },
     "metadata": {
      "needs_background": "light"
     },
     "output_type": "display_data"
    }
   ],
   "source": [
    "fig = plt.figure(1, figsize=(9, 6))\n",
    "ax = fig.add_subplot(111)\n",
    "bp = ax.boxplot(revs)\n",
    "ax.set_xticklabels(['Not Collection', 'Collection'])\n",
    "ax.set_ylabel('log revenue')\n",
    "fig.savefig('logdiffcollection.png', bbox_inches='tight')"
   ]
  },
  {
   "cell_type": "code",
   "execution_count": 11,
   "metadata": {},
   "outputs": [
    {
     "name": "stdout",
     "output_type": "stream",
     "text": [
      "Interquartile range for solo\n",
      "25%: 14.22097566607244\t50%: 16.249789111229923\t75%: 17.687490280735595\n",
      "Interquartile range for collection\n",
      "25%: 16.66300140247109\t50%: 18.026413714943857\t75%: 19.059241616279774\n",
      "Difference\n",
      "25%: -2.4420257363986497\t50%: -1.776624603713934\t75%: -1.3717513355441788\n"
     ]
    }
   ],
   "source": [
    "q75n, q50n, q25n = np.percentile(revs[0], [75,50,25])\n",
    "q75c, q50c, q25c = np.percentile(revs[1],[75,50,25])\n",
    "\n",
    "print('Interquartile range for solo\\n25%: {}\\t50%: {}\\t75%: {}'.format(q25n, q50n, q75n))\n",
    "print('Interquartile range for collection\\n25%: {}\\t50%: {}\\t75%: {}'.format(q25c, q50c, q75c))\n",
    "print('Difference\\n25%: {}\\t50%: {}\\t75%: {}'.format(q25n-q25c, q50n-q50c, q75n-q75c))\n",
    "\n",
    "#Correlation that belonging in a collection means higher revenue"
   ]
  },
  {
   "cell_type": "code",
   "execution_count": 49,
   "metadata": {},
   "outputs": [],
   "source": [
    "use_data = pd.DataFrame()\n",
    "use_data['iscollect'] = data['belongs_to_collection'].notnull().astype('int')\n",
    "use_data['revenue'] = np.log(data['revenue'])"
   ]
  },
  {
   "cell_type": "code",
   "execution_count": 15,
   "metadata": {},
   "outputs": [],
   "source": [
    "import json"
   ]
  },
  {
   "cell_type": "code",
   "execution_count": 16,
   "metadata": {},
   "outputs": [],
   "source": [
    "genres = data['genres']"
   ]
  },
  {
   "cell_type": "code",
   "execution_count": 17,
   "metadata": {},
   "outputs": [],
   "source": [
    "unique_genres = set()\n",
    "for gen in genres:\n",
    "    try:\n",
    "        names = json.loads(gen.replace(\"'\",'\"'))\n",
    "        name_list = [name['name'] for name in names]\n",
    "        unique_genres.update(name_list)\n",
    "    except:\n",
    "        pass"
   ]
  },
  {
   "cell_type": "code",
   "execution_count": 18,
   "metadata": {},
   "outputs": [
    {
     "data": {
      "text/plain": [
       "['Drama',\n",
       " 'Crime',\n",
       " 'Documentary',\n",
       " 'Thriller',\n",
       " 'Music',\n",
       " 'TV Movie',\n",
       " 'Foreign',\n",
       " 'Science Fiction',\n",
       " 'Fantasy',\n",
       " 'Adventure',\n",
       " 'Action',\n",
       " 'Animation',\n",
       " 'History',\n",
       " 'Horror',\n",
       " 'War',\n",
       " 'Romance',\n",
       " 'Western',\n",
       " 'Comedy',\n",
       " 'Mystery',\n",
       " 'Family']"
      ]
     },
     "execution_count": 18,
     "metadata": {},
     "output_type": "execute_result"
    }
   ],
   "source": [
    "list(unique_genres)"
   ]
  },
  {
   "cell_type": "code",
   "execution_count": 50,
   "metadata": {},
   "outputs": [],
   "source": [
    "use_data = use_data.reindex(list(unique_genres)+['iscollect','revenue'],fill_value=0,axis='columns')"
   ]
  },
  {
   "cell_type": "code",
   "execution_count": 51,
   "metadata": {},
   "outputs": [],
   "source": [
    "for i, gen in enumerate(genres):\n",
    "    try:\n",
    "        names = json.loads(gen.replace(\"'\",'\"'))\n",
    "        name_list = [name['name'] for name in names]\n",
    "        for n in name_list:\n",
    "            use_data.at[i,n] = 1\n",
    "    except:\n",
    "        pass"
   ]
  },
  {
   "cell_type": "code",
   "execution_count": 52,
   "metadata": {},
   "outputs": [
    {
     "data": {
      "text/html": [
       "<div>\n",
       "<style scoped>\n",
       "    .dataframe tbody tr th:only-of-type {\n",
       "        vertical-align: middle;\n",
       "    }\n",
       "\n",
       "    .dataframe tbody tr th {\n",
       "        vertical-align: top;\n",
       "    }\n",
       "\n",
       "    .dataframe thead th {\n",
       "        text-align: right;\n",
       "    }\n",
       "</style>\n",
       "<table border=\"1\" class=\"dataframe\">\n",
       "  <thead>\n",
       "    <tr style=\"text-align: right;\">\n",
       "      <th></th>\n",
       "      <th>Drama</th>\n",
       "      <th>Crime</th>\n",
       "      <th>Documentary</th>\n",
       "      <th>Thriller</th>\n",
       "      <th>Music</th>\n",
       "      <th>TV Movie</th>\n",
       "      <th>Foreign</th>\n",
       "      <th>Science Fiction</th>\n",
       "      <th>Fantasy</th>\n",
       "      <th>Adventure</th>\n",
       "      <th>...</th>\n",
       "      <th>History</th>\n",
       "      <th>Horror</th>\n",
       "      <th>War</th>\n",
       "      <th>Romance</th>\n",
       "      <th>Western</th>\n",
       "      <th>Comedy</th>\n",
       "      <th>Mystery</th>\n",
       "      <th>Family</th>\n",
       "      <th>iscollect</th>\n",
       "      <th>revenue</th>\n",
       "    </tr>\n",
       "  </thead>\n",
       "  <tbody>\n",
       "    <tr>\n",
       "      <th>0</th>\n",
       "      <td>0</td>\n",
       "      <td>0</td>\n",
       "      <td>0</td>\n",
       "      <td>0</td>\n",
       "      <td>0</td>\n",
       "      <td>0</td>\n",
       "      <td>0</td>\n",
       "      <td>0</td>\n",
       "      <td>0</td>\n",
       "      <td>0</td>\n",
       "      <td>...</td>\n",
       "      <td>0</td>\n",
       "      <td>0</td>\n",
       "      <td>0</td>\n",
       "      <td>0</td>\n",
       "      <td>0</td>\n",
       "      <td>1</td>\n",
       "      <td>0</td>\n",
       "      <td>0</td>\n",
       "      <td>1</td>\n",
       "      <td>16.326300</td>\n",
       "    </tr>\n",
       "    <tr>\n",
       "      <th>1</th>\n",
       "      <td>1</td>\n",
       "      <td>0</td>\n",
       "      <td>0</td>\n",
       "      <td>0</td>\n",
       "      <td>0</td>\n",
       "      <td>0</td>\n",
       "      <td>0</td>\n",
       "      <td>0</td>\n",
       "      <td>0</td>\n",
       "      <td>0</td>\n",
       "      <td>...</td>\n",
       "      <td>0</td>\n",
       "      <td>0</td>\n",
       "      <td>0</td>\n",
       "      <td>1</td>\n",
       "      <td>0</td>\n",
       "      <td>1</td>\n",
       "      <td>0</td>\n",
       "      <td>1</td>\n",
       "      <td>1</td>\n",
       "      <td>18.370959</td>\n",
       "    </tr>\n",
       "    <tr>\n",
       "      <th>2</th>\n",
       "      <td>1</td>\n",
       "      <td>0</td>\n",
       "      <td>0</td>\n",
       "      <td>0</td>\n",
       "      <td>0</td>\n",
       "      <td>0</td>\n",
       "      <td>0</td>\n",
       "      <td>0</td>\n",
       "      <td>0</td>\n",
       "      <td>0</td>\n",
       "      <td>...</td>\n",
       "      <td>0</td>\n",
       "      <td>0</td>\n",
       "      <td>0</td>\n",
       "      <td>0</td>\n",
       "      <td>0</td>\n",
       "      <td>0</td>\n",
       "      <td>0</td>\n",
       "      <td>0</td>\n",
       "      <td>0</td>\n",
       "      <td>16.387512</td>\n",
       "    </tr>\n",
       "    <tr>\n",
       "      <th>3</th>\n",
       "      <td>1</td>\n",
       "      <td>0</td>\n",
       "      <td>0</td>\n",
       "      <td>1</td>\n",
       "      <td>0</td>\n",
       "      <td>0</td>\n",
       "      <td>0</td>\n",
       "      <td>0</td>\n",
       "      <td>0</td>\n",
       "      <td>0</td>\n",
       "      <td>...</td>\n",
       "      <td>0</td>\n",
       "      <td>0</td>\n",
       "      <td>0</td>\n",
       "      <td>0</td>\n",
       "      <td>0</td>\n",
       "      <td>0</td>\n",
       "      <td>0</td>\n",
       "      <td>0</td>\n",
       "      <td>0</td>\n",
       "      <td>16.588099</td>\n",
       "    </tr>\n",
       "    <tr>\n",
       "      <th>4</th>\n",
       "      <td>0</td>\n",
       "      <td>0</td>\n",
       "      <td>0</td>\n",
       "      <td>1</td>\n",
       "      <td>0</td>\n",
       "      <td>0</td>\n",
       "      <td>0</td>\n",
       "      <td>0</td>\n",
       "      <td>0</td>\n",
       "      <td>0</td>\n",
       "      <td>...</td>\n",
       "      <td>0</td>\n",
       "      <td>0</td>\n",
       "      <td>0</td>\n",
       "      <td>0</td>\n",
       "      <td>0</td>\n",
       "      <td>0</td>\n",
       "      <td>0</td>\n",
       "      <td>0</td>\n",
       "      <td>0</td>\n",
       "      <td>15.182614</td>\n",
       "    </tr>\n",
       "  </tbody>\n",
       "</table>\n",
       "<p>5 rows × 22 columns</p>\n",
       "</div>"
      ],
      "text/plain": [
       "   Drama  Crime  Documentary  Thriller  Music  TV Movie  Foreign  \\\n",
       "0      0      0            0         0      0         0        0   \n",
       "1      1      0            0         0      0         0        0   \n",
       "2      1      0            0         0      0         0        0   \n",
       "3      1      0            0         1      0         0        0   \n",
       "4      0      0            0         1      0         0        0   \n",
       "\n",
       "   Science Fiction  Fantasy  Adventure    ...      History  Horror  War  \\\n",
       "0                0        0          0    ...            0       0    0   \n",
       "1                0        0          0    ...            0       0    0   \n",
       "2                0        0          0    ...            0       0    0   \n",
       "3                0        0          0    ...            0       0    0   \n",
       "4                0        0          0    ...            0       0    0   \n",
       "\n",
       "   Romance  Western  Comedy  Mystery  Family  iscollect    revenue  \n",
       "0        0        0       1        0       0          1  16.326300  \n",
       "1        1        0       1        0       1          1  18.370959  \n",
       "2        0        0       0        0       0          0  16.387512  \n",
       "3        0        0       0        0       0          0  16.588099  \n",
       "4        0        0       0        0       0          0  15.182614  \n",
       "\n",
       "[5 rows x 22 columns]"
      ]
     },
     "execution_count": 52,
     "metadata": {},
     "output_type": "execute_result"
    }
   ],
   "source": [
    "use_data.head()"
   ]
  },
  {
   "cell_type": "code",
   "execution_count": 33,
   "metadata": {},
   "outputs": [],
   "source": [
    "rev = data['revenue']"
   ]
  },
  {
   "cell_type": "code",
   "execution_count": 34,
   "metadata": {},
   "outputs": [
    {
     "data": {
      "image/png": "[encoded data removed]",
      "text/plain": [
       "<Figure size 432x288 with 1 Axes>"
      ]
     },
     "metadata": {
      "needs_background": "light"
     },
     "output_type": "display_data"
    }
   ],
   "source": [
    "#Looks like the data has an exponential distribution\n",
    "plt.hist(rev, bins=10)\n",
    "plt.savefig('revhist.png')"
   ]
  },
  {
   "cell_type": "code",
   "execution_count": 22,
   "metadata": {},
   "outputs": [
    {
     "data": {
      "image/png": "[encoded data removed]",
      "text/plain": [
       "<Figure size 432x288 with 1 Axes>"
      ]
     },
     "metadata": {
      "needs_background": "light"
     },
     "output_type": "display_data"
    }
   ],
   "source": [
    "plt.hist(np.log(rev), bins=10)\n",
    "plt.savefig('logrevhist.png')"
   ]
  },
  {
   "cell_type": "code",
   "execution_count": 66,
   "metadata": {},
   "outputs": [
    {
     "name": "stdout",
     "output_type": "stream",
     "text": [
      "Finding difference in log means\n",
      "\n",
      "Drama 15.565119161586344 \tnot Drama 16.371331500893504 \tdiff:  -0.8062123393071605\n",
      "Crime 16.28921137388617 \tnot Crime 15.898871306538387 \tdiff:  0.39034006734778437\n",
      "Documen 12.532945130895138 \tnot Documen 16.062244141714174 \tdiff:  -3.5292990108190363\n",
      "Thrille 16.28132504652562 \tnot Thrille 15.845191293302854 \tdiff:  0.4361337532227658\n",
      "Music 15.67648499076066 \tnot Music 15.969667211077658 \tdiff:  -0.29318222031699825\n",
      "TV Movi 17.553180176247643 \tnot TV Movi 15.959363198074358 \tdiff:  1.593816978173285\n",
      "Foreign 10.934655502729136 \tnot Foreign 16.012364126176045 \tdiff:  -5.0777086234469095\n",
      "Science 16.902018543992522 \tnot Science 15.859076765108275 \tdiff:  1.0429417788842468\n",
      "Fantasy 17.265236336319994 \tnot Fantasy 15.850487204181725 \tdiff:  1.4147491321382688\n",
      "Adventu 17.576902272998787 \tnot Adventu 15.682711172727402 \tdiff:  1.8941911002713852\n",
      "Action 16.852456260697842 \tnot Action 15.667115237726525 \tdiff:  1.1853410229713166\n",
      "Animati 17.1316216395014 \tnot Animati 15.90210729626847 \tdiff:  1.22951434323293\n",
      "History 16.133612561134928 \tnot History 15.95189907710302 \tdiff:  0.18171348403190812\n",
      "Horror 16.084548945189756 \tnot Horror 15.945992656057491 \tdiff:  0.13855628913226425\n",
      "War 16.136653194238505 \tnot War 15.95379934199222 \tdiff:  0.1828538522462857\n",
      "Romance 15.765643862191856 \tnot Romance 16.005558158044362 \tdiff:  -0.2399142958525058\n",
      "Western 15.344658647008904 \tnot Western 15.968841085349972 \tdiff:  -0.6241824383410677\n",
      "Comedy 16.086749079995876 \tnot Comedy 15.893765393998738 \tdiff:  0.1929836859971381\n",
      "Mystery 16.386773697929083 \tnot Mystery 15.925282641141337 \tdiff:  0.4614910567877466\n",
      "Family 17.30978058785003 \tnot Family 15.831803086992798 \tdiff:  1.477977500857234\n"
     ]
    }
   ],
   "source": [
    "print('Finding difference in log means\\n')\n",
    "for g in unique_genres:\n",
    "    gen_rev = use_data.loc[use_data[g]==1,'revenue']\n",
    "    nongen_rev = use_data.loc[use_data[g]==0,'revenue']\n",
    "    print(g[:7], np.mean(gen_rev), \"\\tnot\",g[:7] , np.mean(nongen_rev), \"\\tdiff: \",np.mean(gen_rev)-np.mean(nongen_rev) )"
   ]
  }
 ],
 "metadata": {
  "kernelspec": {
   "display_name": "Python 3",
   "language": "python",
   "name": "python3"
  },
  "language_info": {
   "codemirror_mode": {
    "name": "ipython",
    "version": 3
   },
   "file_extension": ".py",
   "mimetype": "text/x-python",
   "name": "python",
   "nbconvert_exporter": "python",
   "pygments_lexer": "ipython3",
   "version": "3.7.1"
  }
 },
 "nbformat": 4,
 "nbformat_minor": 2
}
