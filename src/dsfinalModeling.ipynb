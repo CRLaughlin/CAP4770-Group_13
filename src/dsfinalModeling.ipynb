{
 "cells": [
  {
   "cell_type": "code",
   "execution_count": 173,
   "metadata": {},
   "outputs": [],
   "source": [
    "import numpy as np\n",
    "import pandas as pd\n",
    "from sklearn.ensemble import RandomForestRegressor\n",
    "from sklearn.model_selection import RandomizedSearchCV\n",
    "from sklearn.tree import export_graphviz\n",
    "import pydot\n",
    "from sklearn.metrics import mean_absolute_error\n",
    "from sklearn.metrics import explained_variance_score\n",
    "from sklearn.metrics import mean_squared_error\n",
    "from sklearn.metrics import mean_squared_log_error\n",
    "from sklearn.metrics import median_absolute_error\n",
    "from sklearn.metrics import r2_score\n",
    "from sklearn import linear_model\n"
   ]
  },
  {
   "cell_type": "code",
   "execution_count": 247,
   "metadata": {},
   "outputs": [],
   "source": [
    "train = pd.read_csv('../data/trainPrepDone.csv')\n",
    "test = pd.read_csv('../data/testPrepDone.csv')\n",
    "testResults = pd.read_csv('../data/trueResults.csv')"
   ]
  },
  {
   "cell_type": "code",
   "execution_count": 248,
   "metadata": {},
   "outputs": [],
   "source": [
    "train = train.fillna(0)\n",
    "test = test.fillna(0)\n",
    "train = train.drop('id', axis = 1)\n",
    "test = test.drop('id', axis = 1)"
   ]
  },
  {
   "cell_type": "code",
   "execution_count": 287,
   "metadata": {},
   "outputs": [],
   "source": [
    "train['culmative_workers_success'] = train.apply(lambda row: row.director_success + row.producer_success + row.actor1_success + row.actor2_success, axis = 1)\n",
    "test['culmative_workers_success'] = test.apply(lambda row: row.director_success + row.producer_success + row.actor1_success + row.actor2_success, axis = 1)\n"
   ]
  },
  {
   "cell_type": "code",
   "execution_count": 249,
   "metadata": {},
   "outputs": [],
   "source": [
    "train_rev_labels = np.array(train['revenue'])\n",
    "test_labels = np.array(testResults['revenue'])"
   ]
  },
  {
   "cell_type": "code",
   "execution_count": 250,
   "metadata": {},
   "outputs": [],
   "source": [
    "train_panda_features = train.drop((['revenue', 'log_revenue', 'budget']), axis = 1)\n",
    "train_list = list(train.columns)\n",
    "test_list = list(test.columns)"
   ]
  },
  {
   "cell_type": "code",
   "execution_count": 251,
   "metadata": {},
   "outputs": [],
   "source": [
    "#remove unnamed\n",
    "train_panda_features = train_panda_features.loc[:, ~train_panda_features.columns.str.contains('^Unnamed')]\n",
    "test = test.loc[:, ~test.columns.str.contains('^Unnamed')]"
   ]
  },
  {
   "cell_type": "code",
   "execution_count": 272,
   "metadata": {},
   "outputs": [
    {
     "data": {
      "text/html": [
       "<div>\n",
       "<style scoped>\n",
       "    .dataframe tbody tr th:only-of-type {\n",
       "        vertical-align: middle;\n",
       "    }\n",
       "\n",
       "    .dataframe tbody tr th {\n",
       "        vertical-align: top;\n",
       "    }\n",
       "\n",
       "    .dataframe thead th {\n",
       "        text-align: right;\n",
       "    }\n",
       "</style>\n",
       "<table border=\"1\" class=\"dataframe\">\n",
       "  <thead>\n",
       "    <tr style=\"text-align: right;\">\n",
       "      <th></th>\n",
       "      <th>Unnamed: 0</th>\n",
       "      <th>budget</th>\n",
       "      <th>popularity</th>\n",
       "      <th>runtime</th>\n",
       "      <th>revenue</th>\n",
       "      <th>has_collection</th>\n",
       "      <th>log_revenue</th>\n",
       "      <th>release_year</th>\n",
       "      <th>director_success</th>\n",
       "      <th>producer_success</th>\n",
       "      <th>...</th>\n",
       "      <th>Western</th>\n",
       "      <th>Thriller</th>\n",
       "      <th>Animation</th>\n",
       "      <th>Action</th>\n",
       "      <th>Mystery</th>\n",
       "      <th>Foreign</th>\n",
       "      <th>Science Fiction</th>\n",
       "      <th>Documentary</th>\n",
       "      <th>Family</th>\n",
       "      <th>adjusted_budget</th>\n",
       "    </tr>\n",
       "  </thead>\n",
       "  <tbody>\n",
       "    <tr>\n",
       "      <td>0</td>\n",
       "      <td>0</td>\n",
       "      <td>14000000</td>\n",
       "      <td>6.575393</td>\n",
       "      <td>93.0</td>\n",
       "      <td>12314651</td>\n",
       "      <td>1</td>\n",
       "      <td>16.326300</td>\n",
       "      <td>2015</td>\n",
       "      <td>5.069332e+07</td>\n",
       "      <td>32768606.0</td>\n",
       "      <td>...</td>\n",
       "      <td>0</td>\n",
       "      <td>0</td>\n",
       "      <td>0</td>\n",
       "      <td>0</td>\n",
       "      <td>0</td>\n",
       "      <td>0</td>\n",
       "      <td>0</td>\n",
       "      <td>0</td>\n",
       "      <td>0</td>\n",
       "      <td>14000000.0</td>\n",
       "    </tr>\n",
       "    <tr>\n",
       "      <td>1</td>\n",
       "      <td>1</td>\n",
       "      <td>40000000</td>\n",
       "      <td>8.248895</td>\n",
       "      <td>113.0</td>\n",
       "      <td>95149435</td>\n",
       "      <td>1</td>\n",
       "      <td>18.370959</td>\n",
       "      <td>2004</td>\n",
       "      <td>1.138730e+08</td>\n",
       "      <td>0.0</td>\n",
       "      <td>...</td>\n",
       "      <td>0</td>\n",
       "      <td>0</td>\n",
       "      <td>0</td>\n",
       "      <td>0</td>\n",
       "      <td>0</td>\n",
       "      <td>0</td>\n",
       "      <td>0</td>\n",
       "      <td>0</td>\n",
       "      <td>1</td>\n",
       "      <td>40000000.0</td>\n",
       "    </tr>\n",
       "    <tr>\n",
       "      <td>2</td>\n",
       "      <td>2</td>\n",
       "      <td>3300000</td>\n",
       "      <td>64.299990</td>\n",
       "      <td>105.0</td>\n",
       "      <td>13092000</td>\n",
       "      <td>0</td>\n",
       "      <td>16.387512</td>\n",
       "      <td>2014</td>\n",
       "      <td>4.454357e+08</td>\n",
       "      <td>75496355.0</td>\n",
       "      <td>...</td>\n",
       "      <td>0</td>\n",
       "      <td>0</td>\n",
       "      <td>0</td>\n",
       "      <td>0</td>\n",
       "      <td>0</td>\n",
       "      <td>0</td>\n",
       "      <td>0</td>\n",
       "      <td>0</td>\n",
       "      <td>0</td>\n",
       "      <td>3300000.0</td>\n",
       "    </tr>\n",
       "    <tr>\n",
       "      <td>3</td>\n",
       "      <td>3</td>\n",
       "      <td>1200000</td>\n",
       "      <td>3.174936</td>\n",
       "      <td>122.0</td>\n",
       "      <td>16000000</td>\n",
       "      <td>0</td>\n",
       "      <td>16.588099</td>\n",
       "      <td>2012</td>\n",
       "      <td>0.000000e+00</td>\n",
       "      <td>0.0</td>\n",
       "      <td>...</td>\n",
       "      <td>0</td>\n",
       "      <td>1</td>\n",
       "      <td>0</td>\n",
       "      <td>0</td>\n",
       "      <td>0</td>\n",
       "      <td>0</td>\n",
       "      <td>0</td>\n",
       "      <td>0</td>\n",
       "      <td>0</td>\n",
       "      <td>1200000.0</td>\n",
       "    </tr>\n",
       "    <tr>\n",
       "      <td>4</td>\n",
       "      <td>4</td>\n",
       "      <td>0</td>\n",
       "      <td>1.148070</td>\n",
       "      <td>118.0</td>\n",
       "      <td>3923970</td>\n",
       "      <td>0</td>\n",
       "      <td>15.182615</td>\n",
       "      <td>2009</td>\n",
       "      <td>0.000000e+00</td>\n",
       "      <td>0.0</td>\n",
       "      <td>...</td>\n",
       "      <td>0</td>\n",
       "      <td>1</td>\n",
       "      <td>0</td>\n",
       "      <td>1</td>\n",
       "      <td>0</td>\n",
       "      <td>0</td>\n",
       "      <td>0</td>\n",
       "      <td>0</td>\n",
       "      <td>0</td>\n",
       "      <td>480672.1</td>\n",
       "    </tr>\n",
       "    <tr>\n",
       "      <td>...</td>\n",
       "      <td>...</td>\n",
       "      <td>...</td>\n",
       "      <td>...</td>\n",
       "      <td>...</td>\n",
       "      <td>...</td>\n",
       "      <td>...</td>\n",
       "      <td>...</td>\n",
       "      <td>...</td>\n",
       "      <td>...</td>\n",
       "      <td>...</td>\n",
       "      <td>...</td>\n",
       "      <td>...</td>\n",
       "      <td>...</td>\n",
       "      <td>...</td>\n",
       "      <td>...</td>\n",
       "      <td>...</td>\n",
       "      <td>...</td>\n",
       "      <td>...</td>\n",
       "      <td>...</td>\n",
       "      <td>...</td>\n",
       "      <td>...</td>\n",
       "    </tr>\n",
       "    <tr>\n",
       "      <td>2995</td>\n",
       "      <td>2995</td>\n",
       "      <td>0</td>\n",
       "      <td>9.853270</td>\n",
       "      <td>102.0</td>\n",
       "      <td>1596687</td>\n",
       "      <td>0</td>\n",
       "      <td>14.283442</td>\n",
       "      <td>1994</td>\n",
       "      <td>4.661607e+07</td>\n",
       "      <td>6804698.0</td>\n",
       "      <td>...</td>\n",
       "      <td>0</td>\n",
       "      <td>0</td>\n",
       "      <td>0</td>\n",
       "      <td>0</td>\n",
       "      <td>0</td>\n",
       "      <td>0</td>\n",
       "      <td>0</td>\n",
       "      <td>0</td>\n",
       "      <td>0</td>\n",
       "      <td>480672.1</td>\n",
       "    </tr>\n",
       "    <tr>\n",
       "      <td>2996</td>\n",
       "      <td>2996</td>\n",
       "      <td>0</td>\n",
       "      <td>3.727996</td>\n",
       "      <td>102.0</td>\n",
       "      <td>180590</td>\n",
       "      <td>0</td>\n",
       "      <td>12.103990</td>\n",
       "      <td>2013</td>\n",
       "      <td>0.000000e+00</td>\n",
       "      <td>0.0</td>\n",
       "      <td>...</td>\n",
       "      <td>0</td>\n",
       "      <td>0</td>\n",
       "      <td>0</td>\n",
       "      <td>0</td>\n",
       "      <td>0</td>\n",
       "      <td>0</td>\n",
       "      <td>0</td>\n",
       "      <td>0</td>\n",
       "      <td>0</td>\n",
       "      <td>480672.1</td>\n",
       "    </tr>\n",
       "    <tr>\n",
       "      <td>2997</td>\n",
       "      <td>2997</td>\n",
       "      <td>65000000</td>\n",
       "      <td>14.482345</td>\n",
       "      <td>120.0</td>\n",
       "      <td>89456761</td>\n",
       "      <td>0</td>\n",
       "      <td>18.309266</td>\n",
       "      <td>1996</td>\n",
       "      <td>5.730421e+07</td>\n",
       "      <td>0.0</td>\n",
       "      <td>...</td>\n",
       "      <td>0</td>\n",
       "      <td>1</td>\n",
       "      <td>0</td>\n",
       "      <td>1</td>\n",
       "      <td>1</td>\n",
       "      <td>0</td>\n",
       "      <td>0</td>\n",
       "      <td>0</td>\n",
       "      <td>0</td>\n",
       "      <td>65000000.0</td>\n",
       "    </tr>\n",
       "    <tr>\n",
       "      <td>2998</td>\n",
       "      <td>2998</td>\n",
       "      <td>42000000</td>\n",
       "      <td>15.725542</td>\n",
       "      <td>90.0</td>\n",
       "      <td>171963386</td>\n",
       "      <td>0</td>\n",
       "      <td>18.962792</td>\n",
       "      <td>2004</td>\n",
       "      <td>0.000000e+00</td>\n",
       "      <td>212684119.0</td>\n",
       "      <td>...</td>\n",
       "      <td>0</td>\n",
       "      <td>0</td>\n",
       "      <td>0</td>\n",
       "      <td>0</td>\n",
       "      <td>0</td>\n",
       "      <td>0</td>\n",
       "      <td>0</td>\n",
       "      <td>0</td>\n",
       "      <td>0</td>\n",
       "      <td>42000000.0</td>\n",
       "    </tr>\n",
       "    <tr>\n",
       "      <td>2999</td>\n",
       "      <td>2999</td>\n",
       "      <td>35000000</td>\n",
       "      <td>10.512109</td>\n",
       "      <td>106.0</td>\n",
       "      <td>82087155</td>\n",
       "      <td>0</td>\n",
       "      <td>18.223292</td>\n",
       "      <td>2011</td>\n",
       "      <td>8.122382e+07</td>\n",
       "      <td>57415055.5</td>\n",
       "      <td>...</td>\n",
       "      <td>0</td>\n",
       "      <td>1</td>\n",
       "      <td>0</td>\n",
       "      <td>1</td>\n",
       "      <td>1</td>\n",
       "      <td>0</td>\n",
       "      <td>0</td>\n",
       "      <td>0</td>\n",
       "      <td>0</td>\n",
       "      <td>35000000.0</td>\n",
       "    </tr>\n",
       "  </tbody>\n",
       "</table>\n",
       "<p>3000 rows × 26 columns</p>\n",
       "</div>"
      ],
      "text/plain": [
       "      Unnamed: 0    budget  popularity  runtime    revenue  has_collection  \\\n",
       "0              0  14000000    6.575393     93.0   12314651               1   \n",
       "1              1  40000000    8.248895    113.0   95149435               1   \n",
       "2              2   3300000   64.299990    105.0   13092000               0   \n",
       "3              3   1200000    3.174936    122.0   16000000               0   \n",
       "4              4         0    1.148070    118.0    3923970               0   \n",
       "...          ...       ...         ...      ...        ...             ...   \n",
       "2995        2995         0    9.853270    102.0    1596687               0   \n",
       "2996        2996         0    3.727996    102.0     180590               0   \n",
       "2997        2997  65000000   14.482345    120.0   89456761               0   \n",
       "2998        2998  42000000   15.725542     90.0  171963386               0   \n",
       "2999        2999  35000000   10.512109    106.0   82087155               0   \n",
       "\n",
       "      log_revenue  release_year  director_success  producer_success  ...  \\\n",
       "0       16.326300          2015      5.069332e+07        32768606.0  ...   \n",
       "1       18.370959          2004      1.138730e+08               0.0  ...   \n",
       "2       16.387512          2014      4.454357e+08        75496355.0  ...   \n",
       "3       16.588099          2012      0.000000e+00               0.0  ...   \n",
       "4       15.182615          2009      0.000000e+00               0.0  ...   \n",
       "...           ...           ...               ...               ...  ...   \n",
       "2995    14.283442          1994      4.661607e+07         6804698.0  ...   \n",
       "2996    12.103990          2013      0.000000e+00               0.0  ...   \n",
       "2997    18.309266          1996      5.730421e+07               0.0  ...   \n",
       "2998    18.962792          2004      0.000000e+00       212684119.0  ...   \n",
       "2999    18.223292          2011      8.122382e+07        57415055.5  ...   \n",
       "\n",
       "      Western  Thriller  Animation  Action  Mystery  Foreign  Science Fiction  \\\n",
       "0           0         0          0       0        0        0                0   \n",
       "1           0         0          0       0        0        0                0   \n",
       "2           0         0          0       0        0        0                0   \n",
       "3           0         1          0       0        0        0                0   \n",
       "4           0         1          0       1        0        0                0   \n",
       "...       ...       ...        ...     ...      ...      ...              ...   \n",
       "2995        0         0          0       0        0        0                0   \n",
       "2996        0         0          0       0        0        0                0   \n",
       "2997        0         1          0       1        1        0                0   \n",
       "2998        0         0          0       0        0        0                0   \n",
       "2999        0         1          0       1        1        0                0   \n",
       "\n",
       "      Documentary  Family  adjusted_budget  \n",
       "0               0       0       14000000.0  \n",
       "1               0       1       40000000.0  \n",
       "2               0       0        3300000.0  \n",
       "3               0       0        1200000.0  \n",
       "4               0       0         480672.1  \n",
       "...           ...     ...              ...  \n",
       "2995            0       0         480672.1  \n",
       "2996            0       0         480672.1  \n",
       "2997            0       0       65000000.0  \n",
       "2998            0       0       42000000.0  \n",
       "2999            0       0       35000000.0  \n",
       "\n",
       "[3000 rows x 26 columns]"
      ]
     },
     "execution_count": 272,
     "metadata": {},
     "output_type": "execute_result"
    }
   ],
   "source": [
    "train"
   ]
  },
  {
   "cell_type": "markdown",
   "metadata": {},
   "source": [
    "Test Combined Success over seperate success"
   ]
  },
  {
   "cell_type": "code",
   "execution_count": 252,
   "metadata": {},
   "outputs": [],
   "source": [
    "train_features_mod2  = train_panda_features\n",
    "test_features_mod2 = test.drop('budget', axis = 1)\n",
    "train_features_mod2['culmative_workers_success'] = train.apply(lambda row: row.director_success + row.producer_success + row.actor1_success + row.actor2_success, axis = 1)\n",
    "test_features_mod2['culmative_workers_success'] = test.apply(lambda row: row.director_success + row.producer_success + row.actor1_success + row.actor2_success, axis = 1)\n",
    "\n",
    "train_features_mod2 = train_features_mod2.drop((['director_success', 'producer_success', 'actor1_success', 'actor2_success']), axis = 1)\n",
    "test_features_mod2 = test_features_mod2.drop((['director_success', 'producer_success', 'actor1_success', 'actor2_success']), axis = 1)\n"
   ]
  },
  {
   "cell_type": "code",
   "execution_count": null,
   "metadata": {},
   "outputs": [],
   "source": [
    "\n"
   ]
  },
  {
   "cell_type": "code",
   "execution_count": null,
   "metadata": {},
   "outputs": [],
   "source": []
  },
  {
   "cell_type": "code",
   "execution_count": 262,
   "metadata": {},
   "outputs": [],
   "source": [
    "train_features = np.array(train_panda_features)\n",
    "test_features = np.array(test.drop('budget', axis = 1).fillna(0))\n",
    "\n",
    "train_features_mod2np = np.array(train_features_mod2)\n",
    "test_features_mod2np = np.array(test_features_mod2)"
   ]
  },
  {
   "cell_type": "markdown",
   "metadata": {},
   "source": [
    "## Test accuracy/importance of features"
   ]
  },
  {
   "cell_type": "markdown",
   "metadata": {},
   "source": [
    "Test Performance of only year and adjusted budget"
   ]
  },
  {
   "cell_type": "code",
   "execution_count": 316,
   "metadata": {},
   "outputs": [],
   "source": [
    "train_budget_year_only = pd.DataFrame() \n",
    "train_budget_year_only['adjusted_budget'] = train['adjusted_budget']\n",
    "train_budget_year_only['release_year'] = train['release_year']\n",
    "\n",
    "test_budget_year_only = pd.DataFrame() \n",
    "\n",
    "test_budget_year_only['adjusted_budget'] = test['adjusted_budget']\n",
    "test_budget_year_only['release_year'] = test['release_year']\n"
   ]
  },
  {
   "cell_type": "code",
   "execution_count": 317,
   "metadata": {},
   "outputs": [],
   "source": [
    "lm_by = linear_model.LinearRegression()\n",
    "lin_model_by = lm_by.fit(train_budget_year_only, train['revenue'])\n",
    "lin_predictions_by = lm_by.predict(test_budget_year_only)\n",
    "lin_predictions_by[lin_predictions_by < 0] = 0"
   ]
  },
  {
   "cell_type": "code",
   "execution_count": 318,
   "metadata": {},
   "outputs": [
    {
     "name": "stdout",
     "output_type": "stream",
     "text": [
      "Mean abs error 52912658.03960043\n",
      "Median abs error 18372775.560792208\n",
      "explained_variance_score 0.3132511190783297\n",
      "mean_squared_error 1.1570459009393658e+16\n",
      "mean_squared_log_error 97.59435172083244\n",
      "r2_score 0.29103801664975104\n"
     ]
    }
   ],
   "source": [
    "print(\"Mean abs error \" + str(mean_absolute_error(testResults['revenue'], lin_predictions_by)))\n",
    "print(\"Median abs error \" + str(median_absolute_error(testResults['revenue'], lin_predictions_by)))\n",
    "print(\"explained_variance_score \" + str(explained_variance_score(testResults['revenue'], lin_predictions_by)))\n",
    "print(\"mean_squared_error \" + str(mean_squared_error(testResults['revenue'], lin_predictions_by)))\n",
    "print(\"mean_squared_log_error \" + str(mean_squared_log_error(testResults['revenue'], lin_predictions_by)))\n",
    "print(\"r2_score \" + str(r2_score(testResults['revenue'], lin_predictions_by)))"
   ]
  },
  {
   "cell_type": "markdown",
   "metadata": {},
   "source": [
    "end Test Performance of only year and adjusted budget"
   ]
  },
  {
   "cell_type": "code",
   "execution_count": 319,
   "metadata": {},
   "outputs": [],
   "source": [
    "train_byp = train_budget_year_only.copy()\n",
    "test_byp = test_budget_year_only.copy()\n",
    "train_byp['popularity'] = train['popularity']\n",
    "test_byp['popularity'] = test['popularity']"
   ]
  },
  {
   "cell_type": "code",
   "execution_count": 320,
   "metadata": {},
   "outputs": [],
   "source": [
    "lm_byp = linear_model.LinearRegression()\n",
    "lin_model_byp = lm_byp.fit(train_byp, train['revenue'])\n",
    "lin_predictions_byp = lm_byp.predict(test_byp)\n",
    "lin_predictions_byp[lin_predictions_byp < 0] = 0"
   ]
  },
  {
   "cell_type": "code",
   "execution_count": 321,
   "metadata": {},
   "outputs": [
    {
     "name": "stdout",
     "output_type": "stream",
     "text": [
      "Mean abs error 52506374.65842333\n",
      "Median abs error 20262022.169546425\n",
      "explained_variance_score 0.32876366302329174\n",
      "mean_squared_error 1.138438665730138e+16\n",
      "mean_squared_log_error 106.42816189762839\n",
      "r2_score 0.3024393122836483\n"
     ]
    }
   ],
   "source": [
    "print(\"Mean abs error \" + str(mean_absolute_error(testResults['revenue'], lin_predictions_byp)))\n",
    "print(\"Median abs error \" + str(median_absolute_error(testResults['revenue'], lin_predictions_byp)))\n",
    "print(\"explained_variance_score \" + str(explained_variance_score(testResults['revenue'], lin_predictions_byp)))\n",
    "print(\"mean_squared_error \" + str(mean_squared_error(testResults['revenue'], lin_predictions_byp)))\n",
    "print(\"mean_squared_log_error \" + str(mean_squared_log_error(testResults['revenue'], lin_predictions_byp)))\n",
    "print(\"r2_score \" + str(r2_score(testResults['revenue'], lin_predictions_byp)))"
   ]
  },
  {
   "cell_type": "markdown",
   "metadata": {},
   "source": [
    "#### negligible/questionable gains from popularity -> drop it"
   ]
  },
  {
   "cell_type": "code",
   "execution_count": 322,
   "metadata": {},
   "outputs": [],
   "source": [
    "train_byc = train_budget_year_only.copy()\n",
    "test_byc = test_budget_year_only.copy()\n",
    "\n",
    "train_byc['culmative_workers_success'] = train['culmative_workers_success']\n",
    "test_byc['culmative_workers_success'] = test['culmative_workers_success']"
   ]
  },
  {
   "cell_type": "code",
   "execution_count": null,
   "metadata": {},
   "outputs": [],
   "source": []
  },
  {
   "cell_type": "code",
   "execution_count": 323,
   "metadata": {},
   "outputs": [
    {
     "name": "stdout",
     "output_type": "stream",
     "text": [
      "Mean abs error 52413785.345142595\n",
      "Median abs error 19339241.8471812\n",
      "explained_variance_score 0.3213981147750862\n",
      "mean_squared_error 1.1411863927832504e+16\n",
      "mean_squared_log_error 107.74245355747992\n",
      "r2_score 0.30075568502244965\n"
     ]
    }
   ],
   "source": [
    "lm_byc = linear_model.LinearRegression()\n",
    "lin_model_byc = lm_byc.fit(train_byc, train['revenue'])\n",
    "lin_predictions_byc = lm_byc.predict(test_byc)\n",
    "lin_predictions_byc[lin_predictions_byc < 0] = 0\n",
    "\n",
    "print(\"Mean abs error \" + str(mean_absolute_error(testResults['revenue'], lin_predictions_byc)))\n",
    "print(\"Median abs error \" + str(median_absolute_error(testResults['revenue'], lin_predictions_byc)))\n",
    "print(\"explained_variance_score \" + str(explained_variance_score(testResults['revenue'], lin_predictions_byc)))\n",
    "print(\"mean_squared_error \" + str(mean_squared_error(testResults['revenue'], lin_predictions_byc)))\n",
    "print(\"mean_squared_log_error \" + str(mean_squared_log_error(testResults['revenue'], lin_predictions_byc)))\n",
    "print(\"r2_score \" + str(r2_score(testResults['revenue'], lin_predictions_byc)))"
   ]
  },
  {
   "cell_type": "code",
   "execution_count": null,
   "metadata": {},
   "outputs": [],
   "source": [
    "# questionable performance again, better than popularity but not by much -> keeping is questionable"
   ]
  },
  {
   "cell_type": "code",
   "execution_count": 324,
   "metadata": {},
   "outputs": [],
   "source": [
    "train_byw = train_budget_year_only.copy()\n",
    "test_byw = test_budget_year_only.copy()\n",
    "\n",
    "train_byw[['director_success', 'producer_success', 'actor1_success', 'actor2_success']] = train[['director_success', 'producer_success', 'actor1_success', 'actor2_success']]\n",
    "test_byw[['director_success', 'producer_success', 'actor1_success', 'actor2_success']] = test[['director_success', 'producer_success', 'actor1_success', 'actor2_success']]"
   ]
  },
  {
   "cell_type": "code",
   "execution_count": 325,
   "metadata": {},
   "outputs": [
    {
     "data": {
      "text/html": [
       "<div>\n",
       "<style scoped>\n",
       "    .dataframe tbody tr th:only-of-type {\n",
       "        vertical-align: middle;\n",
       "    }\n",
       "\n",
       "    .dataframe tbody tr th {\n",
       "        vertical-align: top;\n",
       "    }\n",
       "\n",
       "    .dataframe thead th {\n",
       "        text-align: right;\n",
       "    }\n",
       "</style>\n",
       "<table border=\"1\" class=\"dataframe\">\n",
       "  <thead>\n",
       "    <tr style=\"text-align: right;\">\n",
       "      <th></th>\n",
       "      <th>adjusted_budget</th>\n",
       "      <th>release_year</th>\n",
       "    </tr>\n",
       "  </thead>\n",
       "  <tbody>\n",
       "    <tr>\n",
       "      <td>0</td>\n",
       "      <td>14000000.0</td>\n",
       "      <td>2015</td>\n",
       "    </tr>\n",
       "    <tr>\n",
       "      <td>1</td>\n",
       "      <td>40000000.0</td>\n",
       "      <td>2004</td>\n",
       "    </tr>\n",
       "    <tr>\n",
       "      <td>2</td>\n",
       "      <td>3300000.0</td>\n",
       "      <td>2014</td>\n",
       "    </tr>\n",
       "    <tr>\n",
       "      <td>3</td>\n",
       "      <td>1200000.0</td>\n",
       "      <td>2012</td>\n",
       "    </tr>\n",
       "    <tr>\n",
       "      <td>4</td>\n",
       "      <td>480672.1</td>\n",
       "      <td>2009</td>\n",
       "    </tr>\n",
       "  </tbody>\n",
       "</table>\n",
       "</div>"
      ],
      "text/plain": [
       "   adjusted_budget  release_year\n",
       "0       14000000.0          2015\n",
       "1       40000000.0          2004\n",
       "2        3300000.0          2014\n",
       "3        1200000.0          2012\n",
       "4         480672.1          2009"
      ]
     },
     "execution_count": 325,
     "metadata": {},
     "output_type": "execute_result"
    }
   ],
   "source": [
    "\n",
    "train_budget_year_only.head()"
   ]
  },
  {
   "cell_type": "code",
   "execution_count": 332,
   "metadata": {},
   "outputs": [
    {
     "name": "stdout",
     "output_type": "stream",
     "text": [
      "Mean abs error 52020409.9268007\n",
      "Median abs error 18977317.41375494\n",
      "explained_variance_score 0.32112925869461184\n",
      "mean_squared_error 1.1400907658977488e+16\n",
      "mean_squared_log_error 106.22162559604693\n",
      "r2_score 0.30142701345386824\n"
     ]
    }
   ],
   "source": [
    "lm_byw = linear_model.LinearRegression()\n",
    "lin_model_byw = lm_byw.fit(train_byw, train['revenue'])\n",
    "lin_predictions_byw = lm_byw.predict(test_byw)\n",
    "lin_predictions_byw[lin_predictions_byw < 0] = 0\n",
    "\n",
    "print(\"Mean abs error \" + str(mean_absolute_error(testResults['revenue'], lin_predictions_byw)))\n",
    "print(\"Median abs error \" + str(median_absolute_error(testResults['revenue'], lin_predictions_byw)))\n",
    "print(\"explained_variance_score \" + str(explained_variance_score(testResults['revenue'], lin_predictions_byw)))\n",
    "print(\"mean_squared_error \" + str(mean_squared_error(testResults['revenue'], lin_predictions_byw)))\n",
    "print(\"mean_squared_log_error \" + str(mean_squared_log_error(testResults['revenue'], lin_predictions_byw)))\n",
    "print(\"r2_score \" + str(r2_score(testResults['revenue'], lin_predictions_byw)))"
   ]
  },
  {
   "cell_type": "code",
   "execution_count": 333,
   "metadata": {},
   "outputs": [
    {
     "name": "stdout",
     "output_type": "stream",
     "text": [
      "Mean abs error 51735256.50980486\n",
      "Median abs error 18960630.068850238\n",
      "explained_variance_score 0.328194402856137\n",
      "mean_squared_error 1.1264442586871886e+16\n",
      "mean_squared_log_error 107.13466279122991\n",
      "r2_score 0.30978869971881906\n"
     ]
    }
   ],
   "source": [
    "lm_byw = linear_model.LinearRegression()\n",
    "lin_model_byw = lm_byw.fit(train_byw.drop(['release_year'], axis=1), train['revenue'])\n",
    "lin_predictions_byw = lm_byw.predict(test_byw.drop(['release_year'], axis = 1))\n",
    "lin_predictions_byw[lin_predictions_byw < 0] = 0\n",
    "\n",
    "print(\"Mean abs error \" + str(mean_absolute_error(testResults['revenue'], lin_predictions_byw)))\n",
    "print(\"Median abs error \" + str(median_absolute_error(testResults['revenue'], lin_predictions_byw)))\n",
    "print(\"explained_variance_score \" + str(explained_variance_score(testResults['revenue'], lin_predictions_byw)))\n",
    "print(\"mean_squared_error \" + str(mean_squared_error(testResults['revenue'], lin_predictions_byw)))\n",
    "print(\"mean_squared_log_error \" + str(mean_squared_log_error(testResults['revenue'], lin_predictions_byw)))\n",
    "print(\"r2_score \" + str(r2_score(testResults['revenue'], lin_predictions_byw)))"
   ]
  },
  {
   "cell_type": "code",
   "execution_count": 369,
   "metadata": {},
   "outputs": [],
   "source": []
  },
  {
   "cell_type": "code",
   "execution_count": null,
   "metadata": {},
   "outputs": [],
   "source": [
    "print(\"Mean abs error \" + str(mean_absolute_error(testResults['revenue'], lin_predictions_byw)))\n",
    "print(\"Median abs error \" + str(median_absolute_error(testResults['revenue'], lin_predictions_byw)))\n",
    "print(\"explained_variance_score \" + str(explained_variance_score(testResults['revenue'], lin_predictions_byw)))\n",
    "print(\"mean_squared_error \" + str(mean_squared_error(testResults['revenue'], lin_predictions_byw)))\n",
    "print(\"mean_squared_log_error \" + str(mean_squared_log_error(testResults['revenue'], lin_predictions_byw)))\n",
    "print(\"r2_score \" + str(r2_score(testResults['revenue'], lin_predictions_byw)))"
   ]
  },
  {
   "cell_type": "markdown",
   "metadata": {},
   "source": [
    "dropping release_year leads to performance gains -> attempt to get inflation data (CPI) to replace release_year"
   ]
  },
  {
   "cell_type": "markdown",
   "metadata": {},
   "source": [
    "### Replace release_year with CPI for that year"
   ]
  },
  {
   "cell_type": "code",
   "execution_count": 341,
   "metadata": {},
   "outputs": [],
   "source": [
    "import csv\n",
    "with open('dsfinal/inflation.csv', mode='r') as infile:\n",
    "    reader = csv.reader(infile)\n",
    "    with open('dsfinal/idkwhythis.csv', mode='w') as outfile:\n",
    "        writer = csv.writer(outfile)\n",
    "        year_to_cpi = {int(rows[0]):rows[1] for rows in reader}"
   ]
  },
  {
   "cell_type": "code",
   "execution_count": 353,
   "metadata": {},
   "outputs": [],
   "source": [
    "def inflation_for_year(year):\n",
    "    if year in year_to_cpi.keys():\n",
    "         return float(year_to_cpi[year])\n",
    "    else:\n",
    " \n",
    "        return float(year_to_cpi[1947])"
   ]
  },
  {
   "cell_type": "code",
   "execution_count": 354,
   "metadata": {},
   "outputs": [],
   "source": [
    "train['cpi_on_release_year'] = train.apply(lambda row: inflation_for_year(int(row.release_year)), axis = 1)\n",
    "test['cpi_on_release_year'] = test.apply(lambda row: inflation_for_year(int(row.release_year)), axis = 1)"
   ]
  },
  {
   "cell_type": "code",
   "execution_count": 356,
   "metadata": {},
   "outputs": [],
   "source": [
    "train['market_ratio_to_2018'] = train.apply(lambda row: row.cpi_on_release_year/249.498, axis = 1)\n",
    "test['market_ratio_to_2018'] = test.apply(lambda row: row.cpi_on_release_year/249.498, axis = 1)"
   ]
  },
  {
   "cell_type": "code",
   "execution_count": 376,
   "metadata": {},
   "outputs": [
    {
     "data": {
      "image/png": "[encoded data removed]",
      "text/plain": [
       "<Figure size 432x288 with 1 Axes>"
      ]
     },
     "metadata": {
      "needs_background": "light"
     },
     "output_type": "display_data"
    }
   ],
   "source": [
    "import matplotlib.pyplot as plt\n",
    "plt.subplot(1, 2, 2)\n",
    "\n",
    "plt.scatter(train['cpi_on_release_year'], train['revenue'])\n",
    "plt.title('cpi vs rev ');"
   ]
  },
  {
   "cell_type": "code",
   "execution_count": 367,
   "metadata": {},
   "outputs": [],
   "source": [
    "train_bm  = pd.DataFrame() \n",
    "train_bm['bud'] = train['adjusted_budget']\n",
    "train_bm['infl'] = train['market_ratio_to_2018']\n",
    "\n",
    "test_bm  = pd.DataFrame() \n",
    "test_bm['bud'] = test['adjusted_budget']\n",
    "test_bm['infl'] =test['market_ratio_to_2018']"
   ]
  },
  {
   "cell_type": "code",
   "execution_count": null,
   "metadata": {},
   "outputs": [],
   "source": []
  },
  {
   "cell_type": "code",
   "execution_count": 368,
   "metadata": {},
   "outputs": [
    {
     "name": "stdout",
     "output_type": "stream",
     "text": [
      "Mean abs error 52855070.02644414\n",
      "Median abs error 18137746.631709933\n",
      "explained_variance_score 0.315718970466748\n",
      "mean_squared_error 1.1527440072433534e+16\n",
      "mean_squared_log_error 100.3453433873788\n",
      "r2_score 0.2936739354878981\n"
     ]
    }
   ],
   "source": [
    "lm_bm = linear_model.LinearRegression()\n",
    "lin_model_bm = lm_bm.fit(train_bm, train['revenue'])\n",
    "lin_predictions_bm = lm_bm.predict(test_bm)\n",
    "lin_predictions_bm[lin_predictions_bm < 0] = 0\n",
    "\n",
    "print(\"Mean abs error \" + str(mean_absolute_error(testResults['revenue'], lin_predictions_bm)))\n",
    "print(\"Median abs error \" + str(median_absolute_error(testResults['revenue'], lin_predictions_bm)))\n",
    "print(\"explained_variance_score \" + str(explained_variance_score(testResults['revenue'], lin_predictions_bm)))\n",
    "print(\"mean_squared_error \" + str(mean_squared_error(testResults['revenue'], lin_predictions_bm)))\n",
    "print(\"mean_squared_log_error \" + str(mean_squared_log_error(testResults['revenue'], lin_predictions_bm)))\n",
    "print(\"r2_score \" + str(r2_score(testResults['revenue'], lin_predictions_bm)))"
   ]
  },
  {
   "cell_type": "code",
   "execution_count": 370,
   "metadata": {},
   "outputs": [],
   "source": [
    "train_bm[['director_success', 'producer_success', 'actor1_success', 'actor2_success']] = train[['director_success', 'producer_success', 'actor1_success', 'actor2_success']]\n",
    "test_bm[['director_success', 'producer_success', 'actor1_success', 'actor2_success']] = test[['director_success', 'producer_success', 'actor1_success', 'actor2_success']]"
   ]
  },
  {
   "cell_type": "code",
   "execution_count": 371,
   "metadata": {},
   "outputs": [
    {
     "name": "stdout",
     "output_type": "stream",
     "text": [
      "Mean abs error 51899186.11440063\n",
      "Median abs error 18931643.554969426\n",
      "explained_variance_score 0.3290725166529225\n",
      "mean_squared_error 1.1270000168154246e+16\n",
      "mean_squared_log_error 107.1185858145974\n",
      "r2_score 0.30944816751993454\n"
     ]
    }
   ],
   "source": [
    "lm_bm = linear_model.LinearRegression()\n",
    "lin_model_bm = lm_bm.fit(train_bm, train['revenue'])\n",
    "lin_predictions_bm = lm_bm.predict(test_bm)\n",
    "lin_predictions_bm[lin_predictions_bm < 0] = 0\n",
    "\n",
    "print(\"Mean abs error \" + str(mean_absolute_error(testResults['revenue'], lin_predictions_bm)))\n",
    "print(\"Median abs error \" + str(median_absolute_error(testResults['revenue'], lin_predictions_bm)))\n",
    "print(\"explained_variance_score \" + str(explained_variance_score(testResults['revenue'], lin_predictions_bm)))\n",
    "print(\"mean_squared_error \" + str(mean_squared_error(testResults['revenue'], lin_predictions_bm)))\n",
    "print(\"mean_squared_log_error \" + str(mean_squared_log_error(testResults['revenue'], lin_predictions_bm)))\n",
    "print(\"r2_score \" + str(r2_score(testResults['revenue'], lin_predictions_bm)))"
   ]
  },
  {
   "cell_type": "markdown",
   "metadata": {},
   "source": [
    "## End feature testing"
   ]
  },
  {
   "cell_type": "code",
   "execution_count": 372,
   "metadata": {},
   "outputs": [
    {
     "name": "stdout",
     "output_type": "stream",
     "text": [
      "Mean abs error 54388274.53775129\n",
      "Median abs error 22999567.755280357\n",
      "explained_variance_score 0.31125195460766497\n",
      "mean_squared_error 1.1720616161529104e+16\n",
      "mean_squared_log_error 101.11680190653958\n",
      "r2_score 0.28183736935427706\n"
     ]
    }
   ],
   "source": [
    "# Instantiate model=\n",
    "rf2 = RandomForestRegressor(n_estimators = 1000, random_state = 42)\n",
    "# Train the model on training data\n",
    "rf2.fit(np.array(train_bm), train_rev_labels);\n",
    "firstForestPredictionMod2 = rf2.predict(np.array(test_bm))\n",
    "\n",
    "\n",
    "print(\"Mean abs error \" + str(mean_absolute_error(testResults['revenue'], firstForestPredictionMod2)))\n",
    "print(\"Median abs error \" + str(median_absolute_error(testResults['revenue'], firstForestPredictionMod2)))\n",
    "print(\"explained_variance_score \" + str(explained_variance_score(testResults['revenue'], firstForestPredictionMod2)))\n",
    "print(\"mean_squared_error \" + str(mean_squared_error(testResults['revenue'], firstForestPredictionMod2)))\n",
    "print(\"mean_squared_log_error \" + str(mean_squared_log_error(testResults['revenue'], firstForestPredictionMod2)))\n",
    "print(\"r2_score \" + str(r2_score(testResults['revenue'], firstForestPredictionMod2)))"
   ]
  },
  {
   "cell_type": "code",
   "execution_count": null,
   "metadata": {},
   "outputs": [],
   "source": []
  },
  {
   "cell_type": "code",
   "execution_count": 242,
   "metadata": {},
   "outputs": [
    {
     "name": "stdout",
     "output_type": "stream",
     "text": [
      "[]\n"
     ]
    }
   ],
   "source": [
    "badValues = np.argwhere(np.isnan(test_features_mod2np))\n",
    "print(badValues)\n",
    "\n",
    "#np.isnan(X)"
   ]
  },
  {
   "cell_type": "code",
   "execution_count": 256,
   "metadata": {},
   "outputs": [],
   "source": [
    "# Instantiate model=\n",
    "rf = RandomForestRegressor(n_estimators = 1000, random_state = 42)\n",
    "# Train the model on training data\n",
    "rf.fit(train_features, train_rev_labels);"
   ]
  },
  {
   "cell_type": "code",
   "execution_count": 257,
   "metadata": {},
   "outputs": [
    {
     "ename": "ValueError",
     "evalue": "Number of features of the model must match the input. Model n_features is 23 and input n_features is 22 ",
     "output_type": "error",
     "traceback": [
      "\u001b[1;31m---------------------------------------------------------------------------\u001b[0m",
      "\u001b[1;31mValueError\u001b[0m                                Traceback (most recent call last)",
      "\u001b[1;32m<ipython-input-257-efea84513c96>\u001b[0m in \u001b[0;36m<module>\u001b[1;34m\u001b[0m\n\u001b[0;32m      7\u001b[0m \u001b[1;31m#mean_squared_log_error 105.41584460338858\u001b[0m\u001b[1;33m\u001b[0m\u001b[1;33m\u001b[0m\u001b[1;33m\u001b[0m\u001b[0m\n\u001b[0;32m      8\u001b[0m \u001b[1;31m#r2_score 0.32720048689186754\"\u001b[0m\u001b[1;33m\u001b[0m\u001b[1;33m\u001b[0m\u001b[1;33m\u001b[0m\u001b[0m\n\u001b[1;32m----> 9\u001b[1;33m \u001b[0mfirstForestPrediction\u001b[0m \u001b[1;33m=\u001b[0m \u001b[0mrf\u001b[0m\u001b[1;33m.\u001b[0m\u001b[0mpredict\u001b[0m\u001b[1;33m(\u001b[0m\u001b[0mtest_features\u001b[0m\u001b[1;33m)\u001b[0m\u001b[1;33m\u001b[0m\u001b[1;33m\u001b[0m\u001b[0m\n\u001b[0m",
      "\u001b[1;32m~\\Anaconda3\\lib\\site-packages\\sklearn\\ensemble\\forest.py\u001b[0m in \u001b[0;36mpredict\u001b[1;34m(self, X)\u001b[0m\n\u001b[0;32m    691\u001b[0m         \u001b[0mcheck_is_fitted\u001b[0m\u001b[1;33m(\u001b[0m\u001b[0mself\u001b[0m\u001b[1;33m,\u001b[0m \u001b[1;34m'estimators_'\u001b[0m\u001b[1;33m)\u001b[0m\u001b[1;33m\u001b[0m\u001b[1;33m\u001b[0m\u001b[0m\n\u001b[0;32m    692\u001b[0m         \u001b[1;31m# Check data\u001b[0m\u001b[1;33m\u001b[0m\u001b[1;33m\u001b[0m\u001b[1;33m\u001b[0m\u001b[0m\n\u001b[1;32m--> 693\u001b[1;33m         \u001b[0mX\u001b[0m \u001b[1;33m=\u001b[0m \u001b[0mself\u001b[0m\u001b[1;33m.\u001b[0m\u001b[0m_validate_X_predict\u001b[0m\u001b[1;33m(\u001b[0m\u001b[0mX\u001b[0m\u001b[1;33m)\u001b[0m\u001b[1;33m\u001b[0m\u001b[1;33m\u001b[0m\u001b[0m\n\u001b[0m\u001b[0;32m    694\u001b[0m \u001b[1;33m\u001b[0m\u001b[0m\n\u001b[0;32m    695\u001b[0m         \u001b[1;31m# Assign chunk of trees to jobs\u001b[0m\u001b[1;33m\u001b[0m\u001b[1;33m\u001b[0m\u001b[1;33m\u001b[0m\u001b[0m\n",
      "\u001b[1;32m~\\Anaconda3\\lib\\site-packages\\sklearn\\ensemble\\forest.py\u001b[0m in \u001b[0;36m_validate_X_predict\u001b[1;34m(self, X)\u001b[0m\n\u001b[0;32m    357\u001b[0m                                  \"call `fit` before exploiting the model.\")\n\u001b[0;32m    358\u001b[0m \u001b[1;33m\u001b[0m\u001b[0m\n\u001b[1;32m--> 359\u001b[1;33m         \u001b[1;32mreturn\u001b[0m \u001b[0mself\u001b[0m\u001b[1;33m.\u001b[0m\u001b[0mestimators_\u001b[0m\u001b[1;33m[\u001b[0m\u001b[1;36m0\u001b[0m\u001b[1;33m]\u001b[0m\u001b[1;33m.\u001b[0m\u001b[0m_validate_X_predict\u001b[0m\u001b[1;33m(\u001b[0m\u001b[0mX\u001b[0m\u001b[1;33m,\u001b[0m \u001b[0mcheck_input\u001b[0m\u001b[1;33m=\u001b[0m\u001b[1;32mTrue\u001b[0m\u001b[1;33m)\u001b[0m\u001b[1;33m\u001b[0m\u001b[1;33m\u001b[0m\u001b[0m\n\u001b[0m\u001b[0;32m    360\u001b[0m \u001b[1;33m\u001b[0m\u001b[0m\n\u001b[0;32m    361\u001b[0m     \u001b[1;33m@\u001b[0m\u001b[0mproperty\u001b[0m\u001b[1;33m\u001b[0m\u001b[1;33m\u001b[0m\u001b[0m\n",
      "\u001b[1;32m~\\Anaconda3\\lib\\site-packages\\sklearn\\tree\\tree.py\u001b[0m in \u001b[0;36m_validate_X_predict\u001b[1;34m(self, X, check_input)\u001b[0m\n\u001b[0;32m    400\u001b[0m                              \u001b[1;34m\"match the input. Model n_features is %s and \"\u001b[0m\u001b[1;33m\u001b[0m\u001b[1;33m\u001b[0m\u001b[0m\n\u001b[0;32m    401\u001b[0m                              \u001b[1;34m\"input n_features is %s \"\u001b[0m\u001b[1;33m\u001b[0m\u001b[1;33m\u001b[0m\u001b[0m\n\u001b[1;32m--> 402\u001b[1;33m                              % (self.n_features_, n_features))\n\u001b[0m\u001b[0;32m    403\u001b[0m \u001b[1;33m\u001b[0m\u001b[0m\n\u001b[0;32m    404\u001b[0m         \u001b[1;32mreturn\u001b[0m \u001b[0mX\u001b[0m\u001b[1;33m\u001b[0m\u001b[1;33m\u001b[0m\u001b[0m\n",
      "\u001b[1;31mValueError\u001b[0m: Number of features of the model must match the input. Model n_features is 23 and input n_features is 22 "
     ]
    }
   ],
   "source": [
    "# Use the forest's predict method on the test data\n",
    "#before dropping budget\n",
    "#Mean abs error 56314766.532770574\n",
    "#Median abs error 27457243.644500002\n",
    "#explained_variance_score 0.39389048033323626\n",
    "#mean_squared_error 1.0980277322023664e+16\n",
    "#mean_squared_log_error 105.41584460338858\n",
    "#r2_score 0.32720048689186754\"\n",
    "firstForestPrediction = rf.predict(test_features)"
   ]
  },
  {
   "cell_type": "code",
   "execution_count": null,
   "metadata": {},
   "outputs": [],
   "source": [
    "print(\"Mean abs error \" + str(mean_absolute_error(testResults['revenue'], firstForestPrediction)))\n",
    "print(\"Median abs error \" + str(median_absolute_error(testResults['revenue'], firstForestPrediction)))\n",
    "print(\"explained_variance_score \" + str(explained_variance_score(testResults['revenue'], firstForestPrediction)))\n",
    "print(\"mean_squared_error \" + str(mean_squared_error(testResults['revenue'], firstForestPrediction)))\n",
    "print(\"mean_squared_log_error \" + str(mean_squared_log_error(testResults['revenue'], firstForestPrediction)))\n",
    "print(\"r2_score \" + str(r2_score(testResults['revenue'], firstForestPrediction)))"
   ]
  },
  {
   "cell_type": "code",
   "execution_count": 186,
   "metadata": {},
   "outputs": [],
   "source": [
    "firstForestResults = {\n",
    "    \"mean_abs_error\": mean_absolute_error(testResults['revenue'], firstForestPrediction),\n",
    "    \"median_abs_error\": median_absolute_error(testResults['revenue'], firstForestPrediction),\n",
    "    \"explained_variance_score\": explained_variance_score(testResults['revenue'], firstForestPrediction),\n",
    "    \"mean_squared_error \": mean_squared_error(testResults['revenue'], firstForestPrediction),\n",
    "    \"mean_squared_log_error\": mean_squared_log_error(testResults['revenue'], firstForestPrediction),\n",
    "    \"r2_score\": r2_score(testResults['revenue'], firstForestPrediction)\n",
    "}\n"
   ]
  },
  {
   "cell_type": "code",
   "execution_count": 195,
   "metadata": {},
   "outputs": [
    {
     "data": {
      "text/plain": [
       "{'untunedForest': {'mean_abs_error': 56259074.08073511,\n",
       "  'median_abs_error': 27683433.9875,\n",
       "  'explained_variance_score': 0.3946882470293124,\n",
       "  'mean_squared_error ': 1.0961478983582386e+16,\n",
       "  'mean_squared_log_error': 105.39838154072294,\n",
       "  'r2_score': 0.32835232601028097}}"
      ]
     },
     "execution_count": 195,
     "metadata": {},
     "output_type": "execute_result"
    }
   ],
   "source": [
    "resultsDict = dict()\n",
    "resultsDict['untunedForest'] =firstForestResults;\n",
    "resultsDict"
   ]
  },
  {
   "cell_type": "code",
   "execution_count": 85,
   "metadata": {},
   "outputs": [],
   "source": [
    "#tree = rf.estimators_[5]\n",
    "# Export the image to a dot file\n",
    "#export_graphviz(tree, out_file = 'tree.dot', feature_names = train_list, rounded = True, precision = 1)\n",
    "# Use dot file to create a graph\n",
    "#(graph, ) = pydot.graph_from_dot_file('tree.dot')\n",
    "# Write graph to a png file\n",
    "#graph.write_png('dsfinal/tree.png')"
   ]
  },
  {
   "cell_type": "code",
   "execution_count": 187,
   "metadata": {},
   "outputs": [
    {
     "name": "stdout",
     "output_type": "stream",
     "text": [
      "{'n_estimators': [200, 400, 600, 800, 1000, 1200, 1400, 1600, 1800, 2000], 'max_features': ['auto', 'sqrt'], 'max_depth': [10, 20, 30, 40, 50, 60, 70, 80, 90, 100, 110, None], 'min_samples_split': [2, 5, 10], 'min_samples_leaf': [1, 2, 4], 'bootstrap': [True, False]}\n"
     ]
    }
   ],
   "source": [
    "# Number of trees in random forest\n",
    "n_estimators = [int(x) for x in np.linspace(start = 200, stop = 2000, num = 10)]\n",
    "# Number of features to consider at every split\n",
    "max_features = ['auto', 'sqrt']\n",
    "# Maximum number of levels in tree\n",
    "max_depth = [int(x) for x in np.linspace(10, 110, num = 11)]\n",
    "max_depth.append(None)\n",
    "# Minimum number of samples required to split a node\n",
    "min_samples_split = [2, 5, 10]\n",
    "# Minimum number of samples required at each leaf node\n",
    "min_samples_leaf = [1, 2, 4]\n",
    "# Method of selecting samples for training each tree\n",
    "bootstrap = [True, False]\n",
    "# Create the random grid\n",
    "random_grid = {'n_estimators': n_estimators,\n",
    "               'max_features': max_features,\n",
    "               'max_depth': max_depth,\n",
    "               'min_samples_split': min_samples_split,\n",
    "               'min_samples_leaf': min_samples_leaf,\n",
    "               'bootstrap': bootstrap}\n",
    "print(random_grid)"
   ]
  },
  {
   "cell_type": "code",
   "execution_count": 188,
   "metadata": {},
   "outputs": [
    {
     "name": "stdout",
     "output_type": "stream",
     "text": [
      "Fitting 3 folds for each of 100 candidates, totalling 300 fits\n"
     ]
    },
    {
     "name": "stderr",
     "output_type": "stream",
     "text": [
      "[Parallel(n_jobs=-1)]: Using backend LokyBackend with 8 concurrent workers.\n",
      "[Parallel(n_jobs=-1)]: Done  25 tasks      | elapsed:  1.8min\n",
      "[Parallel(n_jobs=-1)]: Done 146 tasks      | elapsed:  6.7min\n",
      "[Parallel(n_jobs=-1)]: Done 300 out of 300 | elapsed: 15.3min finished\n"
     ]
    },
    {
     "data": {
      "text/plain": [
       "RandomizedSearchCV(cv=3, error_score='raise-deprecating',\n",
       "                   estimator=RandomForestRegressor(bootstrap=True,\n",
       "                                                   criterion='mse',\n",
       "                                                   max_depth=None,\n",
       "                                                   max_features='auto',\n",
       "                                                   max_leaf_nodes=None,\n",
       "                                                   min_impurity_decrease=0.0,\n",
       "                                                   min_impurity_split=None,\n",
       "                                                   min_samples_leaf=1,\n",
       "                                                   min_samples_split=2,\n",
       "                                                   min_weight_fraction_leaf=0.0,\n",
       "                                                   n_estimators='warn',\n",
       "                                                   n_jobs=None, oob_score=False,\n",
       "                                                   random_sta...\n",
       "                   param_distributions={'bootstrap': [True, False],\n",
       "                                        'max_depth': [10, 20, 30, 40, 50, 60,\n",
       "                                                      70, 80, 90, 100, 110,\n",
       "                                                      None],\n",
       "                                        'max_features': ['auto', 'sqrt'],\n",
       "                                        'min_samples_leaf': [1, 2, 4],\n",
       "                                        'min_samples_split': [2, 5, 10],\n",
       "                                        'n_estimators': [200, 400, 600, 800,\n",
       "                                                         1000, 1200, 1400, 1600,\n",
       "                                                         1800, 2000]},\n",
       "                   pre_dispatch='2*n_jobs', random_state=42, refit=True,\n",
       "                   return_train_score=False, scoring=None, verbose=2)"
      ]
     },
     "execution_count": 188,
     "metadata": {},
     "output_type": "execute_result"
    }
   ],
   "source": [
    "# Use the random grid to search for best hyperparameters\n",
    "# First create the base model to tune\n",
    "rfTuning = RandomForestRegressor()\n",
    "# Random search of parameters, using 3 fold cross validation, \n",
    "# search across 100 different combinations, and use all available cores\n",
    "rf_random = RandomizedSearchCV(estimator = rfTuning, param_distributions = random_grid, n_iter = 100, cv = 3, verbose=2, random_state=42, n_jobs = -1)\n",
    "# Fit the random search model\n",
    "rf_random.fit(train_features, train_rev_labels)"
   ]
  },
  {
   "cell_type": "code",
   "execution_count": 193,
   "metadata": {},
   "outputs": [
    {
     "data": {
      "text/plain": [
       "{'n_estimators': 200,\n",
       " 'min_samples_split': 5,\n",
       " 'min_samples_leaf': 4,\n",
       " 'max_features': 'auto',\n",
       " 'max_depth': 10,\n",
       " 'bootstrap': True}"
      ]
     },
     "execution_count": 193,
     "metadata": {},
     "output_type": "execute_result"
    }
   ],
   "source": [
    "rf_random.best_params_"
   ]
  },
  {
   "cell_type": "code",
   "execution_count": 194,
   "metadata": {},
   "outputs": [
    {
     "name": "stdout",
     "output_type": "stream",
     "text": [
      "Mean abs error 49368785.381918505\n",
      "Median abs error 20025426.768997185\n",
      "explained_variance_score 0.4085365859424659\n",
      "mean_squared_error 1.013696060415087e+16\n",
      "mean_squared_log_error 102.30542619958375\n",
      "r2_score 0.3788734146823831\n"
     ]
    }
   ],
   "source": [
    "best_random = rf_random.best_estimator_\n",
    "# Use the forest's predict method on the test data\n",
    "predictionsBestRandom = best_random.predict(test_features)\n",
    "# Calculate the absolute errors\n",
    "print(\"Mean abs error \" + str(mean_absolute_error(testResults['revenue'], predictionsBestRandom)))\n",
    "print(\"Median abs error \" + str(median_absolute_error(testResults['revenue'], predictionsBestRandom)))\n",
    "print(\"explained_variance_score \" + str(explained_variance_score(testResults['revenue'], predictionsBestRandom)))\n",
    "print(\"mean_squared_error \" + str(mean_squared_error(testResults['revenue'], predictionsBestRandom)))\n",
    "print(\"mean_squared_log_error \" + str(mean_squared_log_error(testResults['revenue'], predictionsBestRandom)))\n",
    "print(\"r2_score \" + str(r2_score(testResults['revenue'], predictionsBestRandom)))"
   ]
  },
  {
   "cell_type": "code",
   "execution_count": 196,
   "metadata": {},
   "outputs": [
    {
     "data": {
      "text/plain": [
       "{'untunedForest': {'mean_abs_error': 56259074.08073511,\n",
       "  'median_abs_error': 27683433.9875,\n",
       "  'explained_variance_score': 0.3946882470293124,\n",
       "  'mean_squared_error ': 1.0961478983582386e+16,\n",
       "  'mean_squared_log_error': 105.39838154072294,\n",
       "  'r2_score': 0.32835232601028097},\n",
       " 'tunedForest': {'mean_abs_error': 49368785.381918505,\n",
       "  'median_abs_error': 20025426.768997185,\n",
       "  'explained_variance_score': 0.4085365859424659,\n",
       "  'mean_squared_error ': 1.013696060415087e+16,\n",
       "  'mean_squared_log_error': 102.30542619958375,\n",
       "  'r2_score': 0.3788734146823831}}"
      ]
     },
     "execution_count": 196,
     "metadata": {},
     "output_type": "execute_result"
    }
   ],
   "source": [
    "tunedForestResults = {\n",
    "    \"mean_abs_error\": mean_absolute_error(testResults['revenue'], predictionsBestRandom),\n",
    "    \"median_abs_error\": median_absolute_error(testResults['revenue'], predictionsBestRandom),\n",
    "    \"explained_variance_score\": explained_variance_score(testResults['revenue'], predictionsBestRandom),\n",
    "    \"mean_squared_error \": mean_squared_error(testResults['revenue'], predictionsBestRandom),\n",
    "    \"mean_squared_log_error\": mean_squared_log_error(testResults['revenue'], predictionsBestRandom),\n",
    "    \"r2_score\": r2_score(testResults['revenue'], predictionsBestRandom)\n",
    "}\n",
    "resultsDict['tunedForest'] = tunedForestResults\n",
    "resultsDict\n"
   ]
  },
  {
   "cell_type": "markdown",
   "metadata": {},
   "source": [
    "Drop budget testing (Now irrelevant)"
   ]
  },
  {
   "cell_type": "code",
   "execution_count": 99,
   "metadata": {},
   "outputs": [],
   "source": [
    "train_adjonly_features = np.array(train.drop('budget', axis = 1))\n",
    "test_adjonly_features = np.array(test.drop('budget', axis = 1))\n",
    "# Instantiate model=\n",
    "rfAdjusted = RandomForestRegressor(n_estimators = 1000, random_state = 42)\n",
    "# Train the model on training data\n",
    "rfAdjusted.fit(train_adjonly_features, train_rev_labels);\n",
    "test_adjonly_features = np.array(test.drop('budget', axis = 1))\n",
    "# Use the forest's predict method on the test data\n",
    "predictionsAdj = rfAdjusted.predict(test_adjonly_features)\n",
    "# Calculate the absolute errors\n",
    "errorsAdj = abs(predictionsAdj - test_labels)\n",
    "print('Mean Absolute Error:', round(np.mean(errorsAdj), 2), 'dollars.')"
   ]
  },
  {
   "cell_type": "code",
   "execution_count": 103,
   "metadata": {},
   "outputs": [
    {
     "name": "stdout",
     "output_type": "stream",
     "text": [
      "Mean Absolute Error: 56259074.08 dollars.\n"
     ]
    }
   ],
   "source": []
  },
  {
   "cell_type": "code",
   "execution_count": 169,
   "metadata": {},
   "outputs": [
    {
     "name": "stdout",
     "output_type": "stream",
     "text": [
      "Mean abs error 56259074.08073511\n",
      "Median abs error 27683433.9875\n",
      "explained_variance_score 0.3946882470293124\n",
      "mean_squared_error 1.0961478983582386e+16\n",
      "mean_squared_log_error 105.39838154072294\n",
      "r2_score 0.32835232601028097\n"
     ]
    }
   ],
   "source": [
    "print(\"Mean abs error \" + str(mean_absolute_error(testResults['revenue'], predictionsAdj)))\n",
    "print(\"Median abs error \" + str(median_absolute_error(testResults['revenue'], predictionsAdj)))\n",
    "print(\"explained_variance_score \" + str(explained_variance_score(testResults['revenue'], predictionsAdj)))\n",
    "print(\"mean_squared_error \" + str(mean_squared_error(testResults['revenue'], predictionsAdj)))\n",
    "print(\"mean_squared_log_error \" + str(mean_squared_log_error(testResults['revenue'], predictionsAdj)))\n",
    "print(\"r2_score \" + str(r2_score(testResults['revenue'], predictionsAdj)))"
   ]
  },
  {
   "cell_type": "markdown",
   "metadata": {},
   "source": [
    "Begin Linear Regression Model\n",
    "https://scikit-learn.org/stable/modules/model_evaluation.html"
   ]
  },
  {
   "cell_type": "code",
   "execution_count": 127,
   "metadata": {},
   "outputs": [],
   "source": [
    "from sklearn import linear_model\n",
    "X_lin_train = train.drop(['budget', 'revenue', 'log_revenue'], axis = 1)\n",
    "X_lin_test = test.drop(['budget'], axis = 1)\n",
    "y_train_labels = train['revenue']\n",
    "lm = linear_model.LinearRegression()\n",
    "lin_model = lm.fit(X_lin_train, y_train_labels)\n",
    "lin_predictions = lm.predict(X_lin_test)"
   ]
  },
  {
   "cell_type": "code",
   "execution_count": 128,
   "metadata": {},
   "outputs": [],
   "source": []
  },
  {
   "cell_type": "code",
   "execution_count": 168,
   "metadata": {},
   "outputs": [
    {
     "name": "stdout",
     "output_type": "stream",
     "text": [
      "Mean abs error 53650211.95932021\n",
      "Median abs error 25388492.5928815\n",
      "explained_variance_score 0.36304657826241127\n",
      "mean_squared_error 1.0645332789438754e+16\n",
      "r2_score 0.34772369517089374\n"
     ]
    }
   ],
   "source": [
    "print(\"Mean abs error \" + str(mean_absolute_error(testResults['revenue'], lin_predictions)))\n",
    "print(\"Median abs error \" + str(median_absolute_error(testResults['revenue'], lin_predictions)))\n",
    "print(\"explained_variance_score \" + str(explained_variance_score(testResults['revenue'], lin_predictions)))\n",
    "print(\"mean_squared_error \" + str(mean_squared_error(testResults['revenue'], lin_predictions)))\n",
    "#print(\"mean_squared_log_error \" + str(mean_squared_log_error(testResults['revenue'], lin_predictions)))\n",
    "print(\"r2_score \" + str(r2_score(testResults['revenue'], lin_predictions)))"
   ]
  },
  {
   "cell_type": "code",
   "execution_count": 138,
   "metadata": {},
   "outputs": [
    {
     "name": "stderr",
     "output_type": "stream",
     "text": [
      "C:\\Users\\ov78\\Anaconda3\\lib\\site-packages\\sklearn\\linear_model\\ridge.py:147: LinAlgWarning: Ill-conditioned matrix (rcond=2.06539e-20): result may not be accurate.\n",
      "  overwrite_a=True).T\n",
      "C:\\Users\\ov78\\Anaconda3\\lib\\site-packages\\sklearn\\linear_model\\ridge.py:147: LinAlgWarning: Ill-conditioned matrix (rcond=1.84278e-20): result may not be accurate.\n",
      "  overwrite_a=True).T\n",
      "C:\\Users\\ov78\\Anaconda3\\lib\\site-packages\\sklearn\\linear_model\\ridge.py:147: LinAlgWarning: Ill-conditioned matrix (rcond=2.02236e-20): result may not be accurate.\n",
      "  overwrite_a=True).T\n",
      "C:\\Users\\ov78\\Anaconda3\\lib\\site-packages\\sklearn\\linear_model\\ridge.py:147: LinAlgWarning: Ill-conditioned matrix (rcond=4.28766e-19): result may not be accurate.\n",
      "  overwrite_a=True).T\n",
      "C:\\Users\\ov78\\Anaconda3\\lib\\site-packages\\sklearn\\linear_model\\ridge.py:147: LinAlgWarning: Ill-conditioned matrix (rcond=3.79528e-19): result may not be accurate.\n",
      "  overwrite_a=True).T\n",
      "C:\\Users\\ov78\\Anaconda3\\lib\\site-packages\\sklearn\\linear_model\\ridge.py:147: LinAlgWarning: Ill-conditioned matrix (rcond=4.19817e-19): result may not be accurate.\n",
      "  overwrite_a=True).T\n",
      "C:\\Users\\ov78\\Anaconda3\\lib\\site-packages\\sklearn\\linear_model\\ridge.py:147: LinAlgWarning: Ill-conditioned matrix (rcond=3.15704e-19): result may not be accurate.\n",
      "  overwrite_a=True).T\n",
      "C:\\Users\\ov78\\Anaconda3\\lib\\site-packages\\sklearn\\linear_model\\ridge.py:147: LinAlgWarning: Ill-conditioned matrix (rcond=2.80028e-19): result may not be accurate.\n",
      "  overwrite_a=True).T\n",
      "C:\\Users\\ov78\\Anaconda3\\lib\\site-packages\\sklearn\\linear_model\\ridge.py:147: LinAlgWarning: Ill-conditioned matrix (rcond=3.0912e-19): result may not be accurate.\n",
      "  overwrite_a=True).T\n",
      "C:\\Users\\ov78\\Anaconda3\\lib\\site-packages\\sklearn\\linear_model\\ridge.py:147: LinAlgWarning: Ill-conditioned matrix (rcond=5.24635e-19): result may not be accurate.\n",
      "  overwrite_a=True).T\n",
      "C:\\Users\\ov78\\Anaconda3\\lib\\site-packages\\sklearn\\linear_model\\ridge.py:147: LinAlgWarning: Ill-conditioned matrix (rcond=4.6361e-19): result may not be accurate.\n",
      "  overwrite_a=True).T\n",
      "C:\\Users\\ov78\\Anaconda3\\lib\\site-packages\\sklearn\\linear_model\\ridge.py:147: LinAlgWarning: Ill-conditioned matrix (rcond=5.13672e-19): result may not be accurate.\n",
      "  overwrite_a=True).T\n",
      "C:\\Users\\ov78\\Anaconda3\\lib\\site-packages\\sklearn\\linear_model\\ridge.py:147: LinAlgWarning: Ill-conditioned matrix (rcond=1.12829e-19): result may not be accurate.\n",
      "  overwrite_a=True).T\n",
      "C:\\Users\\ov78\\Anaconda3\\lib\\site-packages\\sklearn\\linear_model\\ridge.py:147: LinAlgWarning: Ill-conditioned matrix (rcond=1.00477e-19): result may not be accurate.\n",
      "  overwrite_a=True).T\n",
      "C:\\Users\\ov78\\Anaconda3\\lib\\site-packages\\sklearn\\linear_model\\ridge.py:147: LinAlgWarning: Ill-conditioned matrix (rcond=1.10478e-19): result may not be accurate.\n",
      "  overwrite_a=True).T\n",
      "C:\\Users\\ov78\\Anaconda3\\lib\\site-packages\\sklearn\\linear_model\\ridge.py:147: LinAlgWarning: Ill-conditioned matrix (rcond=4.05548e-20): result may not be accurate.\n",
      "  overwrite_a=True).T\n",
      "C:\\Users\\ov78\\Anaconda3\\lib\\site-packages\\sklearn\\linear_model\\ridge.py:147: LinAlgWarning: Ill-conditioned matrix (rcond=3.61689e-20): result may not be accurate.\n",
      "  overwrite_a=True).T\n",
      "C:\\Users\\ov78\\Anaconda3\\lib\\site-packages\\sklearn\\linear_model\\ridge.py:147: LinAlgWarning: Ill-conditioned matrix (rcond=3.97098e-20): result may not be accurate.\n",
      "  overwrite_a=True).T\n",
      "C:\\Users\\ov78\\Anaconda3\\lib\\site-packages\\sklearn\\linear_model\\ridge.py:147: LinAlgWarning: Ill-conditioned matrix (rcond=1.09512e-19): result may not be accurate.\n",
      "  overwrite_a=True).T\n",
      "C:\\Users\\ov78\\Anaconda3\\lib\\site-packages\\sklearn\\linear_model\\ridge.py:147: LinAlgWarning: Ill-conditioned matrix (rcond=9.75293e-20): result may not be accurate.\n",
      "  overwrite_a=True).T\n",
      "C:\\Users\\ov78\\Anaconda3\\lib\\site-packages\\sklearn\\linear_model\\ridge.py:147: LinAlgWarning: Ill-conditioned matrix (rcond=1.0723e-19): result may not be accurate.\n",
      "  overwrite_a=True).T\n",
      "C:\\Users\\ov78\\Anaconda3\\lib\\site-packages\\sklearn\\linear_model\\ridge.py:147: LinAlgWarning: Ill-conditioned matrix (rcond=4.41728e-19): result may not be accurate.\n",
      "  overwrite_a=True).T\n",
      "C:\\Users\\ov78\\Anaconda3\\lib\\site-packages\\sklearn\\linear_model\\ridge.py:147: LinAlgWarning: Ill-conditioned matrix (rcond=3.90911e-19): result may not be accurate.\n",
      "  overwrite_a=True).T\n",
      "C:\\Users\\ov78\\Anaconda3\\lib\\site-packages\\sklearn\\linear_model\\ridge.py:147: LinAlgWarning: Ill-conditioned matrix (rcond=4.32507e-19): result may not be accurate.\n",
      "  overwrite_a=True).T\n",
      "C:\\Users\\ov78\\Anaconda3\\lib\\site-packages\\sklearn\\linear_model\\ridge.py:147: LinAlgWarning: Ill-conditioned matrix (rcond=6.7989e-21): result may not be accurate.\n",
      "  overwrite_a=True).T\n",
      "C:\\Users\\ov78\\Anaconda3\\lib\\site-packages\\sklearn\\linear_model\\ridge.py:147: LinAlgWarning: Ill-conditioned matrix (rcond=6.06778e-21): result may not be accurate.\n",
      "  overwrite_a=True).T\n",
      "C:\\Users\\ov78\\Anaconda3\\lib\\site-packages\\sklearn\\linear_model\\ridge.py:147: LinAlgWarning: Ill-conditioned matrix (rcond=6.65723e-21): result may not be accurate.\n",
      "  overwrite_a=True).T\n",
      "C:\\Users\\ov78\\Anaconda3\\lib\\site-packages\\sklearn\\linear_model\\ridge.py:147: LinAlgWarning: Ill-conditioned matrix (rcond=4.87687e-19): result may not be accurate.\n",
      "  overwrite_a=True).T\n",
      "C:\\Users\\ov78\\Anaconda3\\lib\\site-packages\\sklearn\\linear_model\\ridge.py:147: LinAlgWarning: Ill-conditioned matrix (rcond=4.31234e-19): result may not be accurate.\n",
      "  overwrite_a=True).T\n",
      "C:\\Users\\ov78\\Anaconda3\\lib\\site-packages\\sklearn\\linear_model\\ridge.py:147: LinAlgWarning: Ill-conditioned matrix (rcond=4.77501e-19): result may not be accurate.\n",
      "  overwrite_a=True).T\n",
      "C:\\Users\\ov78\\Anaconda3\\lib\\site-packages\\sklearn\\linear_model\\ridge.py:147: LinAlgWarning: Ill-conditioned matrix (rcond=3.56288e-21): result may not be accurate.\n",
      "  overwrite_a=True).T\n",
      "C:\\Users\\ov78\\Anaconda3\\lib\\site-packages\\sklearn\\linear_model\\ridge.py:147: LinAlgWarning: Ill-conditioned matrix (rcond=3.17991e-21): result may not be accurate.\n",
      "  overwrite_a=True).T\n",
      "C:\\Users\\ov78\\Anaconda3\\lib\\site-packages\\sklearn\\linear_model\\ridge.py:147: LinAlgWarning: Ill-conditioned matrix (rcond=3.48864e-21): result may not be accurate.\n",
      "  overwrite_a=True).T\n",
      "C:\\Users\\ov78\\Anaconda3\\lib\\site-packages\\sklearn\\linear_model\\ridge.py:147: LinAlgWarning: Ill-conditioned matrix (rcond=2.30515e-19): result may not be accurate.\n",
      "  overwrite_a=True).T\n",
      "C:\\Users\\ov78\\Anaconda3\\lib\\site-packages\\sklearn\\linear_model\\ridge.py:147: LinAlgWarning: Ill-conditioned matrix (rcond=2.04799e-19): result may not be accurate.\n",
      "  overwrite_a=True).T\n",
      "C:\\Users\\ov78\\Anaconda3\\lib\\site-packages\\sklearn\\linear_model\\ridge.py:147: LinAlgWarning: Ill-conditioned matrix (rcond=2.2571e-19): result may not be accurate.\n",
      "  overwrite_a=True).T\n",
      "C:\\Users\\ov78\\Anaconda3\\lib\\site-packages\\sklearn\\linear_model\\ridge.py:147: LinAlgWarning: Ill-conditioned matrix (rcond=3.90857e-19): result may not be accurate.\n",
      "  overwrite_a=True).T\n",
      "C:\\Users\\ov78\\Anaconda3\\lib\\site-packages\\sklearn\\linear_model\\ridge.py:147: LinAlgWarning: Ill-conditioned matrix (rcond=3.46208e-19): result may not be accurate.\n",
      "  overwrite_a=True).T\n",
      "C:\\Users\\ov78\\Anaconda3\\lib\\site-packages\\sklearn\\linear_model\\ridge.py:147: LinAlgWarning: Ill-conditioned matrix (rcond=3.82702e-19): result may not be accurate.\n",
      "  overwrite_a=True).T\n",
      "C:\\Users\\ov78\\Anaconda3\\lib\\site-packages\\sklearn\\linear_model\\ridge.py:147: LinAlgWarning: Ill-conditioned matrix (rcond=1.83625e-19): result may not be accurate.\n",
      "  overwrite_a=True).T\n",
      "C:\\Users\\ov78\\Anaconda3\\lib\\site-packages\\sklearn\\linear_model\\ridge.py:147: LinAlgWarning: Ill-conditioned matrix (rcond=1.6329e-19): result may not be accurate.\n",
      "  overwrite_a=True).T\n",
      "C:\\Users\\ov78\\Anaconda3\\lib\\site-packages\\sklearn\\linear_model\\ridge.py:147: LinAlgWarning: Ill-conditioned matrix (rcond=1.79798e-19): result may not be accurate.\n",
      "  overwrite_a=True).T\n",
      "C:\\Users\\ov78\\Anaconda3\\lib\\site-packages\\sklearn\\linear_model\\ridge.py:147: LinAlgWarning: Ill-conditioned matrix (rcond=1.63056e-19): result may not be accurate.\n",
      "  overwrite_a=True).T\n",
      "C:\\Users\\ov78\\Anaconda3\\lib\\site-packages\\sklearn\\linear_model\\ridge.py:147: LinAlgWarning: Ill-conditioned matrix (rcond=1.45058e-19): result may not be accurate.\n",
      "  overwrite_a=True).T\n",
      "C:\\Users\\ov78\\Anaconda3\\lib\\site-packages\\sklearn\\linear_model\\ridge.py:147: LinAlgWarning: Ill-conditioned matrix (rcond=1.59658e-19): result may not be accurate.\n",
      "  overwrite_a=True).T\n",
      "C:\\Users\\ov78\\Anaconda3\\lib\\site-packages\\sklearn\\linear_model\\ridge.py:147: LinAlgWarning: Ill-conditioned matrix (rcond=4.96574e-19): result may not be accurate.\n",
      "  overwrite_a=True).T\n",
      "C:\\Users\\ov78\\Anaconda3\\lib\\site-packages\\sklearn\\linear_model\\ridge.py:147: LinAlgWarning: Ill-conditioned matrix (rcond=4.39024e-19): result may not be accurate.\n",
      "  overwrite_a=True).T\n",
      "C:\\Users\\ov78\\Anaconda3\\lib\\site-packages\\sklearn\\linear_model\\ridge.py:147: LinAlgWarning: Ill-conditioned matrix (rcond=4.86201e-19): result may not be accurate.\n",
      "  overwrite_a=True).T\n",
      "C:\\Users\\ov78\\Anaconda3\\lib\\site-packages\\sklearn\\linear_model\\ridge.py:147: LinAlgWarning: Ill-conditioned matrix (rcond=2.88598e-19): result may not be accurate.\n",
      "  overwrite_a=True).T\n",
      "C:\\Users\\ov78\\Anaconda3\\lib\\site-packages\\sklearn\\linear_model\\ridge.py:147: LinAlgWarning: Ill-conditioned matrix (rcond=2.56116e-19): result may not be accurate.\n",
      "  overwrite_a=True).T\n",
      "C:\\Users\\ov78\\Anaconda3\\lib\\site-packages\\sklearn\\linear_model\\ridge.py:147: LinAlgWarning: Ill-conditioned matrix (rcond=2.82581e-19): result may not be accurate.\n",
      "  overwrite_a=True).T\n",
      "C:\\Users\\ov78\\Anaconda3\\lib\\site-packages\\sklearn\\linear_model\\ridge.py:147: LinAlgWarning: Ill-conditioned matrix (rcond=4.52112e-19): result may not be accurate.\n",
      "  overwrite_a=True).T\n",
      "C:\\Users\\ov78\\Anaconda3\\lib\\site-packages\\sklearn\\linear_model\\ridge.py:147: LinAlgWarning: Ill-conditioned matrix (rcond=4.00027e-19): result may not be accurate.\n",
      "  overwrite_a=True).T\n",
      "C:\\Users\\ov78\\Anaconda3\\lib\\site-packages\\sklearn\\linear_model\\ridge.py:147: LinAlgWarning: Ill-conditioned matrix (rcond=4.42673e-19): result may not be accurate.\n",
      "  overwrite_a=True).T\n",
      "C:\\Users\\ov78\\Anaconda3\\lib\\site-packages\\sklearn\\linear_model\\ridge.py:147: LinAlgWarning: Ill-conditioned matrix (rcond=3.20394e-20): result may not be accurate.\n",
      "  overwrite_a=True).T\n",
      "C:\\Users\\ov78\\Anaconda3\\lib\\site-packages\\sklearn\\linear_model\\ridge.py:147: LinAlgWarning: Ill-conditioned matrix (rcond=2.85796e-20): result may not be accurate.\n",
      "  overwrite_a=True).T\n",
      "C:\\Users\\ov78\\Anaconda3\\lib\\site-packages\\sklearn\\linear_model\\ridge.py:147: LinAlgWarning: Ill-conditioned matrix (rcond=3.13719e-20): result may not be accurate.\n",
      "  overwrite_a=True).T\n",
      "C:\\Users\\ov78\\Anaconda3\\lib\\site-packages\\sklearn\\linear_model\\ridge.py:147: LinAlgWarning: Ill-conditioned matrix (rcond=2.28975e-19): result may not be accurate.\n",
      "  overwrite_a=True).T\n",
      "C:\\Users\\ov78\\Anaconda3\\lib\\site-packages\\sklearn\\linear_model\\ridge.py:147: LinAlgWarning: Ill-conditioned matrix (rcond=2.03436e-19): result may not be accurate.\n",
      "  overwrite_a=True).T\n",
      "C:\\Users\\ov78\\Anaconda3\\lib\\site-packages\\sklearn\\linear_model\\ridge.py:147: LinAlgWarning: Ill-conditioned matrix (rcond=2.24202e-19): result may not be accurate.\n",
      "  overwrite_a=True).T\n",
      "C:\\Users\\ov78\\Anaconda3\\lib\\site-packages\\sklearn\\linear_model\\ridge.py:147: LinAlgWarning: Ill-conditioned matrix (rcond=5.73547e-20): result may not be accurate.\n",
      "  overwrite_a=True).T\n",
      "C:\\Users\\ov78\\Anaconda3\\lib\\site-packages\\sklearn\\linear_model\\ridge.py:147: LinAlgWarning: Ill-conditioned matrix (rcond=5.11341e-20): result may not be accurate.\n",
      "  overwrite_a=True).T\n",
      "C:\\Users\\ov78\\Anaconda3\\lib\\site-packages\\sklearn\\linear_model\\ridge.py:147: LinAlgWarning: Ill-conditioned matrix (rcond=5.61597e-20): result may not be accurate.\n",
      "  overwrite_a=True).T\n",
      "C:\\Users\\ov78\\Anaconda3\\lib\\site-packages\\sklearn\\linear_model\\ridge.py:147: LinAlgWarning: Ill-conditioned matrix (rcond=3.3758e-19): result may not be accurate.\n",
      "  overwrite_a=True).T\n",
      "C:\\Users\\ov78\\Anaconda3\\lib\\site-packages\\sklearn\\linear_model\\ridge.py:147: LinAlgWarning: Ill-conditioned matrix (rcond=2.9931e-19): result may not be accurate.\n",
      "  overwrite_a=True).T\n",
      "C:\\Users\\ov78\\Anaconda3\\lib\\site-packages\\sklearn\\linear_model\\ridge.py:147: LinAlgWarning: Ill-conditioned matrix (rcond=3.30539e-19): result may not be accurate.\n",
      "  overwrite_a=True).T\n",
      "C:\\Users\\ov78\\Anaconda3\\lib\\site-packages\\sklearn\\linear_model\\ridge.py:147: LinAlgWarning: Ill-conditioned matrix (rcond=4.84026e-19): result may not be accurate.\n",
      "  overwrite_a=True).T\n",
      "C:\\Users\\ov78\\Anaconda3\\lib\\site-packages\\sklearn\\linear_model\\ridge.py:147: LinAlgWarning: Ill-conditioned matrix (rcond=4.28024e-19): result may not be accurate.\n",
      "  overwrite_a=True).T\n",
      "C:\\Users\\ov78\\Anaconda3\\lib\\site-packages\\sklearn\\linear_model\\ridge.py:147: LinAlgWarning: Ill-conditioned matrix (rcond=4.73917e-19): result may not be accurate.\n",
      "  overwrite_a=True).T\n",
      "C:\\Users\\ov78\\Anaconda3\\lib\\site-packages\\sklearn\\linear_model\\ridge.py:147: LinAlgWarning: Ill-conditioned matrix (rcond=2.92123e-19): result may not be accurate.\n",
      "  overwrite_a=True).T\n",
      "C:\\Users\\ov78\\Anaconda3\\lib\\site-packages\\sklearn\\linear_model\\ridge.py:147: LinAlgWarning: Ill-conditioned matrix (rcond=2.59228e-19): result may not be accurate.\n",
      "  overwrite_a=True).T\n",
      "C:\\Users\\ov78\\Anaconda3\\lib\\site-packages\\sklearn\\linear_model\\ridge.py:147: LinAlgWarning: Ill-conditioned matrix (rcond=2.86033e-19): result may not be accurate.\n",
      "  overwrite_a=True).T\n",
      "C:\\Users\\ov78\\Anaconda3\\lib\\site-packages\\sklearn\\linear_model\\ridge.py:147: LinAlgWarning: Ill-conditioned matrix (rcond=2.39536e-19): result may not be accurate.\n",
      "  overwrite_a=True).T\n",
      "C:\\Users\\ov78\\Anaconda3\\lib\\site-packages\\sklearn\\linear_model\\ridge.py:147: LinAlgWarning: Ill-conditioned matrix (rcond=2.12776e-19): result may not be accurate.\n",
      "  overwrite_a=True).T\n",
      "C:\\Users\\ov78\\Anaconda3\\lib\\site-packages\\sklearn\\linear_model\\ridge.py:147: LinAlgWarning: Ill-conditioned matrix (rcond=2.34543e-19): result may not be accurate.\n",
      "  overwrite_a=True).T\n",
      "C:\\Users\\ov78\\Anaconda3\\lib\\site-packages\\sklearn\\linear_model\\ridge.py:147: LinAlgWarning: Ill-conditioned matrix (rcond=4.57684e-19): result may not be accurate.\n",
      "  overwrite_a=True).T\n",
      "C:\\Users\\ov78\\Anaconda3\\lib\\site-packages\\sklearn\\linear_model\\ridge.py:147: LinAlgWarning: Ill-conditioned matrix (rcond=4.04917e-19): result may not be accurate.\n",
      "  overwrite_a=True).T\n",
      "C:\\Users\\ov78\\Anaconda3\\lib\\site-packages\\sklearn\\linear_model\\ridge.py:147: LinAlgWarning: Ill-conditioned matrix (rcond=4.48128e-19): result may not be accurate.\n",
      "  overwrite_a=True).T\n",
      "C:\\Users\\ov78\\Anaconda3\\lib\\site-packages\\sklearn\\linear_model\\ridge.py:147: LinAlgWarning: Ill-conditioned matrix (rcond=3.27927e-19): result may not be accurate.\n",
      "  overwrite_a=True).T\n",
      "C:\\Users\\ov78\\Anaconda3\\lib\\site-packages\\sklearn\\linear_model\\ridge.py:147: LinAlgWarning: Ill-conditioned matrix (rcond=2.90803e-19): result may not be accurate.\n",
      "  overwrite_a=True).T\n",
      "C:\\Users\\ov78\\Anaconda3\\lib\\site-packages\\sklearn\\linear_model\\ridge.py:147: LinAlgWarning: Ill-conditioned matrix (rcond=3.21088e-19): result may not be accurate.\n",
      "  overwrite_a=True).T\n",
      "C:\\Users\\ov78\\Anaconda3\\lib\\site-packages\\sklearn\\linear_model\\ridge.py:147: LinAlgWarning: Ill-conditioned matrix (rcond=1.08824e-19): result may not be accurate.\n",
      "  overwrite_a=True).T\n",
      "C:\\Users\\ov78\\Anaconda3\\lib\\site-packages\\sklearn\\linear_model\\ridge.py:147: LinAlgWarning: Ill-conditioned matrix (rcond=9.69178e-20): result may not be accurate.\n",
      "  overwrite_a=True).T\n",
      "C:\\Users\\ov78\\Anaconda3\\lib\\site-packages\\sklearn\\linear_model\\ridge.py:147: LinAlgWarning: Ill-conditioned matrix (rcond=1.06556e-19): result may not be accurate.\n",
      "  overwrite_a=True).T\n",
      "C:\\Users\\ov78\\Anaconda3\\lib\\site-packages\\sklearn\\linear_model\\ridge.py:147: LinAlgWarning: Ill-conditioned matrix (rcond=3.2895e-19): result may not be accurate.\n",
      "  overwrite_a=True).T\n",
      "C:\\Users\\ov78\\Anaconda3\\lib\\site-packages\\sklearn\\linear_model\\ridge.py:147: LinAlgWarning: Ill-conditioned matrix (rcond=2.91705e-19): result may not be accurate.\n",
      "  overwrite_a=True).T\n",
      "C:\\Users\\ov78\\Anaconda3\\lib\\site-packages\\sklearn\\linear_model\\ridge.py:147: LinAlgWarning: Ill-conditioned matrix (rcond=3.2209e-19): result may not be accurate.\n",
      "  overwrite_a=True).T\n",
      "C:\\Users\\ov78\\Anaconda3\\lib\\site-packages\\sklearn\\linear_model\\ridge.py:147: LinAlgWarning: Ill-conditioned matrix (rcond=3.62701e-19): result may not be accurate.\n",
      "  overwrite_a=True).T\n",
      "C:\\Users\\ov78\\Anaconda3\\lib\\site-packages\\sklearn\\linear_model\\ridge.py:147: LinAlgWarning: Ill-conditioned matrix (rcond=3.21434e-19): result may not be accurate.\n",
      "  overwrite_a=True).T\n",
      "C:\\Users\\ov78\\Anaconda3\\lib\\site-packages\\sklearn\\linear_model\\ridge.py:147: LinAlgWarning: Ill-conditioned matrix (rcond=3.55135e-19): result may not be accurate.\n",
      "  overwrite_a=True).T\n",
      "C:\\Users\\ov78\\Anaconda3\\lib\\site-packages\\sklearn\\linear_model\\ridge.py:147: LinAlgWarning: Ill-conditioned matrix (rcond=9.5234e-20): result may not be accurate.\n",
      "  overwrite_a=True).T\n",
      "C:\\Users\\ov78\\Anaconda3\\lib\\site-packages\\sklearn\\linear_model\\ridge.py:147: LinAlgWarning: Ill-conditioned matrix (rcond=8.48386e-20): result may not be accurate.\n",
      "  overwrite_a=True).T\n",
      "C:\\Users\\ov78\\Anaconda3\\lib\\site-packages\\sklearn\\linear_model\\ridge.py:147: LinAlgWarning: Ill-conditioned matrix (rcond=9.32497e-20): result may not be accurate.\n",
      "  overwrite_a=True).T\n",
      "C:\\Users\\ov78\\Anaconda3\\lib\\site-packages\\sklearn\\linear_model\\ridge.py:147: LinAlgWarning: Ill-conditioned matrix (rcond=1.2149e-19): result may not be accurate.\n",
      "  overwrite_a=True).T\n",
      "C:\\Users\\ov78\\Anaconda3\\lib\\site-packages\\sklearn\\linear_model\\ridge.py:147: LinAlgWarning: Ill-conditioned matrix (rcond=1.08171e-19): result may not be accurate.\n",
      "  overwrite_a=True).T\n",
      "C:\\Users\\ov78\\Anaconda3\\lib\\site-packages\\sklearn\\linear_model\\ridge.py:147: LinAlgWarning: Ill-conditioned matrix (rcond=1.18958e-19): result may not be accurate.\n",
      "  overwrite_a=True).T\n",
      "C:\\Users\\ov78\\Anaconda3\\lib\\site-packages\\sklearn\\linear_model\\ridge.py:147: LinAlgWarning: Ill-conditioned matrix (rcond=2.62194e-19): result may not be accurate.\n",
      "  overwrite_a=True).T\n",
      "C:\\Users\\ov78\\Anaconda3\\lib\\site-packages\\sklearn\\linear_model\\ridge.py:147: LinAlgWarning: Ill-conditioned matrix (rcond=2.32801e-19): result may not be accurate.\n",
      "  overwrite_a=True).T\n",
      "C:\\Users\\ov78\\Anaconda3\\lib\\site-packages\\sklearn\\linear_model\\ridge.py:147: LinAlgWarning: Ill-conditioned matrix (rcond=2.56728e-19): result may not be accurate.\n",
      "  overwrite_a=True).T\n",
      "C:\\Users\\ov78\\Anaconda3\\lib\\site-packages\\sklearn\\linear_model\\ridge.py:147: LinAlgWarning: Ill-conditioned matrix (rcond=2.72975e-19): result may not be accurate.\n",
      "  overwrite_a=True).T\n",
      "C:\\Users\\ov78\\Anaconda3\\lib\\site-packages\\sklearn\\linear_model\\ridge.py:147: LinAlgWarning: Ill-conditioned matrix (rcond=2.42324e-19): result may not be accurate.\n",
      "  overwrite_a=True).T\n",
      "C:\\Users\\ov78\\Anaconda3\\lib\\site-packages\\sklearn\\linear_model\\ridge.py:147: LinAlgWarning: Ill-conditioned matrix (rcond=2.67285e-19): result may not be accurate.\n",
      "  overwrite_a=True).T\n",
      "C:\\Users\\ov78\\Anaconda3\\lib\\site-packages\\sklearn\\linear_model\\ridge.py:147: LinAlgWarning: Ill-conditioned matrix (rcond=4.11441e-19): result may not be accurate.\n",
      "  overwrite_a=True).T\n",
      "C:\\Users\\ov78\\Anaconda3\\lib\\site-packages\\sklearn\\linear_model\\ridge.py:147: LinAlgWarning: Ill-conditioned matrix (rcond=3.64305e-19): result may not be accurate.\n",
      "  overwrite_a=True).T\n",
      "C:\\Users\\ov78\\Anaconda3\\lib\\site-packages\\sklearn\\linear_model\\ridge.py:147: LinAlgWarning: Ill-conditioned matrix (rcond=4.02855e-19): result may not be accurate.\n",
      "  overwrite_a=True).T\n",
      "C:\\Users\\ov78\\Anaconda3\\lib\\site-packages\\sklearn\\linear_model\\ridge.py:147: LinAlgWarning: Ill-conditioned matrix (rcond=1.15974e-19): result may not be accurate.\n",
      "  overwrite_a=True).T\n",
      "C:\\Users\\ov78\\Anaconda3\\lib\\site-packages\\sklearn\\linear_model\\ridge.py:147: LinAlgWarning: Ill-conditioned matrix (rcond=1.0327e-19): result may not be accurate.\n",
      "  overwrite_a=True).T\n",
      "C:\\Users\\ov78\\Anaconda3\\lib\\site-packages\\sklearn\\linear_model\\ridge.py:147: LinAlgWarning: Ill-conditioned matrix (rcond=1.13557e-19): result may not be accurate.\n",
      "  overwrite_a=True).T\n",
      "C:\\Users\\ov78\\Anaconda3\\lib\\site-packages\\sklearn\\linear_model\\ridge.py:147: LinAlgWarning: Ill-conditioned matrix (rcond=3.90062e-19): result may not be accurate.\n",
      "  overwrite_a=True).T\n",
      "C:\\Users\\ov78\\Anaconda3\\lib\\site-packages\\sklearn\\linear_model\\ridge.py:147: LinAlgWarning: Ill-conditioned matrix (rcond=3.45509e-19): result may not be accurate.\n",
      "  overwrite_a=True).T\n",
      "C:\\Users\\ov78\\Anaconda3\\lib\\site-packages\\sklearn\\linear_model\\ridge.py:147: LinAlgWarning: Ill-conditioned matrix (rcond=3.81923e-19): result may not be accurate.\n",
      "  overwrite_a=True).T\n",
      "C:\\Users\\ov78\\Anaconda3\\lib\\site-packages\\sklearn\\linear_model\\ridge.py:147: LinAlgWarning: Ill-conditioned matrix (rcond=3.47853e-19): result may not be accurate.\n",
      "  overwrite_a=True).T\n",
      "C:\\Users\\ov78\\Anaconda3\\lib\\site-packages\\sklearn\\linear_model\\ridge.py:147: LinAlgWarning: Ill-conditioned matrix (rcond=3.0836e-19): result may not be accurate.\n",
      "  overwrite_a=True).T\n",
      "C:\\Users\\ov78\\Anaconda3\\lib\\site-packages\\sklearn\\linear_model\\ridge.py:147: LinAlgWarning: Ill-conditioned matrix (rcond=3.40598e-19): result may not be accurate.\n",
      "  overwrite_a=True).T\n",
      "C:\\Users\\ov78\\Anaconda3\\lib\\site-packages\\sklearn\\linear_model\\ridge.py:147: LinAlgWarning: Ill-conditioned matrix (rcond=3.10019e-21): result may not be accurate.\n",
      "  overwrite_a=True).T\n",
      "C:\\Users\\ov78\\Anaconda3\\lib\\site-packages\\sklearn\\linear_model\\ridge.py:147: LinAlgWarning: Ill-conditioned matrix (rcond=2.76712e-21): result may not be accurate.\n",
      "  overwrite_a=True).T\n",
      "C:\\Users\\ov78\\Anaconda3\\lib\\site-packages\\sklearn\\linear_model\\ridge.py:147: LinAlgWarning: Ill-conditioned matrix (rcond=3.03559e-21): result may not be accurate.\n",
      "  overwrite_a=True).T\n",
      "C:\\Users\\ov78\\Anaconda3\\lib\\site-packages\\sklearn\\linear_model\\ridge.py:147: LinAlgWarning: Ill-conditioned matrix (rcond=2.04505e-19): result may not be accurate.\n",
      "  overwrite_a=True).T\n",
      "C:\\Users\\ov78\\Anaconda3\\lib\\site-packages\\sklearn\\linear_model\\ridge.py:147: LinAlgWarning: Ill-conditioned matrix (rcond=1.81783e-19): result may not be accurate.\n",
      "  overwrite_a=True).T\n",
      "C:\\Users\\ov78\\Anaconda3\\lib\\site-packages\\sklearn\\linear_model\\ridge.py:147: LinAlgWarning: Ill-conditioned matrix (rcond=2.00243e-19): result may not be accurate.\n",
      "  overwrite_a=True).T\n",
      "C:\\Users\\ov78\\Anaconda3\\lib\\site-packages\\sklearn\\linear_model\\ridge.py:147: LinAlgWarning: Ill-conditioned matrix (rcond=2.39371e-19): result may not be accurate.\n",
      "  overwrite_a=True).T\n",
      "C:\\Users\\ov78\\Anaconda3\\lib\\site-packages\\sklearn\\linear_model\\ridge.py:147: LinAlgWarning: Ill-conditioned matrix (rcond=2.1263e-19): result may not be accurate.\n",
      "  overwrite_a=True).T\n",
      "C:\\Users\\ov78\\Anaconda3\\lib\\site-packages\\sklearn\\linear_model\\ridge.py:147: LinAlgWarning: Ill-conditioned matrix (rcond=2.34381e-19): result may not be accurate.\n",
      "  overwrite_a=True).T\n",
      "C:\\Users\\ov78\\Anaconda3\\lib\\site-packages\\sklearn\\linear_model\\ridge.py:147: LinAlgWarning: Ill-conditioned matrix (rcond=3.27008e-19): result may not be accurate.\n",
      "  overwrite_a=True).T\n",
      "C:\\Users\\ov78\\Anaconda3\\lib\\site-packages\\sklearn\\linear_model\\ridge.py:147: LinAlgWarning: Ill-conditioned matrix (rcond=2.89994e-19): result may not be accurate.\n",
      "  overwrite_a=True).T\n",
      "C:\\Users\\ov78\\Anaconda3\\lib\\site-packages\\sklearn\\linear_model\\ridge.py:147: LinAlgWarning: Ill-conditioned matrix (rcond=3.20189e-19): result may not be accurate.\n",
      "  overwrite_a=True).T\n",
      "C:\\Users\\ov78\\Anaconda3\\lib\\site-packages\\sklearn\\linear_model\\ridge.py:147: LinAlgWarning: Ill-conditioned matrix (rcond=2.58868e-19): result may not be accurate.\n",
      "  overwrite_a=True).T\n",
      "C:\\Users\\ov78\\Anaconda3\\lib\\site-packages\\sklearn\\linear_model\\ridge.py:147: LinAlgWarning: Ill-conditioned matrix (rcond=2.29863e-19): result may not be accurate.\n",
      "  overwrite_a=True).T\n",
      "C:\\Users\\ov78\\Anaconda3\\lib\\site-packages\\sklearn\\linear_model\\ridge.py:147: LinAlgWarning: Ill-conditioned matrix (rcond=2.53471e-19): result may not be accurate.\n",
      "  overwrite_a=True).T\n",
      "C:\\Users\\ov78\\Anaconda3\\lib\\site-packages\\sklearn\\linear_model\\ridge.py:147: LinAlgWarning: Ill-conditioned matrix (rcond=4.09647e-19): result may not be accurate.\n",
      "  overwrite_a=True).T\n",
      "C:\\Users\\ov78\\Anaconda3\\lib\\site-packages\\sklearn\\linear_model\\ridge.py:147: LinAlgWarning: Ill-conditioned matrix (rcond=3.62728e-19): result may not be accurate.\n",
      "  overwrite_a=True).T\n",
      "C:\\Users\\ov78\\Anaconda3\\lib\\site-packages\\sklearn\\linear_model\\ridge.py:147: LinAlgWarning: Ill-conditioned matrix (rcond=4.01098e-19): result may not be accurate.\n",
      "  overwrite_a=True).T\n",
      "C:\\Users\\ov78\\Anaconda3\\lib\\site-packages\\sklearn\\linear_model\\ridge.py:147: LinAlgWarning: Ill-conditioned matrix (rcond=4.96899e-19): result may not be accurate.\n",
      "  overwrite_a=True).T\n",
      "C:\\Users\\ov78\\Anaconda3\\lib\\site-packages\\sklearn\\linear_model\\ridge.py:147: LinAlgWarning: Ill-conditioned matrix (rcond=4.3931e-19): result may not be accurate.\n",
      "  overwrite_a=True).T\n",
      "C:\\Users\\ov78\\Anaconda3\\lib\\site-packages\\sklearn\\linear_model\\ridge.py:147: LinAlgWarning: Ill-conditioned matrix (rcond=4.8652e-19): result may not be accurate.\n",
      "  overwrite_a=True).T\n",
      "C:\\Users\\ov78\\Anaconda3\\lib\\site-packages\\sklearn\\linear_model\\ridge.py:147: LinAlgWarning: Ill-conditioned matrix (rcond=4.04755e-19): result may not be accurate.\n",
      "  overwrite_a=True).T\n",
      "C:\\Users\\ov78\\Anaconda3\\lib\\site-packages\\sklearn\\linear_model\\ridge.py:147: LinAlgWarning: Ill-conditioned matrix (rcond=3.58428e-19): result may not be accurate.\n",
      "  overwrite_a=True).T\n",
      "C:\\Users\\ov78\\Anaconda3\\lib\\site-packages\\sklearn\\linear_model\\ridge.py:147: LinAlgWarning: Ill-conditioned matrix (rcond=3.96309e-19): result may not be accurate.\n",
      "  overwrite_a=True).T\n",
      "C:\\Users\\ov78\\Anaconda3\\lib\\site-packages\\sklearn\\linear_model\\ridge.py:147: LinAlgWarning: Ill-conditioned matrix (rcond=4.87061e-19): result may not be accurate.\n",
      "  overwrite_a=True).T\n",
      "C:\\Users\\ov78\\Anaconda3\\lib\\site-packages\\sklearn\\linear_model\\ridge.py:147: LinAlgWarning: Ill-conditioned matrix (rcond=4.30685e-19): result may not be accurate.\n",
      "  overwrite_a=True).T\n",
      "C:\\Users\\ov78\\Anaconda3\\lib\\site-packages\\sklearn\\linear_model\\ridge.py:147: LinAlgWarning: Ill-conditioned matrix (rcond=4.76888e-19): result may not be accurate.\n",
      "  overwrite_a=True).T\n",
      "C:\\Users\\ov78\\Anaconda3\\lib\\site-packages\\sklearn\\linear_model\\ridge.py:147: LinAlgWarning: Ill-conditioned matrix (rcond=1.27277e-19): result may not be accurate.\n",
      "  overwrite_a=True).T\n",
      "C:\\Users\\ov78\\Anaconda3\\lib\\site-packages\\sklearn\\linear_model\\ridge.py:147: LinAlgWarning: Ill-conditioned matrix (rcond=1.1331e-19): result may not be accurate.\n",
      "  overwrite_a=True).T\n",
      "C:\\Users\\ov78\\Anaconda3\\lib\\site-packages\\sklearn\\linear_model\\ridge.py:147: LinAlgWarning: Ill-conditioned matrix (rcond=1.24625e-19): result may not be accurate.\n",
      "  overwrite_a=True).T\n",
      "C:\\Users\\ov78\\Anaconda3\\lib\\site-packages\\sklearn\\linear_model\\ridge.py:147: LinAlgWarning: Ill-conditioned matrix (rcond=1.21741e-19): result may not be accurate.\n",
      "  overwrite_a=True).T\n",
      "C:\\Users\\ov78\\Anaconda3\\lib\\site-packages\\sklearn\\linear_model\\ridge.py:147: LinAlgWarning: Ill-conditioned matrix (rcond=1.08393e-19): result may not be accurate.\n",
      "  overwrite_a=True).T\n",
      "C:\\Users\\ov78\\Anaconda3\\lib\\site-packages\\sklearn\\linear_model\\ridge.py:147: LinAlgWarning: Ill-conditioned matrix (rcond=1.19204e-19): result may not be accurate.\n",
      "  overwrite_a=True).T\n",
      "C:\\Users\\ov78\\Anaconda3\\lib\\site-packages\\sklearn\\linear_model\\ridge.py:147: LinAlgWarning: Ill-conditioned matrix (rcond=4.96969e-19): result may not be accurate.\n",
      "  overwrite_a=True).T\n",
      "C:\\Users\\ov78\\Anaconda3\\lib\\site-packages\\sklearn\\linear_model\\ridge.py:147: LinAlgWarning: Ill-conditioned matrix (rcond=4.3937e-19): result may not be accurate.\n",
      "  overwrite_a=True).T\n",
      "C:\\Users\\ov78\\Anaconda3\\lib\\site-packages\\sklearn\\linear_model\\ridge.py:147: LinAlgWarning: Ill-conditioned matrix (rcond=4.86588e-19): result may not be accurate.\n",
      "  overwrite_a=True).T\n",
      "C:\\Users\\ov78\\Anaconda3\\lib\\site-packages\\sklearn\\linear_model\\ridge.py:147: LinAlgWarning: Ill-conditioned matrix (rcond=4.18057e-19): result may not be accurate.\n",
      "  overwrite_a=True).T\n",
      "C:\\Users\\ov78\\Anaconda3\\lib\\site-packages\\sklearn\\linear_model\\ridge.py:147: LinAlgWarning: Ill-conditioned matrix (rcond=3.70119e-19): result may not be accurate.\n",
      "  overwrite_a=True).T\n",
      "C:\\Users\\ov78\\Anaconda3\\lib\\site-packages\\sklearn\\linear_model\\ridge.py:147: LinAlgWarning: Ill-conditioned matrix (rcond=4.09331e-19): result may not be accurate.\n",
      "  overwrite_a=True).T\n",
      "C:\\Users\\ov78\\Anaconda3\\lib\\site-packages\\sklearn\\linear_model\\ridge.py:147: LinAlgWarning: Ill-conditioned matrix (rcond=3.40034e-19): result may not be accurate.\n",
      "  overwrite_a=True).T\n",
      "C:\\Users\\ov78\\Anaconda3\\lib\\site-packages\\sklearn\\linear_model\\ridge.py:147: LinAlgWarning: Ill-conditioned matrix (rcond=3.01472e-19): result may not be accurate.\n",
      "  overwrite_a=True).T\n",
      "C:\\Users\\ov78\\Anaconda3\\lib\\site-packages\\sklearn\\linear_model\\ridge.py:147: LinAlgWarning: Ill-conditioned matrix (rcond=3.32942e-19): result may not be accurate.\n",
      "  overwrite_a=True).T\n",
      "C:\\Users\\ov78\\Anaconda3\\lib\\site-packages\\sklearn\\linear_model\\ridge.py:147: LinAlgWarning: Ill-conditioned matrix (rcond=1.69045e-19): result may not be accurate.\n",
      "  overwrite_a=True).T\n",
      "C:\\Users\\ov78\\Anaconda3\\lib\\site-packages\\sklearn\\linear_model\\ridge.py:147: LinAlgWarning: Ill-conditioned matrix (rcond=1.50368e-19): result may not be accurate.\n",
      "  overwrite_a=True).T\n",
      "C:\\Users\\ov78\\Anaconda3\\lib\\site-packages\\sklearn\\linear_model\\ridge.py:147: LinAlgWarning: Ill-conditioned matrix (rcond=1.65522e-19): result may not be accurate.\n",
      "  overwrite_a=True).T\n",
      "C:\\Users\\ov78\\Anaconda3\\lib\\site-packages\\sklearn\\linear_model\\ridge.py:147: LinAlgWarning: Ill-conditioned matrix (rcond=1.31358e-19): result may not be accurate.\n",
      "  overwrite_a=True).T\n",
      "C:\\Users\\ov78\\Anaconda3\\lib\\site-packages\\sklearn\\linear_model\\ridge.py:147: LinAlgWarning: Ill-conditioned matrix (rcond=1.16933e-19): result may not be accurate.\n",
      "  overwrite_a=True).T\n",
      "C:\\Users\\ov78\\Anaconda3\\lib\\site-packages\\sklearn\\linear_model\\ridge.py:147: LinAlgWarning: Ill-conditioned matrix (rcond=1.28621e-19): result may not be accurate.\n",
      "  overwrite_a=True).T\n",
      "C:\\Users\\ov78\\Anaconda3\\lib\\site-packages\\sklearn\\linear_model\\ridge.py:147: LinAlgWarning: Ill-conditioned matrix (rcond=2.93071e-19): result may not be accurate.\n",
      "  overwrite_a=True).T\n",
      "C:\\Users\\ov78\\Anaconda3\\lib\\site-packages\\sklearn\\linear_model\\ridge.py:147: LinAlgWarning: Ill-conditioned matrix (rcond=2.60064e-19): result may not be accurate.\n",
      "  overwrite_a=True).T\n",
      "C:\\Users\\ov78\\Anaconda3\\lib\\site-packages\\sklearn\\linear_model\\ridge.py:147: LinAlgWarning: Ill-conditioned matrix (rcond=2.8696e-19): result may not be accurate.\n",
      "  overwrite_a=True).T\n",
      "C:\\Users\\ov78\\Anaconda3\\lib\\site-packages\\sklearn\\linear_model\\ridge.py:147: LinAlgWarning: Ill-conditioned matrix (rcond=4.55719e-19): result may not be accurate.\n",
      "  overwrite_a=True).T\n",
      "C:\\Users\\ov78\\Anaconda3\\lib\\site-packages\\sklearn\\linear_model\\ridge.py:147: LinAlgWarning: Ill-conditioned matrix (rcond=4.03192e-19): result may not be accurate.\n",
      "  overwrite_a=True).T\n",
      "C:\\Users\\ov78\\Anaconda3\\lib\\site-packages\\sklearn\\linear_model\\ridge.py:147: LinAlgWarning: Ill-conditioned matrix (rcond=4.46204e-19): result may not be accurate.\n",
      "  overwrite_a=True).T\n",
      "C:\\Users\\ov78\\Anaconda3\\lib\\site-packages\\sklearn\\linear_model\\ridge.py:147: LinAlgWarning: Ill-conditioned matrix (rcond=4.2915e-19): result may not be accurate.\n",
      "  overwrite_a=True).T\n",
      "C:\\Users\\ov78\\Anaconda3\\lib\\site-packages\\sklearn\\linear_model\\ridge.py:147: LinAlgWarning: Ill-conditioned matrix (rcond=3.79865e-19): result may not be accurate.\n",
      "  overwrite_a=True).T\n",
      "C:\\Users\\ov78\\Anaconda3\\lib\\site-packages\\sklearn\\linear_model\\ridge.py:147: LinAlgWarning: Ill-conditioned matrix (rcond=4.20192e-19): result may not be accurate.\n",
      "  overwrite_a=True).T\n",
      "C:\\Users\\ov78\\Anaconda3\\lib\\site-packages\\sklearn\\linear_model\\ridge.py:147: LinAlgWarning: Ill-conditioned matrix (rcond=3.93519e-19): result may not be accurate.\n",
      "  overwrite_a=True).T\n",
      "C:\\Users\\ov78\\Anaconda3\\lib\\site-packages\\sklearn\\linear_model\\ridge.py:147: LinAlgWarning: Ill-conditioned matrix (rcond=3.48549e-19): result may not be accurate.\n",
      "  overwrite_a=True).T\n",
      "C:\\Users\\ov78\\Anaconda3\\lib\\site-packages\\sklearn\\linear_model\\ridge.py:147: LinAlgWarning: Ill-conditioned matrix (rcond=3.85308e-19): result may not be accurate.\n",
      "  overwrite_a=True).T\n",
      "C:\\Users\\ov78\\Anaconda3\\lib\\site-packages\\sklearn\\linear_model\\ridge.py:147: LinAlgWarning: Ill-conditioned matrix (rcond=5.24471e-20): result may not be accurate.\n",
      "  overwrite_a=True).T\n",
      "C:\\Users\\ov78\\Anaconda3\\lib\\site-packages\\sklearn\\linear_model\\ridge.py:147: LinAlgWarning: Ill-conditioned matrix (rcond=4.67633e-20): result may not be accurate.\n",
      "  overwrite_a=True).T\n",
      "C:\\Users\\ov78\\Anaconda3\\lib\\site-packages\\sklearn\\linear_model\\ridge.py:147: LinAlgWarning: Ill-conditioned matrix (rcond=5.13543e-20): result may not be accurate.\n",
      "  overwrite_a=True).T\n",
      "C:\\Users\\ov78\\Anaconda3\\lib\\site-packages\\sklearn\\linear_model\\ridge.py:147: LinAlgWarning: Ill-conditioned matrix (rcond=2.23608e-19): result may not be accurate.\n",
      "  overwrite_a=True).T\n",
      "C:\\Users\\ov78\\Anaconda3\\lib\\site-packages\\sklearn\\linear_model\\ridge.py:147: LinAlgWarning: Ill-conditioned matrix (rcond=1.98689e-19): result may not be accurate.\n",
      "  overwrite_a=True).T\n",
      "C:\\Users\\ov78\\Anaconda3\\lib\\site-packages\\sklearn\\linear_model\\ridge.py:147: LinAlgWarning: Ill-conditioned matrix (rcond=2.18948e-19): result may not be accurate.\n",
      "  overwrite_a=True).T\n",
      "C:\\Users\\ov78\\Anaconda3\\lib\\site-packages\\sklearn\\linear_model\\ridge.py:147: LinAlgWarning: Ill-conditioned matrix (rcond=1.77359e-19): result may not be accurate.\n",
      "  overwrite_a=True).T\n",
      "C:\\Users\\ov78\\Anaconda3\\lib\\site-packages\\sklearn\\linear_model\\ridge.py:147: LinAlgWarning: Ill-conditioned matrix (rcond=1.57738e-19): result may not be accurate.\n",
      "  overwrite_a=True).T\n",
      "C:\\Users\\ov78\\Anaconda3\\lib\\site-packages\\sklearn\\linear_model\\ridge.py:147: LinAlgWarning: Ill-conditioned matrix (rcond=1.73663e-19): result may not be accurate.\n",
      "  overwrite_a=True).T\n",
      "C:\\Users\\ov78\\Anaconda3\\lib\\site-packages\\sklearn\\linear_model\\ridge.py:147: LinAlgWarning: Ill-conditioned matrix (rcond=5.1495e-19): result may not be accurate.\n",
      "  overwrite_a=True).T\n",
      "C:\\Users\\ov78\\Anaconda3\\lib\\site-packages\\sklearn\\linear_model\\ridge.py:147: LinAlgWarning: Ill-conditioned matrix (rcond=4.55127e-19): result may not be accurate.\n",
      "  overwrite_a=True).T\n",
      "C:\\Users\\ov78\\Anaconda3\\lib\\site-packages\\sklearn\\linear_model\\ridge.py:147: LinAlgWarning: Ill-conditioned matrix (rcond=5.04191e-19): result may not be accurate.\n",
      "  overwrite_a=True).T\n",
      "C:\\Users\\ov78\\Anaconda3\\lib\\site-packages\\sklearn\\linear_model\\ridge.py:147: LinAlgWarning: Ill-conditioned matrix (rcond=2.84004e-19): result may not be accurate.\n",
      "  overwrite_a=True).T\n",
      "C:\\Users\\ov78\\Anaconda3\\lib\\site-packages\\sklearn\\linear_model\\ridge.py:147: LinAlgWarning: Ill-conditioned matrix (rcond=2.52062e-19): result may not be accurate.\n",
      "  overwrite_a=True).T\n",
      "C:\\Users\\ov78\\Anaconda3\\lib\\site-packages\\sklearn\\linear_model\\ridge.py:147: LinAlgWarning: Ill-conditioned matrix (rcond=2.78083e-19): result may not be accurate.\n",
      "  overwrite_a=True).T\n",
      "C:\\Users\\ov78\\Anaconda3\\lib\\site-packages\\sklearn\\linear_model\\ridge.py:147: LinAlgWarning: Ill-conditioned matrix (rcond=3.6865e-19): result may not be accurate.\n",
      "  overwrite_a=True).T\n",
      "C:\\Users\\ov78\\Anaconda3\\lib\\site-packages\\sklearn\\linear_model\\ridge.py:147: LinAlgWarning: Ill-conditioned matrix (rcond=3.2667e-19): result may not be accurate.\n",
      "  overwrite_a=True).T\n",
      "C:\\Users\\ov78\\Anaconda3\\lib\\site-packages\\sklearn\\linear_model\\ridge.py:147: LinAlgWarning: Ill-conditioned matrix (rcond=3.60959e-19): result may not be accurate.\n",
      "  overwrite_a=True).T\n",
      "C:\\Users\\ov78\\Anaconda3\\lib\\site-packages\\sklearn\\linear_model\\ridge.py:147: LinAlgWarning: Ill-conditioned matrix (rcond=1.02318e-20): result may not be accurate.\n",
      "  overwrite_a=True).T\n",
      "C:\\Users\\ov78\\Anaconda3\\lib\\site-packages\\sklearn\\linear_model\\ridge.py:147: LinAlgWarning: Ill-conditioned matrix (rcond=9.13099e-21): result may not be accurate.\n",
      "  overwrite_a=True).T\n",
      "C:\\Users\\ov78\\Anaconda3\\lib\\site-packages\\sklearn\\linear_model\\ridge.py:147: LinAlgWarning: Ill-conditioned matrix (rcond=1.00186e-20): result may not be accurate.\n",
      "  overwrite_a=True).T\n",
      "C:\\Users\\ov78\\Anaconda3\\lib\\site-packages\\sklearn\\linear_model\\ridge.py:147: LinAlgWarning: Ill-conditioned matrix (rcond=4.87362e-19): result may not be accurate.\n",
      "  overwrite_a=True).T\n",
      "C:\\Users\\ov78\\Anaconda3\\lib\\site-packages\\sklearn\\linear_model\\ridge.py:147: LinAlgWarning: Ill-conditioned matrix (rcond=4.30949e-19): result may not be accurate.\n",
      "  overwrite_a=True).T\n",
      "C:\\Users\\ov78\\Anaconda3\\lib\\site-packages\\sklearn\\linear_model\\ridge.py:147: LinAlgWarning: Ill-conditioned matrix (rcond=4.77183e-19): result may not be accurate.\n",
      "  overwrite_a=True).T\n",
      "C:\\Users\\ov78\\Anaconda3\\lib\\site-packages\\sklearn\\linear_model\\ridge.py:147: LinAlgWarning: Ill-conditioned matrix (rcond=4.34212e-19): result may not be accurate.\n",
      "  overwrite_a=True).T\n",
      "C:\\Users\\ov78\\Anaconda3\\lib\\site-packages\\sklearn\\linear_model\\ridge.py:147: LinAlgWarning: Ill-conditioned matrix (rcond=3.8431e-19): result may not be accurate.\n",
      "  overwrite_a=True).T\n",
      "C:\\Users\\ov78\\Anaconda3\\lib\\site-packages\\sklearn\\linear_model\\ridge.py:147: LinAlgWarning: Ill-conditioned matrix (rcond=4.25148e-19): result may not be accurate.\n",
      "  overwrite_a=True).T\n",
      "C:\\Users\\ov78\\Anaconda3\\lib\\site-packages\\sklearn\\linear_model\\ridge.py:147: LinAlgWarning: Ill-conditioned matrix (rcond=1.75185e-19): result may not be accurate.\n",
      "  overwrite_a=True).T\n",
      "C:\\Users\\ov78\\Anaconda3\\lib\\site-packages\\sklearn\\linear_model\\ridge.py:147: LinAlgWarning: Ill-conditioned matrix (rcond=1.55811e-19): result may not be accurate.\n",
      "  overwrite_a=True).T\n",
      "C:\\Users\\ov78\\Anaconda3\\lib\\site-packages\\sklearn\\linear_model\\ridge.py:147: LinAlgWarning: Ill-conditioned matrix (rcond=1.71534e-19): result may not be accurate.\n",
      "  overwrite_a=True).T\n",
      "C:\\Users\\ov78\\Anaconda3\\lib\\site-packages\\sklearn\\linear_model\\ridge.py:147: LinAlgWarning: Ill-conditioned matrix (rcond=1.42395e-19): result may not be accurate.\n",
      "  overwrite_a=True).T\n",
      "C:\\Users\\ov78\\Anaconda3\\lib\\site-packages\\sklearn\\linear_model\\ridge.py:147: LinAlgWarning: Ill-conditioned matrix (rcond=1.2673e-19): result may not be accurate.\n",
      "  overwrite_a=True).T\n",
      "C:\\Users\\ov78\\Anaconda3\\lib\\site-packages\\sklearn\\linear_model\\ridge.py:147: LinAlgWarning: Ill-conditioned matrix (rcond=1.39428e-19): result may not be accurate.\n",
      "  overwrite_a=True).T\n",
      "C:\\Users\\ov78\\Anaconda3\\lib\\site-packages\\sklearn\\linear_model\\ridge.py:147: LinAlgWarning: Ill-conditioned matrix (rcond=4.77907e-19): result may not be accurate.\n",
      "  overwrite_a=True).T\n",
      "C:\\Users\\ov78\\Anaconda3\\lib\\site-packages\\sklearn\\linear_model\\ridge.py:147: LinAlgWarning: Ill-conditioned matrix (rcond=4.22658e-19): result may not be accurate.\n",
      "  overwrite_a=True).T\n",
      "C:\\Users\\ov78\\Anaconda3\\lib\\site-packages\\sklearn\\linear_model\\ridge.py:147: LinAlgWarning: Ill-conditioned matrix (rcond=4.67926e-19): result may not be accurate.\n",
      "  overwrite_a=True).T\n",
      "C:\\Users\\ov78\\Anaconda3\\lib\\site-packages\\sklearn\\linear_model\\ridge.py:147: LinAlgWarning: Ill-conditioned matrix (rcond=4.57797e-19): result may not be accurate.\n",
      "  overwrite_a=True).T\n",
      "C:\\Users\\ov78\\Anaconda3\\lib\\site-packages\\sklearn\\linear_model\\ridge.py:147: LinAlgWarning: Ill-conditioned matrix (rcond=4.05016e-19): result may not be accurate.\n",
      "  overwrite_a=True).T\n",
      "C:\\Users\\ov78\\Anaconda3\\lib\\site-packages\\sklearn\\linear_model\\ridge.py:147: LinAlgWarning: Ill-conditioned matrix (rcond=4.48239e-19): result may not be accurate.\n",
      "  overwrite_a=True).T\n",
      "C:\\Users\\ov78\\Anaconda3\\lib\\site-packages\\sklearn\\linear_model\\ridge.py:147: LinAlgWarning: Ill-conditioned matrix (rcond=9.64474e-20): result may not be accurate.\n",
      "  overwrite_a=True).T\n",
      "C:\\Users\\ov78\\Anaconda3\\lib\\site-packages\\sklearn\\linear_model\\ridge.py:147: LinAlgWarning: Ill-conditioned matrix (rcond=8.59173e-20): result may not be accurate.\n",
      "  overwrite_a=True).T\n",
      "C:\\Users\\ov78\\Anaconda3\\lib\\site-packages\\sklearn\\linear_model\\ridge.py:147: LinAlgWarning: Ill-conditioned matrix (rcond=9.44378e-20): result may not be accurate.\n",
      "  overwrite_a=True).T\n",
      "C:\\Users\\ov78\\Anaconda3\\lib\\site-packages\\sklearn\\linear_model\\ridge.py:147: LinAlgWarning: Ill-conditioned matrix (rcond=3.02017e-19): result may not be accurate.\n",
      "  overwrite_a=True).T\n",
      "C:\\Users\\ov78\\Anaconda3\\lib\\site-packages\\sklearn\\linear_model\\ridge.py:147: LinAlgWarning: Ill-conditioned matrix (rcond=2.67957e-19): result may not be accurate.\n",
      "  overwrite_a=True).T\n",
      "C:\\Users\\ov78\\Anaconda3\\lib\\site-packages\\sklearn\\linear_model\\ridge.py:147: LinAlgWarning: Ill-conditioned matrix (rcond=2.9572e-19): result may not be accurate.\n",
      "  overwrite_a=True).T\n",
      "C:\\Users\\ov78\\Anaconda3\\lib\\site-packages\\sklearn\\linear_model\\ridge.py:147: LinAlgWarning: Ill-conditioned matrix (rcond=1.82478e-19): result may not be accurate.\n",
      "  overwrite_a=True).T\n",
      "C:\\Users\\ov78\\Anaconda3\\lib\\site-packages\\sklearn\\linear_model\\ridge.py:147: LinAlgWarning: Ill-conditioned matrix (rcond=1.62274e-19): result may not be accurate.\n",
      "  overwrite_a=True).T\n",
      "C:\\Users\\ov78\\Anaconda3\\lib\\site-packages\\sklearn\\linear_model\\ridge.py:147: LinAlgWarning: Ill-conditioned matrix (rcond=1.78676e-19): result may not be accurate.\n",
      "  overwrite_a=True).T\n",
      "C:\\Users\\ov78\\Anaconda3\\lib\\site-packages\\sklearn\\linear_model\\ridge.py:147: LinAlgWarning: Ill-conditioned matrix (rcond=8.46278e-20): result may not be accurate.\n",
      "  overwrite_a=True).T\n",
      "C:\\Users\\ov78\\Anaconda3\\lib\\site-packages\\sklearn\\linear_model\\ridge.py:147: LinAlgWarning: Ill-conditioned matrix (rcond=7.54064e-20): result may not be accurate.\n",
      "  overwrite_a=True).T\n",
      "C:\\Users\\ov78\\Anaconda3\\lib\\site-packages\\sklearn\\linear_model\\ridge.py:147: LinAlgWarning: Ill-conditioned matrix (rcond=8.28646e-20): result may not be accurate.\n",
      "  overwrite_a=True).T\n",
      "C:\\Users\\ov78\\Anaconda3\\lib\\site-packages\\sklearn\\linear_model\\ridge.py:147: LinAlgWarning: Ill-conditioned matrix (rcond=1.24251e-19): result may not be accurate.\n",
      "  overwrite_a=True).T\n",
      "C:\\Users\\ov78\\Anaconda3\\lib\\site-packages\\sklearn\\linear_model\\ridge.py:147: LinAlgWarning: Ill-conditioned matrix (rcond=1.10623e-19): result may not be accurate.\n",
      "  overwrite_a=True).T\n",
      "C:\\Users\\ov78\\Anaconda3\\lib\\site-packages\\sklearn\\linear_model\\ridge.py:147: LinAlgWarning: Ill-conditioned matrix (rcond=1.21662e-19): result may not be accurate.\n",
      "  overwrite_a=True).T\n",
      "C:\\Users\\ov78\\Anaconda3\\lib\\site-packages\\sklearn\\linear_model\\ridge.py:147: LinAlgWarning: Ill-conditioned matrix (rcond=4.3438e-19): result may not be accurate.\n",
      "  overwrite_a=True).T\n",
      "C:\\Users\\ov78\\Anaconda3\\lib\\site-packages\\sklearn\\linear_model\\ridge.py:147: LinAlgWarning: Ill-conditioned matrix (rcond=3.84458e-19): result may not be accurate.\n",
      "  overwrite_a=True).T\n",
      "C:\\Users\\ov78\\Anaconda3\\lib\\site-packages\\sklearn\\linear_model\\ridge.py:147: LinAlgWarning: Ill-conditioned matrix (rcond=4.25313e-19): result may not be accurate.\n",
      "  overwrite_a=True).T\n",
      "C:\\Users\\ov78\\Anaconda3\\lib\\site-packages\\sklearn\\linear_model\\ridge.py:147: LinAlgWarning: Ill-conditioned matrix (rcond=4.97645e-20): result may not be accurate.\n",
      "  overwrite_a=True).T\n",
      "C:\\Users\\ov78\\Anaconda3\\lib\\site-packages\\sklearn\\linear_model\\ridge.py:147: LinAlgWarning: Ill-conditioned matrix (rcond=4.43738e-20): result may not be accurate.\n",
      "  overwrite_a=True).T\n",
      "C:\\Users\\ov78\\Anaconda3\\lib\\site-packages\\sklearn\\linear_model\\ridge.py:147: LinAlgWarning: Ill-conditioned matrix (rcond=4.87276e-20): result may not be accurate.\n",
      "  overwrite_a=True).T\n",
      "C:\\Users\\ov78\\Anaconda3\\lib\\site-packages\\sklearn\\linear_model\\ridge.py:147: LinAlgWarning: Ill-conditioned matrix (rcond=1.13611e-19): result may not be accurate.\n",
      "  overwrite_a=True).T\n",
      "C:\\Users\\ov78\\Anaconda3\\lib\\site-packages\\sklearn\\linear_model\\ridge.py:147: LinAlgWarning: Ill-conditioned matrix (rcond=1.01172e-19): result may not be accurate.\n",
      "  overwrite_a=True).T\n",
      "C:\\Users\\ov78\\Anaconda3\\lib\\site-packages\\sklearn\\linear_model\\ridge.py:147: LinAlgWarning: Ill-conditioned matrix (rcond=1.11244e-19): result may not be accurate.\n",
      "  overwrite_a=True).T\n",
      "C:\\Users\\ov78\\Anaconda3\\lib\\site-packages\\sklearn\\linear_model\\ridge.py:147: LinAlgWarning: Ill-conditioned matrix (rcond=3.74864e-19): result may not be accurate.\n",
      "  overwrite_a=True).T\n",
      "C:\\Users\\ov78\\Anaconda3\\lib\\site-packages\\sklearn\\linear_model\\ridge.py:147: LinAlgWarning: Ill-conditioned matrix (rcond=3.32138e-19): result may not be accurate.\n",
      "  overwrite_a=True).T\n",
      "C:\\Users\\ov78\\Anaconda3\\lib\\site-packages\\sklearn\\linear_model\\ridge.py:147: LinAlgWarning: Ill-conditioned matrix (rcond=3.67043e-19): result may not be accurate.\n",
      "  overwrite_a=True).T\n",
      "C:\\Users\\ov78\\Anaconda3\\lib\\site-packages\\sklearn\\linear_model\\ridge.py:147: LinAlgWarning: Ill-conditioned matrix (rcond=2.15824e-19): result may not be accurate.\n",
      "  overwrite_a=True).T\n",
      "C:\\Users\\ov78\\Anaconda3\\lib\\site-packages\\sklearn\\linear_model\\ridge.py:147: LinAlgWarning: Ill-conditioned matrix (rcond=1.91802e-19): result may not be accurate.\n",
      "  overwrite_a=True).T\n",
      "C:\\Users\\ov78\\Anaconda3\\lib\\site-packages\\sklearn\\linear_model\\ridge.py:147: LinAlgWarning: Ill-conditioned matrix (rcond=2.11326e-19): result may not be accurate.\n",
      "  overwrite_a=True).T\n",
      "C:\\Users\\ov78\\Anaconda3\\lib\\site-packages\\sklearn\\linear_model\\ridge.py:147: LinAlgWarning: Ill-conditioned matrix (rcond=2.42178e-19): result may not be accurate.\n",
      "  overwrite_a=True).T\n",
      "C:\\Users\\ov78\\Anaconda3\\lib\\site-packages\\sklearn\\linear_model\\ridge.py:147: LinAlgWarning: Ill-conditioned matrix (rcond=2.15112e-19): result may not be accurate.\n",
      "  overwrite_a=True).T\n",
      "C:\\Users\\ov78\\Anaconda3\\lib\\site-packages\\sklearn\\linear_model\\ridge.py:147: LinAlgWarning: Ill-conditioned matrix (rcond=2.3713e-19): result may not be accurate.\n",
      "  overwrite_a=True).T\n",
      "C:\\Users\\ov78\\Anaconda3\\lib\\site-packages\\sklearn\\linear_model\\ridge.py:147: LinAlgWarning: Ill-conditioned matrix (rcond=8.01389e-20): result may not be accurate.\n",
      "  overwrite_a=True).T\n",
      "C:\\Users\\ov78\\Anaconda3\\lib\\site-packages\\sklearn\\linear_model\\ridge.py:147: LinAlgWarning: Ill-conditioned matrix (rcond=7.14133e-20): result may not be accurate.\n",
      "  overwrite_a=True).T\n",
      "C:\\Users\\ov78\\Anaconda3\\lib\\site-packages\\sklearn\\linear_model\\ridge.py:147: LinAlgWarning: Ill-conditioned matrix (rcond=7.84692e-20): result may not be accurate.\n",
      "  overwrite_a=True).T\n",
      "C:\\Users\\ov78\\Anaconda3\\lib\\site-packages\\sklearn\\linear_model\\ridge.py:147: LinAlgWarning: Ill-conditioned matrix (rcond=3.76176e-19): result may not be accurate.\n",
      "  overwrite_a=True).T\n",
      "C:\\Users\\ov78\\Anaconda3\\lib\\site-packages\\sklearn\\linear_model\\ridge.py:147: LinAlgWarning: Ill-conditioned matrix (rcond=3.33294e-19): result may not be accurate.\n",
      "  overwrite_a=True).T\n",
      "C:\\Users\\ov78\\Anaconda3\\lib\\site-packages\\sklearn\\linear_model\\ridge.py:147: LinAlgWarning: Ill-conditioned matrix (rcond=3.68328e-19): result may not be accurate.\n",
      "  overwrite_a=True).T\n",
      "C:\\Users\\ov78\\Anaconda3\\lib\\site-packages\\sklearn\\linear_model\\ridge.py:147: LinAlgWarning: Ill-conditioned matrix (rcond=2.24274e-19): result may not be accurate.\n",
      "  overwrite_a=True).T\n",
      "C:\\Users\\ov78\\Anaconda3\\lib\\site-packages\\sklearn\\linear_model\\ridge.py:147: LinAlgWarning: Ill-conditioned matrix (rcond=1.99278e-19): result may not be accurate.\n",
      "  overwrite_a=True).T\n",
      "C:\\Users\\ov78\\Anaconda3\\lib\\site-packages\\sklearn\\linear_model\\ridge.py:147: LinAlgWarning: Ill-conditioned matrix (rcond=2.19599e-19): result may not be accurate.\n",
      "  overwrite_a=True).T\n",
      "C:\\Users\\ov78\\Anaconda3\\lib\\site-packages\\sklearn\\linear_model\\ridge.py:147: LinAlgWarning: Ill-conditioned matrix (rcond=3.83137e-19): result may not be accurate.\n",
      "  overwrite_a=True).T\n",
      "C:\\Users\\ov78\\Anaconda3\\lib\\site-packages\\sklearn\\linear_model\\ridge.py:147: LinAlgWarning: Ill-conditioned matrix (rcond=3.39418e-19): result may not be accurate.\n",
      "  overwrite_a=True).T\n",
      "C:\\Users\\ov78\\Anaconda3\\lib\\site-packages\\sklearn\\linear_model\\ridge.py:147: LinAlgWarning: Ill-conditioned matrix (rcond=3.75143e-19): result may not be accurate.\n",
      "  overwrite_a=True).T\n",
      "C:\\Users\\ov78\\Anaconda3\\lib\\site-packages\\sklearn\\linear_model\\ridge.py:147: LinAlgWarning: Ill-conditioned matrix (rcond=3.07006e-19): result may not be accurate.\n",
      "  overwrite_a=True).T\n",
      "C:\\Users\\ov78\\Anaconda3\\lib\\site-packages\\sklearn\\linear_model\\ridge.py:147: LinAlgWarning: Ill-conditioned matrix (rcond=2.72358e-19): result may not be accurate.\n",
      "  overwrite_a=True).T\n",
      "C:\\Users\\ov78\\Anaconda3\\lib\\site-packages\\sklearn\\linear_model\\ridge.py:147: LinAlgWarning: Ill-conditioned matrix (rcond=3.00604e-19): result may not be accurate.\n",
      "  overwrite_a=True).T\n",
      "C:\\Users\\ov78\\Anaconda3\\lib\\site-packages\\sklearn\\linear_model\\ridge.py:147: LinAlgWarning: Ill-conditioned matrix (rcond=9.08985e-20): result may not be accurate.\n",
      "  overwrite_a=True).T\n",
      "C:\\Users\\ov78\\Anaconda3\\lib\\site-packages\\sklearn\\linear_model\\ridge.py:147: LinAlgWarning: Ill-conditioned matrix (rcond=8.09834e-20): result may not be accurate.\n",
      "  overwrite_a=True).T\n",
      "C:\\Users\\ov78\\Anaconda3\\lib\\site-packages\\sklearn\\linear_model\\ridge.py:147: LinAlgWarning: Ill-conditioned matrix (rcond=8.90046e-20): result may not be accurate.\n",
      "  overwrite_a=True).T\n",
      "C:\\Users\\ov78\\Anaconda3\\lib\\site-packages\\sklearn\\linear_model\\ridge.py:147: LinAlgWarning: Ill-conditioned matrix (rcond=2.80174e-19): result may not be accurate.\n",
      "  overwrite_a=True).T\n",
      "C:\\Users\\ov78\\Anaconda3\\lib\\site-packages\\sklearn\\linear_model\\ridge.py:147: LinAlgWarning: Ill-conditioned matrix (rcond=2.48681e-19): result may not be accurate.\n",
      "  overwrite_a=True).T\n",
      "C:\\Users\\ov78\\Anaconda3\\lib\\site-packages\\sklearn\\linear_model\\ridge.py:147: LinAlgWarning: Ill-conditioned matrix (rcond=2.74333e-19): result may not be accurate.\n",
      "  overwrite_a=True).T\n",
      "C:\\Users\\ov78\\Anaconda3\\lib\\site-packages\\sklearn\\linear_model\\ridge.py:147: LinAlgWarning: Ill-conditioned matrix (rcond=1.57174e-19): result may not be accurate.\n",
      "  overwrite_a=True).T\n",
      "C:\\Users\\ov78\\Anaconda3\\lib\\site-packages\\sklearn\\linear_model\\ridge.py:147: LinAlgWarning: Ill-conditioned matrix (rcond=1.39842e-19): result may not be accurate.\n",
      "  overwrite_a=True).T\n",
      "C:\\Users\\ov78\\Anaconda3\\lib\\site-packages\\sklearn\\linear_model\\ridge.py:147: LinAlgWarning: Ill-conditioned matrix (rcond=1.53899e-19): result may not be accurate.\n",
      "  overwrite_a=True).T\n",
      "C:\\Users\\ov78\\Anaconda3\\lib\\site-packages\\sklearn\\linear_model\\ridge.py:147: LinAlgWarning: Ill-conditioned matrix (rcond=4.34485e-19): result may not be accurate.\n",
      "  overwrite_a=True).T\n",
      "C:\\Users\\ov78\\Anaconda3\\lib\\site-packages\\sklearn\\linear_model\\ridge.py:147: LinAlgWarning: Ill-conditioned matrix (rcond=3.8455e-19): result may not be accurate.\n",
      "  overwrite_a=True).T\n",
      "C:\\Users\\ov78\\Anaconda3\\lib\\site-packages\\sklearn\\linear_model\\ridge.py:147: LinAlgWarning: Ill-conditioned matrix (rcond=4.25415e-19): result may not be accurate.\n",
      "  overwrite_a=True).T\n",
      "C:\\Users\\ov78\\Anaconda3\\lib\\site-packages\\sklearn\\linear_model\\ridge.py:147: LinAlgWarning: Ill-conditioned matrix (rcond=4.57634e-19): result may not be accurate.\n",
      "  overwrite_a=True).T\n",
      "C:\\Users\\ov78\\Anaconda3\\lib\\site-packages\\sklearn\\linear_model\\ridge.py:147: LinAlgWarning: Ill-conditioned matrix (rcond=4.04872e-19): result may not be accurate.\n",
      "  overwrite_a=True).T\n",
      "C:\\Users\\ov78\\Anaconda3\\lib\\site-packages\\sklearn\\linear_model\\ridge.py:147: LinAlgWarning: Ill-conditioned matrix (rcond=4.48079e-19): result may not be accurate.\n",
      "  overwrite_a=True).T\n",
      "C:\\Users\\ov78\\Anaconda3\\lib\\site-packages\\sklearn\\linear_model\\ridge.py:147: LinAlgWarning: Ill-conditioned matrix (rcond=4.63456e-19): result may not be accurate.\n",
      "  overwrite_a=True).T\n",
      "C:\\Users\\ov78\\Anaconda3\\lib\\site-packages\\sklearn\\linear_model\\ridge.py:147: LinAlgWarning: Ill-conditioned matrix (rcond=4.09981e-19): result may not be accurate.\n",
      "  overwrite_a=True).T\n",
      "C:\\Users\\ov78\\Anaconda3\\lib\\site-packages\\sklearn\\linear_model\\ridge.py:147: LinAlgWarning: Ill-conditioned matrix (rcond=4.53778e-19): result may not be accurate.\n",
      "  overwrite_a=True).T\n",
      "C:\\Users\\ov78\\Anaconda3\\lib\\site-packages\\sklearn\\linear_model\\ridge.py:147: LinAlgWarning: Ill-conditioned matrix (rcond=1.61228e-19): result may not be accurate.\n",
      "  overwrite_a=True).T\n",
      "C:\\Users\\ov78\\Anaconda3\\lib\\site-packages\\sklearn\\linear_model\\ridge.py:147: LinAlgWarning: Ill-conditioned matrix (rcond=1.43437e-19): result may not be accurate.\n",
      "  overwrite_a=True).T\n",
      "C:\\Users\\ov78\\Anaconda3\\lib\\site-packages\\sklearn\\linear_model\\ridge.py:147: LinAlgWarning: Ill-conditioned matrix (rcond=1.57868e-19): result may not be accurate.\n",
      "  overwrite_a=True).T\n",
      "C:\\Users\\ov78\\Anaconda3\\lib\\site-packages\\sklearn\\linear_model\\ridge.py:147: LinAlgWarning: Ill-conditioned matrix (rcond=4.12973e-19): result may not be accurate.\n",
      "  overwrite_a=True).T\n",
      "C:\\Users\\ov78\\Anaconda3\\lib\\site-packages\\sklearn\\linear_model\\ridge.py:147: LinAlgWarning: Ill-conditioned matrix (rcond=3.65651e-19): result may not be accurate.\n",
      "  overwrite_a=True).T\n",
      "C:\\Users\\ov78\\Anaconda3\\lib\\site-packages\\sklearn\\linear_model\\ridge.py:147: LinAlgWarning: Ill-conditioned matrix (rcond=4.04354e-19): result may not be accurate.\n",
      "  overwrite_a=True).T\n",
      "C:\\Users\\ov78\\Anaconda3\\lib\\site-packages\\sklearn\\linear_model\\ridge.py:147: LinAlgWarning: Ill-conditioned matrix (rcond=7.8288e-20): result may not be accurate.\n",
      "  overwrite_a=True).T\n",
      "C:\\Users\\ov78\\Anaconda3\\lib\\site-packages\\sklearn\\linear_model\\ridge.py:147: LinAlgWarning: Ill-conditioned matrix (rcond=6.97666e-20): result may not be accurate.\n",
      "  overwrite_a=True).T\n",
      "C:\\Users\\ov78\\Anaconda3\\lib\\site-packages\\sklearn\\linear_model\\ridge.py:147: LinAlgWarning: Ill-conditioned matrix (rcond=7.66569e-20): result may not be accurate.\n",
      "  overwrite_a=True).T\n",
      "C:\\Users\\ov78\\Anaconda3\\lib\\site-packages\\sklearn\\linear_model\\ridge.py:147: LinAlgWarning: Ill-conditioned matrix (rcond=3.2073e-19): result may not be accurate.\n",
      "  overwrite_a=True).T\n",
      "C:\\Users\\ov78\\Anaconda3\\lib\\site-packages\\sklearn\\linear_model\\ridge.py:147: LinAlgWarning: Ill-conditioned matrix (rcond=2.8446e-19): result may not be accurate.\n",
      "  overwrite_a=True).T\n",
      "C:\\Users\\ov78\\Anaconda3\\lib\\site-packages\\sklearn\\linear_model\\ridge.py:147: LinAlgWarning: Ill-conditioned matrix (rcond=3.14041e-19): result may not be accurate.\n",
      "  overwrite_a=True).T\n",
      "C:\\Users\\ov78\\Anaconda3\\lib\\site-packages\\sklearn\\linear_model\\ridge.py:147: LinAlgWarning: Ill-conditioned matrix (rcond=1.8751e-19): result may not be accurate.\n",
      "  overwrite_a=True).T\n",
      "C:\\Users\\ov78\\Anaconda3\\lib\\site-packages\\sklearn\\linear_model\\ridge.py:147: LinAlgWarning: Ill-conditioned matrix (rcond=1.66732e-19): result may not be accurate.\n",
      "  overwrite_a=True).T\n",
      "C:\\Users\\ov78\\Anaconda3\\lib\\site-packages\\sklearn\\linear_model\\ridge.py:147: LinAlgWarning: Ill-conditioned matrix (rcond=1.83602e-19): result may not be accurate.\n",
      "  overwrite_a=True).T\n",
      "C:\\Users\\ov78\\Anaconda3\\lib\\site-packages\\sklearn\\linear_model\\ridge.py:147: LinAlgWarning: Ill-conditioned matrix (rcond=4.65603e-19): result may not be accurate.\n",
      "  overwrite_a=True).T\n",
      "C:\\Users\\ov78\\Anaconda3\\lib\\site-packages\\sklearn\\linear_model\\ridge.py:147: LinAlgWarning: Ill-conditioned matrix (rcond=4.11865e-19): result may not be accurate.\n",
      "  overwrite_a=True).T\n",
      "C:\\Users\\ov78\\Anaconda3\\lib\\site-packages\\sklearn\\linear_model\\ridge.py:147: LinAlgWarning: Ill-conditioned matrix (rcond=4.5588e-19): result may not be accurate.\n",
      "  overwrite_a=True).T\n",
      "C:\\Users\\ov78\\Anaconda3\\lib\\site-packages\\sklearn\\linear_model\\ridge.py:147: LinAlgWarning: Ill-conditioned matrix (rcond=3.54565e-19): result may not be accurate.\n",
      "  overwrite_a=True).T\n",
      "C:\\Users\\ov78\\Anaconda3\\lib\\site-packages\\sklearn\\linear_model\\ridge.py:147: LinAlgWarning: Ill-conditioned matrix (rcond=3.14271e-19): result may not be accurate.\n",
      "  overwrite_a=True).T\n",
      "C:\\Users\\ov78\\Anaconda3\\lib\\site-packages\\sklearn\\linear_model\\ridge.py:147: LinAlgWarning: Ill-conditioned matrix (rcond=3.47169e-19): result may not be accurate.\n",
      "  overwrite_a=True).T\n",
      "C:\\Users\\ov78\\Anaconda3\\lib\\site-packages\\sklearn\\linear_model\\ridge.py:147: LinAlgWarning: Ill-conditioned matrix (rcond=3.50435e-19): result may not be accurate.\n",
      "  overwrite_a=True).T\n"
     ]
    },
    {
     "data": {
      "text/plain": [
       "RandomizedSearchCV(cv='warn', error_score='raise-deprecating',\n",
       "                   estimator=Ridge(alpha=1.0, copy_X=True, fit_intercept=True,\n",
       "                                   max_iter=None, normalize=False,\n",
       "                                   random_state=None, solver='auto',\n",
       "                                   tol=0.001),\n",
       "                   iid='warn', n_iter=100, n_jobs=None,\n",
       "                   param_distributions={'alpha': <scipy.stats._distn_infrastructure.rv_frozen object at 0x0000025A821DAA48>},\n",
       "                   pre_dispatch='2*n_jobs', random_state=None, refit=True,\n",
       "                   return_train_score=False, scoring=None, verbose=0)"
      ]
     },
     "execution_count": 138,
     "metadata": {},
     "output_type": "execute_result"
    }
   ],
   "source": [
    "from scipy.stats import uniform as sp_rand\n",
    "from sklearn.linear_model import Ridge\n",
    "from sklearn.model_selection import RandomizedSearchCV\n",
    "# prepare a uniform distribution to sample for the alpha parameter\n",
    "param_grid = {'alpha': sp_rand()}\n",
    "# create and fit a ridge regression model, testing random alpha values\n",
    "lin_ridge_model = Ridge()\n",
    "rsearch = RandomizedSearchCV(estimator=lin_ridge_model, param_distributions=param_grid, n_iter=100)\n",
    "rsearch.fit(X_lin_train, y_train_labels)"
   ]
  },
  {
   "cell_type": "code",
   "execution_count": 139,
   "metadata": {},
   "outputs": [],
   "source": [
    "lin_ridge_predictions = rsearch.best_estimator_ .predict(X_lin_test)"
   ]
  },
  {
   "cell_type": "code",
   "execution_count": 220,
   "metadata": {},
   "outputs": [],
   "source": [
    "lin_ridge_predictions[lin_ridge_predictions < 0] = 0"
   ]
  },
  {
   "cell_type": "code",
   "execution_count": 221,
   "metadata": {},
   "outputs": [
    {
     "name": "stdout",
     "output_type": "stream",
     "text": [
      "Mean abs error 49954618.850649625\n",
      "Median abs error 19841585.12715906\n",
      "explained_variance_score 0.3778371443837113\n",
      "mean_squared_error 1.0533681198485598e+16\n",
      "mean_squared_log_error 112.80768907868972\n",
      "r2_score 0.35456497374956497\n"
     ]
    }
   ],
   "source": [
    "print(\"Mean abs error \" + str(mean_absolute_error(testResults['revenue'], lin_ridge_predictions)))\n",
    "print(\"Median abs error \" + str(median_absolute_error(testResults['revenue'], lin_ridge_predictions)))\n",
    "print(\"explained_variance_score \" + str(explained_variance_score(testResults['revenue'], lin_ridge_predictions)))\n",
    "print(\"mean_squared_error \" + str(mean_squared_error(testResults['revenue'], lin_ridge_predictions)))\n",
    "print(\"mean_squared_log_error \" + str(mean_squared_log_error(testResults['revenue'], lin_ridge_predictions)))\n",
    "print(\"r2_score \" + str(r2_score(testResults['revenue'], lin_ridge_predictions)))\n",
    "#Can't perform mean_squared_log_error due to negative"
   ]
  },
  {
   "cell_type": "code",
   "execution_count": 222,
   "metadata": {},
   "outputs": [
    {
     "name": "stdout",
     "output_type": "stream",
     "text": [
      "Mean abs error 43261821.94338336\n",
      "Median abs error 10765848.5\n",
      "explained_variance_score 0.2637414806194721\n",
      "mean_squared_error 1.2667211339647546e+16\n",
      "mean_squared_log_error 102.16210549099235\n",
      "r2_score 0.223836213621061\n"
     ]
    }
   ],
   "source": [
    "revMean = train['revenue'].mean()\n",
    "predictMeanOnly = test.apply(lambda row: row.budget, axis = 1)\n",
    "print(\"Mean abs error \" + str(mean_absolute_error(testResults['revenue'], predictMeanOnly)))\n",
    "print(\"Median abs error \" + str(median_absolute_error(testResults['revenue'], predictMeanOnly)))\n",
    "print(\"explained_variance_score \" + str(explained_variance_score(testResults['revenue'], predictMeanOnly)))\n",
    "print(\"mean_squared_error \" + str(mean_squared_error(testResults['revenue'], predictMeanOnly)))\n",
    "print(\"mean_squared_log_error \" + str(mean_squared_log_error(testResults['revenue'], predictMeanOnly)))\n",
    "print(\"r2_score \" + str(r2_score(testResults['revenue'], predictMeanOnly)))\n"
   ]
  },
  {
   "cell_type": "code",
   "execution_count": 223,
   "metadata": {},
   "outputs": [
    {
     "data": {
      "text/plain": [
       "{'untunedForest': {'mean_abs_error': 56259074.08073511,\n",
       "  'median_abs_error': 27683433.9875,\n",
       "  'explained_variance_score': 0.3946882470293124,\n",
       "  'mean_squared_error ': 1.0961478983582386e+16,\n",
       "  'mean_squared_log_error': 105.39838154072294,\n",
       "  'r2_score': 0.32835232601028097},\n",
       " 'tunedForest': {'mean_abs_error': 49368785.381918505,\n",
       "  'median_abs_error': 20025426.768997185,\n",
       "  'explained_variance_score': 0.4085365859424659,\n",
       "  'mean_squared_error ': 1.013696060415087e+16,\n",
       "  'mean_squared_log_error': 102.30542619958375,\n",
       "  'r2_score': 0.3788734146823831},\n",
       " 'averagePredict': {'mean_abs_error': 43261821.94338336,\n",
       "  'median_abs_error': 10765848.5,\n",
       "  'explained_variance_score': 0.2637414806194721,\n",
       "  'mean_squared_error ': 1.2667211339647546e+16,\n",
       "  'mean_squared_log_error': 102.16210549099235,\n",
       "  'r2_score': 0.223836213621061}}"
      ]
     },
     "execution_count": 223,
     "metadata": {},
     "output_type": "execute_result"
    }
   ],
   "source": [
    "averagePredict = {\n",
    "    \"mean_abs_error\": mean_absolute_error(testResults['revenue'], predictMeanOnly),\n",
    "    \"median_abs_error\": median_absolute_error(testResults['revenue'], predictMeanOnly),\n",
    "    \"explained_variance_score\": explained_variance_score(testResults['revenue'], predictMeanOnly),\n",
    "    \"mean_squared_error \": mean_squared_error(testResults['revenue'], predictMeanOnly),\n",
    "    \"mean_squared_log_error\": mean_squared_log_error(testResults['revenue'], predictMeanOnly),\n",
    "    \"r2_score\": r2_score(testResults['revenue'], predictMeanOnly)\n",
    "}\n",
    "\n",
    "resultsDict['averagePredict'] = averagePredict\n",
    "resultsDict"
   ]
  },
  {
   "cell_type": "code",
   "execution_count": 210,
   "metadata": {},
   "outputs": [
    {
     "data": {
      "text/plain": [
       "10371947.632538013"
      ]
     },
     "execution_count": 210,
     "metadata": {},
     "output_type": "execute_result"
    }
   ],
   "source": [
    "x"
   ]
  },
  {
   "cell_type": "code",
   "execution_count": null,
   "metadata": {},
   "outputs": [],
   "source": []
  }
 ],
 "metadata": {
  "kernelspec": {
   "display_name": "Python 3",
   "language": "python",
   "name": "python3"
  },
  "language_info": {
   "codemirror_mode": {
    "name": "ipython",
    "version": 3
   },
   "file_extension": ".py",
   "mimetype": "text/x-python",
   "name": "python",
   "nbconvert_exporter": "python",
   "pygments_lexer": "ipython3",
   "version": "3.7.1"
  }
 },
 "nbformat": 4,
 "nbformat_minor": 2
}
