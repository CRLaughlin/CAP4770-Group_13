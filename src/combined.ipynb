{
 "cells": [
  {
   "cell_type": "code",
   "execution_count": 6,
   "metadata": {},
   "outputs": [],
   "source": [
    "import numpy as np\n",
    "import pandas as pd\n",
    "import requests # to make TMDB API calls\n",
    "import locale # to format currency as USD\n",
    "locale.setlocale( locale.LC_ALL, '' )\n",
    "api_key = '07c743da178e65cad9e43897e89fc202'\n",
    "import ast\n",
    "import json"
   ]
  },
  {
   "cell_type": "code",
   "execution_count": 2,
   "metadata": {},
   "outputs": [],
   "source": [
    "train = pd.read_csv('train.csv')\n",
    "test = pd.read_csv('test.csv')"
   ]
  },
  {
   "cell_type": "code",
   "execution_count": 38,
   "metadata": {},
   "outputs": [],
   "source": [
    "dict_columns = ['belongs_to_collection', 'genres', 'production_companies',\n",
    "                'production_countries', 'spoken_languages', 'Keywords', 'cast', 'crew']\n",
    "\n",
    "def text_to_dict(df):\n",
    "    for column in dict_columns:\n",
    "        df[column] = df[column].apply(lambda x: {} if pd.isna(x) else ast.literal_eval(x) )\n",
    "    return df"
   ]
  },
  {
   "cell_type": "code",
   "execution_count": 22,
   "metadata": {},
   "outputs": [],
   "source": [
    "train_final = pd.DataFrame()\n",
    "train_final['iscollect'] = train['belongs_to_collection'].notnull().astype('int')\n",
    "train_final['revenue'] = np.log(train['revenue'])\n",
    "\n",
    "test_final = pd.DataFrame()\n",
    "test_final['iscollect'] = test['belongs_to_collection'].notnull().astype('int')"
   ]
  },
  {
   "cell_type": "code",
   "execution_count": 23,
   "metadata": {},
   "outputs": [],
   "source": [
    "genres = train['genres']\n",
    "unique_genres = set()\n",
    "for gen in genres:\n",
    "    try:\n",
    "        names = json.loads(gen.replace(\"'\",'\"'))\n",
    "        name_list = [name['name'] for name in names]\n",
    "        unique_genres.update(name_list)\n",
    "    except:\n",
    "        pass\n",
    "    \n",
    "train_final = train_final.reindex(list(unique_genres)+['iscollect','revenue'],fill_value=0,axis='columns')\n",
    "\n",
    "for i, gen in enumerate(genres):\n",
    "    try:\n",
    "        names = json.loads(gen.replace(\"'\",'\"'))\n",
    "        name_list = [name['name'] for name in names]\n",
    "        for n in name_list:\n",
    "            train_final.at[i,n] = 1\n",
    "    except:\n",
    "        pass\n",
    "\n",
    "    \n",
    "test_final = test_final.reindex(list(unique_genres)+['iscollect'],fill_value=0,axis='columns')\n",
    "\n",
    "for i, gen in enumerate(genres):\n",
    "    try:\n",
    "        names = json.loads(gen.replace(\"'\",'\"'))\n",
    "        name_list = [name['name'] for name in names]\n",
    "        for n in name_list:\n",
    "            use_data.at[i,n] = 1\n",
    "    except:\n",
    "        pass"
   ]
  },
  {
   "cell_type": "code",
   "execution_count": 24,
   "metadata": {},
   "outputs": [],
   "source": [
    "sig_diff = []\n",
    "for g in tr_unique_genres:\n",
    "    gen_rev = train_final.loc[train_final[g]==1,'revenue']\n",
    "    nongen_rev = train_final.loc[train_final[g]==0,'revenue']\n",
    "    diff = np.mean(gen_rev)-np.mean(nongen_rev)\n",
    "    if abs(diff) < 0.4 or len(gen_rev) < 30:\n",
    "        sig_diff.append(g)"
   ]
  },
  {
   "cell_type": "code",
   "execution_count": 25,
   "metadata": {},
   "outputs": [],
   "source": [
    "train_final.drop(columns=sig_diff,inplace=True)\n",
    "test_final.drop(columns=sig_diff,inplace=True)"
   ]
  },
  {
   "cell_type": "code",
   "execution_count": 36,
   "metadata": {},
   "outputs": [],
   "source": [
    "train_final['popularity'] = train['popularity']\n",
    "test_final['popularity'] = test['popularity']"
   ]
  },
  {
   "cell_type": "code",
   "execution_count": 39,
   "metadata": {},
   "outputs": [],
   "source": [
    "train = text_to_dict(train)\n",
    "test = text_to_dict(test)"
   ]
  },
  {
   "cell_type": "code",
   "execution_count": null,
   "metadata": {},
   "outputs": [],
   "source": [
    "def getRev(row):\n",
    "    response = requests.get('https://api.themoviedb.org/3/find/'+ row.imdb_id + '?api_key=' + api_key +'&language=en-US&external_source=imdb_id')\n",
    "    if 'movie_results' in response.json().keys():\n",
    "        if len(response.json()['movie_results']) >= 1:\n",
    "            tmdbid = response.json()['movie_results'][0]['id']\n",
    "        else:\n",
    "            return 0\n",
    "    else:\n",
    "        return 0\n",
    "    response = requests.get('https://api.themoviedb.org/3/movie/' + str(tmdbid) + '?api_key=' +  api_key + '&language=en-US')\n",
    "    if 'revenue' in response.json().keys():\n",
    "        return response.json()['revenue']\n",
    "    else: \n",
    "        return 0\n",
    "\n",
    "revenues = test.apply(lambda row: getRev(row), axis = 1)\n",
    "test_final['revenue'] = revenues"
   ]
  },
  {
   "cell_type": "code",
   "execution_count": null,
   "metadata": {},
   "outputs": [],
   "source": [
    "train_final['cast'] = train.apply(lambda row: ast.literal_eval(row.cast) if type(row.cast) == str else 0, axis = 1)\n",
    "train_final['crew'] = train.apply(lambda row: ast.literal_eval(row.crew) if type(row.crew) == str else 0, axis = 1)\n",
    "train_final['production_companies'] = train.apply(lambda row: ast.literal_eval(row.production_companies) if type(row.production_companies) == str else 0, axis = 1)\n",
    "\n",
    "test_final['cast'] = test.apply(lambda row: ast.literal_eval(row.cast) if type(row.cast) == str else 0, axis = 1)\n",
    "test_final['crew'] = test.apply(lambda row: ast.literal_eval(row.crew) if type(row.crew) == str else 0, axis = 1)\n",
    "test_final['production_companies'] = test.apply(lambda row: ast.literal_eval(row.production_companies) if type(row.production_companies) == str else 0, axis = 1)"
   ]
  },
  {
   "cell_type": "code",
   "execution_count": null,
   "metadata": {},
   "outputs": [],
   "source": [
    "def actorReturn(row):\n",
    "    if type(row.cast) == list:\n",
    "        if len(row.cast) >= 2:\n",
    "            actors = {\n",
    "                \"actor1\": row.cast[0]['name'],\n",
    "                \"actor2\": row.cast[1]['name']\n",
    "            }\n",
    "            return actors\n",
    "        elif len(row.cast) == 1:\n",
    "            actors = {\n",
    "                \"actor1\": row.cast[0]['name'],\n",
    "            }\n",
    "            return actors\n",
    "        else:\n",
    "                    return 0\n",
    "    else:\n",
    "        return 0\n",
    "    \n",
    "def returnCrew(crew):\n",
    "    crewDict = {\n",
    "        'Director': None,\n",
    "        'Producer': None\n",
    "    }\n",
    "    direc = 0\n",
    "    prod = 0\n",
    "    for x in crew:\n",
    "        #print(crewDict)\n",
    "        if x['job'] == 'Director':\n",
    "            crewDict['Director'] = x['name']\n",
    "            direc = 1\n",
    "        elif x['job'] == 'Producer':\n",
    "            crewDict['Producer'] = x['name']\n",
    "            prod = 1\n",
    "        if direc > 0 and prod > 0:\n",
    "            return crewDict\n",
    "    return crewDict"
   ]
  },
  {
   "cell_type": "code",
   "execution_count": null,
   "metadata": {},
   "outputs": [],
   "source": [
    "train_final['rel_actors'] = train.apply(lambda row: actorReturn(row), axis =1) \n",
    "train_final['rel_crew'] = train.apply(lambda row: returnCrew(row.crew) if type(row.crew) == list else {},  axis =1)\n",
    "\n",
    "test_final['rel_actors'] = t.apply(lambda row: actorReturn(row), axis =1) \n",
    "test_final['rel_crew'] = train.apply(lambda row: returnCrew(row.crew) if type(row.crew) == list else {},  axis =1)"
   ]
  },
  {
   "cell_type": "code",
   "execution_count": null,
   "metadata": {},
   "outputs": [],
   "source": []
  }
 ],
 "metadata": {
  "kernelspec": {
   "display_name": "Python 3",
   "language": "python",
   "name": "python3"
  },
  "language_info": {
   "codemirror_mode": {
    "name": "ipython",
    "version": 3
   },
   "file_extension": ".py",
   "mimetype": "text/x-python",
   "name": "python",
   "nbconvert_exporter": "python",
   "pygments_lexer": "ipython3",
   "version": "3.7.1"
  }
 },
 "nbformat": 4,
 "nbformat_minor": 2
}
