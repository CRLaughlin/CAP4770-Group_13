{
 "cells": [
  {
   "cell_type": "code",
   "execution_count": 1,
   "metadata": {},
   "outputs": [],
   "source": [
    "import numpy as np\n",
    "import pandas as pd\n",
    "import requests # to make TMDB API calls\n",
    "import locale # to format currency as USD\n",
    "locale.setlocale( locale.LC_ALL, '' )\n",
    "api_key = '07c743da178e65cad9e43897e89fc202'\n",
    "import ast\n",
    "import json"
   ]
  },
  {
   "cell_type": "code",
   "execution_count": 2,
   "metadata": {},
   "outputs": [],
   "source": [
    "train = pd.read_csv('train.csv')\n",
    "test = pd.read_csv('test.csv')"
   ]
  },
  {
   "cell_type": "code",
   "execution_count": 3,
   "metadata": {},
   "outputs": [],
   "source": [
    "dict_columns = ['belongs_to_collection', 'genres', 'production_companies',\n",
    "                'production_countries', 'spoken_languages', 'Keywords', 'cast', 'crew']\n",
    "\n",
    "def text_to_dict(df):\n",
    "    for column in dict_columns:\n",
    "        df[column] = df[column].apply(lambda x: {} if pd.isna(x) else ast.literal_eval(x) )\n",
    "    return df"
   ]
  },
  {
   "cell_type": "code",
   "execution_count": 4,
   "metadata": {},
   "outputs": [],
   "source": [
    "final_cols = ['popularity','iscollect', 'budget']\n",
    "\n",
    "train['iscollect'] = train['belongs_to_collection'].notnull().astype('int')\n",
    "train['revenue'] = np.log(train['revenue'])\n",
    "\n",
    "test['iscollect'] = test['belongs_to_collection'].notnull().astype('int')"
   ]
  },
  {
   "cell_type": "code",
   "execution_count": 5,
   "metadata": {},
   "outputs": [],
   "source": [
    "genres = train['genres']\n",
    "unique_genres = set()\n",
    "for gen in genres:\n",
    "    try:\n",
    "        names = json.loads(gen.replace(\"'\",'\"'))\n",
    "        name_list = [name['name'] for name in names]\n",
    "        unique_genres.update(name_list)\n",
    "    except:\n",
    "        pass\n",
    "    \n",
    "train = train.reindex(list(unique_genres)+list(train.columns),fill_value=0,axis='columns')\n",
    "\n",
    "for i, gen in enumerate(genres):\n",
    "    try:\n",
    "        names = json.loads(gen.replace(\"'\",'\"'))\n",
    "        name_list = [name['name'] for name in names]\n",
    "        for n in name_list:\n",
    "            train.at[i,n] = 1\n",
    "    except:\n",
    "        pass\n",
    "\n",
    "    \n",
    "test = test.reindex(list(unique_genres)+list(test.columns),fill_value=0,axis='columns')\n",
    "\n",
    "for i, gen in enumerate(genres):\n",
    "    try:\n",
    "        names = json.loads(gen.replace(\"'\",'\"'))\n",
    "        name_list = [name['name'] for name in names]\n",
    "        for n in name_list:\n",
    "            test.at[i,n] = 1\n",
    "    except:\n",
    "        pass"
   ]
  },
  {
   "cell_type": "code",
   "execution_count": 6,
   "metadata": {},
   "outputs": [],
   "source": [
    "sig_diff = []\n",
    "for g in unique_genres:\n",
    "    gen_rev = train.loc[train[g]==1,'revenue']\n",
    "    nongen_rev = train.loc[train[g]==0,'revenue']\n",
    "    diff = np.mean(gen_rev)-np.mean(nongen_rev)\n",
    "    if abs(diff) > 0.4 and len(gen_rev) > 30:\n",
    "        sig_diff.append(g)\n",
    "final_cols.extend(sig_diff)"
   ]
  },
  {
   "cell_type": "code",
   "execution_count": 7,
   "metadata": {},
   "outputs": [
    {
     "data": {
      "text/plain": [
       "['popularity',\n",
       " 'iscollect',\n",
       " 'Drama',\n",
       " 'Adventure',\n",
       " 'Fantasy',\n",
       " 'Western',\n",
       " 'Thriller',\n",
       " 'Animation',\n",
       " 'Action',\n",
       " 'Mystery',\n",
       " 'Foreign',\n",
       " 'Science Fiction',\n",
       " 'Documentary',\n",
       " 'Family']"
      ]
     },
     "execution_count": 7,
     "metadata": {},
     "output_type": "execute_result"
    }
   ],
   "source": [
    "final_cols"
   ]
  },
  {
   "cell_type": "code",
   "execution_count": 36,
   "metadata": {},
   "outputs": [],
   "source": [
    "train['release_date'] = pd.to_datetime(train['release_date'],format='%m/%d/%y').astype('str')\n",
    "test['release_date'] = pd.to_datetime(test['release_date'],format='%m/%d/%y').astype('str')"
   ]
  },
  {
   "cell_type": "code",
   "execution_count": 37,
   "metadata": {},
   "outputs": [],
   "source": [
    "train = text_to_dict(train)\n",
    "test = text_to_dict(test)"
   ]
  },
  {
   "cell_type": "code",
   "execution_count": 38,
   "metadata": {},
   "outputs": [
    {
     "name": "stderr",
     "output_type": "stream",
     "text": [
      "/Users/hyunchoi/anaconda3/lib/python3.7/site-packages/ipykernel_launcher.py:17: RuntimeWarning: divide by zero encountered in log\n"
     ]
    }
   ],
   "source": [
    "def getRev(row):\n",
    "    response = requests.get('https://api.themoviedb.org/3/find/'+ row.imdb_id + '?api_key=' + api_key +'&language=en-US&external_source=imdb_id')\n",
    "    if 'movie_results' in response.json().keys():\n",
    "        if len(response.json()['movie_results']) >= 1:\n",
    "            tmdbid = response.json()['movie_results'][0]['id']\n",
    "        else:\n",
    "            return 0\n",
    "    else:\n",
    "        return 0\n",
    "    response = requests.get('https://api.themoviedb.org/3/movie/' + str(tmdbid) + '?api_key=' +  api_key + '&language=en-US')\n",
    "    if 'revenue' in response.json().keys():\n",
    "        return response.json()['revenue']\n",
    "    else: \n",
    "        return 0\n",
    "\n",
    "revenues = test.apply(lambda row: getRev(row), axis = 1)\n",
    "test['revenue'] = np.log(revenues)"
   ]
  },
  {
   "cell_type": "code",
   "execution_count": 41,
   "metadata": {},
   "outputs": [],
   "source": [
    "def actorReturn(row):\n",
    "    if type(row.cast) == list:\n",
    "        if len(row.cast) >= 2:\n",
    "            actors = {\n",
    "                \"actor1\": row.cast[0]['name'],\n",
    "                \"actor2\": row.cast[1]['name']\n",
    "            }\n",
    "            return actors\n",
    "        elif len(row.cast) == 1:\n",
    "            actors = {\n",
    "                \"actor1\": row.cast[0]['name'],\n",
    "            }\n",
    "            return actors\n",
    "        else:\n",
    "                    return {}\n",
    "    else:\n",
    "        return {}\n",
    "    \n",
    "def returnCrew(crew):\n",
    "    crewDict = {\n",
    "        'Director': None,\n",
    "        'Producer': None\n",
    "    }\n",
    "    direc = 0\n",
    "    prod = 0\n",
    "    for x in crew:\n",
    "        #print(crewDict)\n",
    "        if x['job'] == 'Director':\n",
    "            crewDict['Director'] = x['name']\n",
    "            direc = 1\n",
    "        elif x['job'] == 'Producer':\n",
    "            crewDict['Producer'] = x['name']\n",
    "            prod = 1\n",
    "        if direc > 0 and prod > 0:\n",
    "            return crewDict\n",
    "    return crewDict"
   ]
  },
  {
   "cell_type": "code",
   "execution_count": 42,
   "metadata": {},
   "outputs": [],
   "source": [
    "train['rel_actors'] = train.apply(lambda row: actorReturn(row), axis =1) \n",
    "train['rel_crew'] = train.apply(lambda row: returnCrew(row.crew) if type(row.crew) == list else {},  axis =1)\n",
    "test['rel_actors'] = test.apply(lambda row: actorReturn(row), axis =1) \n",
    "test['rel_crew'] = test.apply(lambda row: returnCrew(row.crew) if type(row.crew) == list else {},  axis =1)"
   ]
  },
  {
   "cell_type": "code",
   "execution_count": 44,
   "metadata": {},
   "outputs": [],
   "source": [
    "both = train.append(test, sort=False)\n",
    "workerPerformance = pd.DataFrame(columns=['revenue', 'Director', 'date', 'Producer', 'actor1','actor2'])\n",
    "workerPerformance['revenue'] = both.apply(lambda row: row.revenue if 'Director' in row.rel_crew.keys() else  None, axis =1) \n",
    "workerPerformance['Director'] = both.apply(lambda row: row.rel_crew['Director'] if 'Director' in row.rel_crew.keys() else  None, axis =1) \n",
    "workerPerformance['date'] = both.apply(lambda row: str(row.release_date)[:4] if 'Director' in row.rel_crew.keys() else  None, axis =1) \n",
    "workerPerformance['Producer'] = both.apply(lambda row: row.rel_crew['Producer'] if 'Producer' in row.rel_crew.keys() else  None, axis =1) \n",
    "workerPerformance['actor1'] = both.apply(lambda row: row.rel_actors['actor1'] if 'actor1' in row.rel_actors.keys() else  None, axis =1) \n",
    "workerPerformance['actor2'] = both.apply(lambda row: row.rel_actors['actor2'] if 'actor2' in row.rel_actors.keys() else  None, axis =1) \n",
    "\n",
    "frame = { 'Director': workerPerformance['Director'],\n",
    "         'Producer': workerPerformance['Producer'],\n",
    "         'actor1': workerPerformance['actor1'],\n",
    "         'actor2': workerPerformance['actor2'],\n",
    "         'revenue': workerPerformance['revenue'],\n",
    "         'date': workerPerformance['date'] } \n",
    "\n",
    "workerResults = pd.DataFrame(frame) "
   ]
  },
  {
   "cell_type": "code",
   "execution_count": 45,
   "metadata": {},
   "outputs": [],
   "source": [
    "directorsAndMovies = {}\n",
    "def directorLists(row):\n",
    "    if row.Director == None:\n",
    "        return 0\n",
    "    if row.date == 'nan':\n",
    "        return 0\n",
    "    if row.Director in directorsAndMovies.keys(): \n",
    "        directorsAndMovies[row.Director].append([int(row.date), row.revenue])\n",
    "    else:\n",
    "        directorsAndMovies[row.Director] = [[int(row.date), row.revenue]]\n",
    "    return 1\n",
    "workerResults.apply(lambda row: directorLists(row), axis = 1);"
   ]
  },
  {
   "cell_type": "code",
   "execution_count": 46,
   "metadata": {},
   "outputs": [],
   "source": [
    "producersAndMovies = {}\n",
    "def producersLists(row):\n",
    "    if row.Producer == None:\n",
    "        return 0\n",
    "    if row.date == 'nan':\n",
    "        return 0\n",
    "    if row.Producer in producersAndMovies.keys(): \n",
    "        producersAndMovies[row.Producer].append([int(row.date), row.revenue])\n",
    "    else:\n",
    "        producersAndMovies[row.Producer] = [[int(row.date), row.revenue]]\n",
    "    return 1\n",
    "workerResults.apply(lambda row: producersLists(row), axis = 1);"
   ]
  },
  {
   "cell_type": "code",
   "execution_count": 47,
   "metadata": {},
   "outputs": [],
   "source": [
    "actorsAndMovies = {}\n",
    "def actorsLists(row):\n",
    "    boolOnlyOne = 0\n",
    "    if row.actor2 == None and row.actor1 == None:\n",
    "        return 0\n",
    "    elif row.actor2 == None:\n",
    "        boolOnlyOne = 1\n",
    "    if row.date == 'nan':\n",
    "        return 0\n",
    "    if row.date == None:\n",
    "        return 0\n",
    "    if row.actor1 in actorsAndMovies.keys(): \n",
    "        actorsAndMovies[row.actor1].append([int(row.date), row.revenue])\n",
    "    else:\n",
    "        actorsAndMovies[row.actor1] = [[int(row.date), row.revenue]]\n",
    "    if boolOnlyOne != 1:\n",
    "        if row.actor2 in actorsAndMovies.keys(): \n",
    "            actorsAndMovies[row.actor2].append([int(row.date), row.revenue])\n",
    "        else:\n",
    "            actorsAndMovies[row.actor2] = [[int(row.date), row.revenue]]\n",
    "    return 1\n",
    "workerResults.apply(lambda row: actorsLists(row), axis = 1);"
   ]
  },
  {
   "cell_type": "code",
   "execution_count": 48,
   "metadata": {},
   "outputs": [],
   "source": [
    "def Sort(sub_li): \n",
    "  \n",
    "    # reverse = None (Sorts in Ascending order) \n",
    "    # key is set to sort using second element of  \n",
    "    # sublist lambda has been used \n",
    "    return(sorted(sub_li, key = lambda x: x[0]))   \n",
    "\n",
    "for key in directorsAndMovies:\n",
    "    directorsAndMovies[key] = Sort(directorsAndMovies[key])\n",
    "    \n",
    "for key in producersAndMovies:\n",
    "    producersAndMovies[key] = Sort(producersAndMovies[key])\n",
    "    \n",
    "for key in actorsAndMovies:\n",
    "    actorsAndMovies[key] = Sort(actorsAndMovies[key])"
   ]
  },
  {
   "cell_type": "code",
   "execution_count": 49,
   "metadata": {},
   "outputs": [],
   "source": [
    "def getSuccess(name, relDict, date):\n",
    "    relevantList = []\n",
    "    if name == None:\n",
    "        return 0\n",
    "    if name not in relDict.keys():\n",
    "        print(\"error: \" + name)\n",
    "        return 0\n",
    "    for movie in relDict[name]:\n",
    "        if int(movie[0]) < date:\n",
    "            relevantList.append(movie[1])\n",
    "        else:\n",
    "            break\n",
    "        break\n",
    "    if len(relevantList) == 0:\n",
    "        return 0\n",
    "    return np.mean(relevantList)"
   ]
  },
  {
   "cell_type": "code",
   "execution_count": 50,
   "metadata": {},
   "outputs": [
    {
     "name": "stdout",
     "output_type": "stream",
     "text": [
      "error: Kirby Heyborne\n",
      "error: Erik Goertz\n",
      "error: Michael Flynn\n",
      "error: Anton Rattinger\n",
      "error: –Æ–ª–∏—è –í–æ–ª–∫–æ–≤–∞\n",
      "error: Javed Sheikh\n",
      "error: Warren Miller\n",
      "error: Mikhail Efremov\n",
      "error: Fahad Mustafa\n",
      "error: Kathleen Barr\n"
     ]
    }
   ],
   "source": [
    "train['director_success'] = train.apply(lambda row: getSuccess(row.rel_crew['Director'], directorsAndMovies, int(row.release_date[:4])) if row.release_date != 'nan' and 'Director' in row.rel_crew.keys() and type(row.release_date) == str else 0, axis = 1)\n",
    "train['producer_success'] = train.apply(lambda row: getSuccess(row.rel_crew['Producer'], producersAndMovies, int(row.release_date[:4])) if row.release_date != 'nan' and 'Producer' in row.rel_crew.keys() and type(row.release_date) == str else 0, axis = 1)\n",
    "train['actor1_success'] = train.apply(lambda row: getSuccess(row.rel_actors['actor1'], actorsAndMovies, int(row.release_date[:4])) if row.release_date != 'nan' and 'actor1' in row.rel_actors.keys() and type(row.release_date) == str else 0, axis = 1)\n",
    "train['actor2_success'] = train.apply(lambda row: getSuccess(row.rel_actors['actor2'], actorsAndMovies, int(row.release_date[:4])) if row.release_date != 'nan' and 'actor2' in row.rel_actors.keys() and type(row.release_date) == str else 0, axis = 1)\n",
    "\n",
    "test['director_success'] = test.apply(lambda row: getSuccess(row.rel_crew['Director'], directorsAndMovies, int(row.release_date[:4])) if row.release_date != 'nan' and 'Director' in row.rel_crew.keys() and type(row.release_date) == str else 0, axis = 1)\n",
    "test['producer_success'] = test.apply(lambda row: getSuccess(row.rel_crew['Producer'], producersAndMovies, int(row.release_date[:4])) if row.release_date != 'nan' and 'Producer' in row.rel_crew.keys() and type(row.release_date) == str else 0, axis = 1)\n",
    "test['actor1_success'] = test.apply(lambda row: getSuccess(row.rel_actors['actor1'], actorsAndMovies, int(row.release_date[:4])) if row.release_date != 'nan' and 'actor1' in row.rel_actors.keys() and type(row.release_date) == str else 0, axis = 1)\n",
    "test['actor2_success'] = test.apply(lambda row: getSuccess(row.rel_actors['actor2'], actorsAndMovies, int(row.release_date[:4])) if row.release_date != 'nan' and 'actor2' in row.rel_actors.keys() and type(row.release_date) == str else 0, axis = 1)"
   ]
  },
  {
   "cell_type": "code",
   "execution_count": null,
   "metadata": {},
   "outputs": [],
   "source": [
    "train['budget'] = np.log(train['budget'])\n",
    "test['budget'] = np.log(test['budget'])"
   ]
  },
  {
   "cell_type": "code",
   "execution_count": 51,
   "metadata": {},
   "outputs": [],
   "source": [
    "final_cols.extend(['director_success','producer_success','actor1_success','actor2_success'])"
   ]
  },
  {
   "cell_type": "code",
   "execution_count": 52,
   "metadata": {},
   "outputs": [],
   "source": [
    "train = train[final_cols + ['revenue']]\n",
    "test = test[final_cols]"
   ]
  },
  {
   "cell_type": "code",
   "execution_count": 59,
   "metadata": {},
   "outputs": [],
   "source": [
    "train = train.replace([np.inf, -np.inf], 0)\n",
    "test = test.replace([np.inf, -np.inf], 0)"
   ]
  },
  {
   "cell_type": "code",
   "execution_count": null,
   "metadata": {},
   "outputs": [],
   "source": [
    "train.to_csv('preptrain.csv', index=False)\n",
    "test.to_csv('preptest.csv', index=False)"
   ]
  },
  {
   "cell_type": "code",
   "execution_count": 13,
   "metadata": {},
   "outputs": [
    {
     "ename": "TypeError",
     "evalue": "parser_f() got an unexpected keyword argument 'index'",
     "output_type": "error",
     "traceback": [
      "\u001b[0;31m---------------------------------------------------------------------------\u001b[0m",
      "\u001b[0;31mTypeError\u001b[0m                                 Traceback (most recent call last)",
      "\u001b[0;32m<ipython-input-13-c034bd40a648>\u001b[0m in \u001b[0;36m<module>\u001b[0;34m\u001b[0m\n\u001b[0;32m----> 1\u001b[0;31m \u001b[0mtt\u001b[0m \u001b[0;34m=\u001b[0m \u001b[0mpd\u001b[0m\u001b[0;34m.\u001b[0m\u001b[0mread_csv\u001b[0m\u001b[0;34m(\u001b[0m\u001b[0;34m'preptest.csv'\u001b[0m\u001b[0;34m,\u001b[0m\u001b[0mindex\u001b[0m\u001b[0;34m=\u001b[0m\u001b[0;32mFalse\u001b[0m\u001b[0;34m)\u001b[0m\u001b[0;34m\u001b[0m\u001b[0;34m\u001b[0m\u001b[0m\n\u001b[0m",
      "\u001b[0;31mTypeError\u001b[0m: parser_f() got an unexpected keyword argument 'index'"
     ]
    }
   ],
   "source": [
    "tt = pd.read_csv('preptest.csv')"
   ]
  },
  {
   "cell_type": "code",
   "execution_count": 20,
   "metadata": {},
   "outputs": [
    {
     "ename": "TypeError",
     "evalue": "drop() got an unexpected keyword argument 'column'",
     "output_type": "error",
     "traceback": [
      "\u001b[0;31m---------------------------------------------------------------------------\u001b[0m",
      "\u001b[0;31mTypeError\u001b[0m                                 Traceback (most recent call last)",
      "\u001b[0;32m<ipython-input-20-102c935c14a8>\u001b[0m in \u001b[0;36m<module>\u001b[0;34m\u001b[0m\n\u001b[0;32m----> 1\u001b[0;31m \u001b[0mtt\u001b[0m\u001b[0;34m.\u001b[0m\u001b[0mdrop\u001b[0m\u001b[0;34m(\u001b[0m\u001b[0mcolumn\u001b[0m\u001b[0;34m=\u001b[0m\u001b[0;34m'Unnamed: 0'\u001b[0m\u001b[0;34m,\u001b[0m\u001b[0maxis\u001b[0m\u001b[0;34m=\u001b[0m\u001b[0;36m1\u001b[0m\u001b[0;34m)\u001b[0m\u001b[0;34m\u001b[0m\u001b[0;34m\u001b[0m\u001b[0m\n\u001b[0m",
      "\u001b[0;31mTypeError\u001b[0m: drop() got an unexpected keyword argument 'column'"
     ]
    }
   ],
   "source": [
    "tt.drop(column='Unnamed: 0',axis=1)"
   ]
  }
 ],
 "metadata": {
  "kernelspec": {
   "display_name": "Python 3",
   "language": "python",
   "name": "python3"
  },
  "language_info": {
   "codemirror_mode": {
    "name": "ipython",
    "version": 3
   },
   "file_extension": ".py",
   "mimetype": "text/x-python",
   "name": "python",
   "nbconvert_exporter": "python",
   "pygments_lexer": "ipython3",
   "version": "3.7.1"
  }
 },
 "nbformat": 4,
 "nbformat_minor": 2
}
