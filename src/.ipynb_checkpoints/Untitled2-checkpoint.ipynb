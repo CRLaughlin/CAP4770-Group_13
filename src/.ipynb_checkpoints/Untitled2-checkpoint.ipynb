{
 "cells": [
  {
   "cell_type": "code",
   "execution_count": 2,
   "metadata": {},
   "outputs": [],
   "source": [
    "import pandas as pd\n",
    "import matplotlib.pyplot as plt\n",
    "import numpy as np"
   ]
  },
  {
   "cell_type": "code",
   "execution_count": 4,
   "metadata": {},
   "outputs": [],
   "source": [
    "data = pd.read_csv('train.csv')"
   ]
  },
  {
   "cell_type": "code",
   "execution_count": 5,
   "metadata": {},
   "outputs": [],
   "source": [
    "na_revenue = data.loc[data['belongs_to_collection'].isna(), 'revenue']\n",
    "col_revenue = data.loc[data['belongs_to_collection'].notnull(),'revenue']\n",
    "revs = [na_revenue, col_revenue]"
   ]
  },
  {
   "cell_type": "code",
   "execution_count": 7,
   "metadata": {},
   "outputs": [
    {
     "name": "stdout",
     "output_type": "stream",
     "text": [
      "Number of movies not in collection: 2396\n",
      "Number of movies in collection: 604\n"
     ]
    }
   ],
   "source": [
    "print('Number of movies not in collection:',len(na_revenue))\n",
    "print('Number of movies in collection:', len(col_revenue))"
   ]
  },
  {
   "cell_type": "code",
   "execution_count": 8,
   "metadata": {},
   "outputs": [
    {
     "data": {
      "image/png": "[encoded data removed]",
      "text/plain": [
       "<Figure size 648x432 with 1 Axes>"
      ]
     },
     "metadata": {
      "needs_background": "light"
     },
     "output_type": "display_data"
    }
   ],
   "source": [
    "fig = plt.figure(1, figsize=(9, 6))\n",
    "ax = fig.add_subplot(111)\n",
    "bp = ax.boxplot(revs)\n",
    "ax.set_xticklabels(['Not Collection', 'Collection'])\n",
    "ax.set_ylabel('revenue')\n",
    "fig.savefig('diffcollection.png', bbox_inches='tight')"
   ]
  },
  {
   "cell_type": "code",
   "execution_count": 9,
   "metadata": {},
   "outputs": [
    {
     "name": "stdout",
     "output_type": "stream",
     "text": [
      "Interquartile range for solo\n",
      "25%: 1500000.0\t50%: 11407586.5\t75%: 48037395.5\n",
      "Interquartile range for collection\n",
      "25%: 17244570.0\t50%: 67417776.0\t75%: 189376384.75\n",
      "Difference\n",
      "25%: -15744570.0\t50%: -56010189.5\t75%: -141338989.25\n"
     ]
    }
   ],
   "source": [
    "q75n, q50n, q25n = np.percentile(na_revenue, [75,50,25])\n",
    "q75c, q50c, q25c = np.percentile(col_revenue,[75,50,25])\n",
    "\n",
    "print('Interquartile range for solo\\n25%: {}\\t50%: {}\\t75%: {}'.format(q25n, q50n, q75n))\n",
    "print('Interquartile range for collection\\n25%: {}\\t50%: {}\\t75%: {}'.format(q25c, q50c, q75c))\n",
    "print('Difference\\n25%: {}\\t50%: {}\\t75%: {}'.format(q25n-q25c, q50n-q50c, q75n-q75c))\n",
    "\n",
    "#Correlation that belonging in a collection means higher revenue"
   ]
  },
  {
   "cell_type": "code",
   "execution_count": 10,
   "metadata": {},
   "outputs": [],
   "source": [
    "use_data = pd.DataFrame()\n",
    "use_data['iscollect'] = data['belongs_to_collection'].notnull().astype('int')\n",
    "use_data['revenue'] = np.log(data['revenue'])"
   ]
  },
  {
   "cell_type": "code",
   "execution_count": 11,
   "metadata": {},
   "outputs": [],
   "source": [
    "import json"
   ]
  },
  {
   "cell_type": "code",
   "execution_count": 13,
   "metadata": {},
   "outputs": [],
   "source": [
    "genres = data['genres']"
   ]
  },
  {
   "cell_type": "code",
   "execution_count": 14,
   "metadata": {},
   "outputs": [],
   "source": [
    "unique_genres = set()\n",
    "for gen in genres:\n",
    "    try:\n",
    "        names = json.loads(gen.replace(\"'\",'\"'))\n",
    "        name_list = [name['name'] for name in names]\n",
    "        unique_genres.update(name_list)\n",
    "    except:\n",
    "        pass"
   ]
  },
  {
   "cell_type": "code",
   "execution_count": 15,
   "metadata": {},
   "outputs": [
    {
     "data": {
      "text/plain": [
       "['Crime',\n",
       " 'Thriller',\n",
       " 'Animation',\n",
       " 'Action',\n",
       " 'Romance',\n",
       " 'Family',\n",
       " 'Drama',\n",
       " 'Documentary',\n",
       " 'War',\n",
       " 'Science Fiction',\n",
       " 'Mystery',\n",
       " 'Western',\n",
       " 'Fantasy',\n",
       " 'Music',\n",
       " 'Comedy',\n",
       " 'History',\n",
       " 'Adventure',\n",
       " 'TV Movie',\n",
       " 'Foreign',\n",
       " 'Horror']"
      ]
     },
     "execution_count": 15,
     "metadata": {},
     "output_type": "execute_result"
    }
   ],
   "source": [
    "list(unique_genres)"
   ]
  },
  {
   "cell_type": "code",
   "execution_count": 16,
   "metadata": {},
   "outputs": [],
   "source": [
    "use_data = use_data.reindex(list(unique_genres)+['iscollect'],fill_value=0,axis='columns')"
   ]
  },
  {
   "cell_type": "code",
   "execution_count": 17,
   "metadata": {},
   "outputs": [],
   "source": [
    "for i, gen in enumerate(genres):\n",
    "    try:\n",
    "        names = json.loads(gen.replace(\"'\",'\"'))\n",
    "        name_list = [name['name'] for name in names]\n",
    "        for n in name_list:\n",
    "            use_data.at[i,n] = 1\n",
    "    except:\n",
    "        pass"
   ]
  },
  {
   "cell_type": "code",
   "execution_count": 18,
   "metadata": {},
   "outputs": [],
   "source": [
    "rev = data['revenue']"
   ]
  },
  {
   "cell_type": "code",
   "execution_count": 19,
   "metadata": {},
   "outputs": [
    {
     "data": {
      "text/plain": [
       "(array([2.632e+03, 2.180e+02, 7.900e+01, 2.400e+01, 1.800e+01, 1.200e+01,\n",
       "        1.100e+01, 2.000e+00, 1.000e+00, 3.000e+00]),\n",
       " array([1.00000000e+00, 1.51955792e+08, 3.03911583e+08, 4.55867374e+08,\n",
       "        6.07823165e+08, 7.59778956e+08, 9.11734746e+08, 1.06369054e+09,\n",
       "        1.21564633e+09, 1.36760212e+09, 1.51955791e+09]),\n",
       " <a list of 10 Patch objects>)"
      ]
     },
     "execution_count": 19,
     "metadata": {},
     "output_type": "execute_result"
    },
    {
     "data": {
      "image/png": "[encoded data removed]",
      "text/plain": [
       "<Figure size 432x288 with 1 Axes>"
      ]
     },
     "metadata": {
      "needs_background": "light"
     },
     "output_type": "display_data"
    }
   ],
   "source": [
    "#Looks like the data has an exponential distribution\n",
    "plt.hist(rev, bins=10)\n",
    "plt.savefig()"
   ]
  }
 ],
 "metadata": {
  "kernelspec": {
   "display_name": "Python 3",
   "language": "python",
   "name": "python3"
  },
  "language_info": {
   "codemirror_mode": {
    "name": "ipython",
    "version": 3
   },
   "file_extension": ".py",
   "mimetype": "text/x-python",
   "name": "python",
   "nbconvert_exporter": "python",
   "pygments_lexer": "ipython3",
   "version": "3.7.1"
  }
 },
 "nbformat": 4,
 "nbformat_minor": 2
}
